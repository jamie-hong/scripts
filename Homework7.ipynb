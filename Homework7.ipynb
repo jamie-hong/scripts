{
 "metadata": {
  "name": "",
  "signature": "sha256:397182860a8676b0d590074cfba338f550d708b3b42a48518dd29d73503cc62d"
 },
 "nbformat": 3,
 "nbformat_minor": 0,
 "worksheets": [
  {
   "cells": [
    {
     "cell_type": "code",
     "collapsed": false,
     "input": [
      "%pylab inline\n",
      "import math"
     ],
     "language": "python",
     "metadata": {},
     "outputs": [
      {
       "output_type": "stream",
       "stream": "stdout",
       "text": [
        "Populating the interactive namespace from numpy and matplotlib\n"
       ]
      }
     ],
     "prompt_number": 3
    },
    {
     "cell_type": "heading",
     "level": 1,
     "metadata": {},
     "source": [
      "Homework Set 7"
     ]
    },
    {
     "cell_type": "markdown",
     "metadata": {},
     "source": [
      "# Homework\n",
      "\n",
      "\n",
      "\n",
      "Similar to our example in class, here is the table of future liabilities (in $millions):\n",
      "\n",
      "|  Years | 1 | 2 | 3 | 4 | 5 | 6 | 7 | 8 | 9 |\n",
      "| :-----: | :----: | :----: | :----: | :----: | :----: | :----: | :----: | :----: | :----: |\n",
      "|  Benefits($millions) | 24 | 26 | 28 | 28 | 26 | 29 | 32 | 33 | 34 |\n",
      "\n",
      "\n",
      "And here is the set of bonds that can be invested in:\n",
      "\n",
      "|  Bonds | 1 | 2 | 3 | 4 | 5 | 6 | 7 | 8 | 9 | 10 | 11 | 12 |\n",
      "| :-----: | :----: | :----: | :----: | :----: | :----: | :----: | :----: | :----: | :----: | :----: | :----: | :----: |\n",
      "|  Price | 102 | 101.625 | 103 | 102 | 102 | 103 | 101 | 101.5 | 102 | 102.75 | 103 | 104 |\n",
      "|  Coupon(%) | 1.25 | 1.5 | 2.5 | 1.75 | 2.125 | 2.5 | 2.625 | 3 | 3.125 | 3.5 |  3.75 | 4.5 |\n",
      "|  Maturity(Years) | 1 | 2 | 2 | 3 | 4 | 5 | 5 | 6 | 7 | 8 |  8 | 9 |\n",
      "\n",
      "\n",
      "Find the **least cost** portfolio of bonds so that the pension fund can meet its future liabilities. Please show your LP problem set up.\n"
     ]
    }
   ],
   "metadata": {}
  }
 ]
}