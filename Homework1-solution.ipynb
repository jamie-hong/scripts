{
 "metadata": {
  "kernelspec": {
   "display_name": "Python 2",
   "language": "python",
   "name": "python2"
  },
  "language_info": {
   "codemirror_mode": {
    "name": "ipython",
    "version": 2
   },
   "file_extension": ".py",
   "mimetype": "text/x-python",
   "name": "python",
   "nbconvert_exporter": "python",
   "pygments_lexer": "ipython2",
   "version": "2.7.6"
  },
  "name": ""
 },
 "nbformat": 3,
 "nbformat_minor": 0,
 "worksheets": [
  {
   "cells": [
    {
     "cell_type": "code",
     "collapsed": false,
     "input": [
      "%pylab inline\n",
      "\n",
      "import sympy as sp\n",
      "import fmt"
     ],
     "language": "python",
     "metadata": {},
     "outputs": [
      {
       "output_type": "stream",
       "stream": "stdout",
       "text": [
        "Populating the interactive namespace from numpy and matplotlib\n"
       ]
      }
     ],
     "prompt_number": 1
    },
    {
     "cell_type": "heading",
     "level": 1,
     "metadata": {
      "slideshow": {
       "slide_type": "slide"
      }
     },
     "source": [
      "Homework Set 1"
     ]
    },
    {
     "cell_type": "markdown",
     "metadata": {},
     "source": [
      "## Problem 1:\n",
      "\n",
      "Set up your Python and IPython notebook environment and show case the following IPython functionalities:\n",
      "\n",
      "2. use ? or help() to show comments (docstring) of a python function\n",
      "3. use %pdb to debug the following code, show how to print out the value of b inside function bug() using the debugger"
     ]
    },
    {
     "cell_type": "code",
     "collapsed": false,
     "input": [
      "help(len)"
     ],
     "language": "python",
     "metadata": {},
     "outputs": [
      {
       "output_type": "stream",
       "stream": "stdout",
       "text": [
        "Help on built-in function len in module __builtin__:\n",
        "\n",
        "len(...)\n",
        "    len(object) -> integer\n",
        "    \n",
        "    Return the number of items of a sequence or mapping.\n",
        "\n"
       ]
      }
     ],
     "prompt_number": 2
    },
    {
     "cell_type": "code",
     "collapsed": false,
     "input": [
      "%pdb on \n",
      "\n",
      "def div(a, b) :\n",
      "    return a/b\n",
      "\n",
      "def bug(a, b) :\n",
      "    return div(a, b)\n",
      "\n",
      "bug(3, 0)"
     ],
     "language": "python",
     "metadata": {},
     "outputs": [
      {
       "output_type": "stream",
       "stream": "stdout",
       "text": [
        "Automatic pdb calling has been turned ON\n"
       ]
      },
      {
       "ename": "ZeroDivisionError",
       "evalue": "integer division or modulo by zero",
       "output_type": "pyerr",
       "traceback": [
        "\u001b[1;31m---------------------------------------------------------------------------\u001b[0m\n\u001b[1;31mZeroDivisionError\u001b[0m                         Traceback (most recent call last)",
        "\u001b[1;32m<ipython-input-3-1e03657cd3ef>\u001b[0m in \u001b[0;36m<module>\u001b[1;34m()\u001b[0m\n\u001b[0;32m      7\u001b[0m     \u001b[1;32mreturn\u001b[0m \u001b[0mdiv\u001b[0m\u001b[1;33m(\u001b[0m\u001b[0ma\u001b[0m\u001b[1;33m,\u001b[0m \u001b[0mb\u001b[0m\u001b[1;33m)\u001b[0m\u001b[1;33m\u001b[0m\u001b[0m\n\u001b[0;32m      8\u001b[0m \u001b[1;33m\u001b[0m\u001b[0m\n\u001b[1;32m----> 9\u001b[1;33m \u001b[0mbug\u001b[0m\u001b[1;33m(\u001b[0m\u001b[1;36m3\u001b[0m\u001b[1;33m,\u001b[0m \u001b[1;36m0\u001b[0m\u001b[1;33m)\u001b[0m\u001b[1;33m\u001b[0m\u001b[0m\n\u001b[0m",
        "\u001b[1;32m<ipython-input-3-1e03657cd3ef>\u001b[0m in \u001b[0;36mbug\u001b[1;34m(a, b)\u001b[0m\n\u001b[0;32m      5\u001b[0m \u001b[1;33m\u001b[0m\u001b[0m\n\u001b[0;32m      6\u001b[0m \u001b[1;32mdef\u001b[0m \u001b[0mbug\u001b[0m\u001b[1;33m(\u001b[0m\u001b[0ma\u001b[0m\u001b[1;33m,\u001b[0m \u001b[0mb\u001b[0m\u001b[1;33m)\u001b[0m \u001b[1;33m:\u001b[0m\u001b[1;33m\u001b[0m\u001b[0m\n\u001b[1;32m----> 7\u001b[1;33m     \u001b[1;32mreturn\u001b[0m \u001b[0mdiv\u001b[0m\u001b[1;33m(\u001b[0m\u001b[0ma\u001b[0m\u001b[1;33m,\u001b[0m \u001b[0mb\u001b[0m\u001b[1;33m)\u001b[0m\u001b[1;33m\u001b[0m\u001b[0m\n\u001b[0m\u001b[0;32m      8\u001b[0m \u001b[1;33m\u001b[0m\u001b[0m\n\u001b[0;32m      9\u001b[0m \u001b[0mbug\u001b[0m\u001b[1;33m(\u001b[0m\u001b[1;36m3\u001b[0m\u001b[1;33m,\u001b[0m \u001b[1;36m0\u001b[0m\u001b[1;33m)\u001b[0m\u001b[1;33m\u001b[0m\u001b[0m\n",
        "\u001b[1;32m<ipython-input-3-1e03657cd3ef>\u001b[0m in \u001b[0;36mdiv\u001b[1;34m(a, b)\u001b[0m\n\u001b[0;32m      2\u001b[0m \u001b[1;33m\u001b[0m\u001b[0m\n\u001b[0;32m      3\u001b[0m \u001b[1;32mdef\u001b[0m \u001b[0mdiv\u001b[0m\u001b[1;33m(\u001b[0m\u001b[0ma\u001b[0m\u001b[1;33m,\u001b[0m \u001b[0mb\u001b[0m\u001b[1;33m)\u001b[0m \u001b[1;33m:\u001b[0m\u001b[1;33m\u001b[0m\u001b[0m\n\u001b[1;32m----> 4\u001b[1;33m     \u001b[1;32mreturn\u001b[0m \u001b[0ma\u001b[0m\u001b[1;33m/\u001b[0m\u001b[0mb\u001b[0m\u001b[1;33m\u001b[0m\u001b[0m\n\u001b[0m\u001b[0;32m      5\u001b[0m \u001b[1;33m\u001b[0m\u001b[0m\n\u001b[0;32m      6\u001b[0m \u001b[1;32mdef\u001b[0m \u001b[0mbug\u001b[0m\u001b[1;33m(\u001b[0m\u001b[0ma\u001b[0m\u001b[1;33m,\u001b[0m \u001b[0mb\u001b[0m\u001b[1;33m)\u001b[0m \u001b[1;33m:\u001b[0m\u001b[1;33m\u001b[0m\u001b[0m\n",
        "\u001b[1;31mZeroDivisionError\u001b[0m: integer division or modulo by zero"
       ]
      },
      {
       "output_type": "stream",
       "stream": "stdout",
       "text": [
        "> \u001b[1;32m<ipython-input-3-1e03657cd3ef>\u001b[0m(4)\u001b[0;36mdiv\u001b[1;34m()\u001b[0m\n",
        "\u001b[1;32m      3 \u001b[1;33m\u001b[1;32mdef\u001b[0m \u001b[0mdiv\u001b[0m\u001b[1;33m(\u001b[0m\u001b[0ma\u001b[0m\u001b[1;33m,\u001b[0m \u001b[0mb\u001b[0m\u001b[1;33m)\u001b[0m \u001b[1;33m:\u001b[0m\u001b[1;33m\u001b[0m\u001b[0m\n",
        "\u001b[0m\u001b[1;32m----> 4 \u001b[1;33m    \u001b[1;32mreturn\u001b[0m \u001b[0ma\u001b[0m\u001b[1;33m/\u001b[0m\u001b[0mb\u001b[0m\u001b[1;33m\u001b[0m\u001b[0m\n",
        "\u001b[0m\u001b[1;32m      5 \u001b[1;33m\u001b[1;33m\u001b[0m\u001b[0m\n",
        "\u001b[0m\n"
       ]
      },
      {
       "name": "stdout",
       "output_type": "stream",
       "stream": "stdout",
       "text": [
        "ipdb> u\n"
       ]
      },
      {
       "output_type": "stream",
       "stream": "stdout",
       "text": [
        "> \u001b[1;32m<ipython-input-3-1e03657cd3ef>\u001b[0m(7)\u001b[0;36mbug\u001b[1;34m()\u001b[0m\n",
        "\u001b[1;32m      6 \u001b[1;33m\u001b[1;32mdef\u001b[0m \u001b[0mbug\u001b[0m\u001b[1;33m(\u001b[0m\u001b[0ma\u001b[0m\u001b[1;33m,\u001b[0m \u001b[0mb\u001b[0m\u001b[1;33m)\u001b[0m \u001b[1;33m:\u001b[0m\u001b[1;33m\u001b[0m\u001b[0m\n",
        "\u001b[0m\u001b[1;32m----> 7 \u001b[1;33m    \u001b[1;32mreturn\u001b[0m \u001b[0mdiv\u001b[0m\u001b[1;33m(\u001b[0m\u001b[0ma\u001b[0m\u001b[1;33m,\u001b[0m \u001b[0mb\u001b[0m\u001b[1;33m)\u001b[0m\u001b[1;33m\u001b[0m\u001b[0m\n",
        "\u001b[0m\u001b[1;32m      8 \u001b[1;33m\u001b[1;33m\u001b[0m\u001b[0m\n",
        "\u001b[0m\n"
       ]
      },
      {
       "name": "stdout",
       "output_type": "stream",
       "stream": "stdout",
       "text": [
        "ipdb> p\n"
       ]
      },
      {
       "output_type": "stream",
       "stream": "stdout",
       "text": [
        "*** SyntaxError: SyntaxError('unexpected EOF while parsing', ('<string>', 0, 0, ''))\n"
       ]
      },
      {
       "name": "stdout",
       "output_type": "stream",
       "stream": "stdout",
       "text": [
        "ipdb> p b\n"
       ]
      },
      {
       "output_type": "stream",
       "stream": "stdout",
       "text": [
        "0\n"
       ]
      },
      {
       "name": "stdout",
       "output_type": "stream",
       "stream": "stdout",
       "text": [
        "ipdb> quit\n"
       ]
      }
     ],
     "prompt_number": 3
    },
    {
     "cell_type": "markdown",
     "metadata": {},
     "source": [
      "## Problem 2:\n",
      "\n",
      "For the first term of the conditional variance expression of the CIR process discused in the class:\n",
      "\n",
      "$$f(\\kappa) = \\frac{r_0\\sigma^2}{\\kappa}(e^{-\\kappa t} - e^{-2\\kappa t})$$\n",
      "\n",
      "1. compute its condition number, assuming $\\kappa$ is the only variable, comment on whether the computation is stable around $\\kappa = 0$\n",
      "2. implement a function to compute the above expression, which is numerically stable around $\\kappa = 0$. A typical approach is to switch to an approximation when $\\kappa$ is smaller than a threshold $h$. Explain your choice of $h$, is the $h$ different for double of single precision calculation?  "
     ]
    },
    {
     "cell_type": "heading",
     "level": 3,
     "metadata": {},
     "source": [
      "Solution"
     ]
    },
    {
     "cell_type": "code",
     "collapsed": false,
     "input": [
      "sp.init_printing(use_latex = True)\n",
      "\n",
      "#sympy claculation of the condition number\n",
      "k, kappa, r0, sigma, t = sp.symbols(\"k(f), kappa, r_0, sigma, t\", positive=True)\n",
      "f = r0*sigma**2/kappa*(sp.exp(-kappa*t) - sp.exp(-2*kappa*t))\n",
      "\n",
      "print \"condition number:\"\n",
      "kf = sp.simplify(kappa/f*f.diff(kappa))\n",
      "fmt.displayMath(sp.Eq(k, kf))\n",
      "\n",
      "print \"the limit when k = 0 is :\"\n",
      "fmt.displayMath(sp.limit(kf, kappa, 0));\n",
      "sp.init_printing(use_latex = False)"
     ],
     "language": "python",
     "metadata": {},
     "outputs": [
      {
       "output_type": "stream",
       "stream": "stdout",
       "text": [
        "condition number:\n"
       ]
      },
      {
       "latex": [
        "$$ k(f) = \\frac{1}{e^{\\kappa t} - 1} \\left(- \\kappa t \\left(e^{\\kappa t} - 2\\right) - e^{\\kappa t} + 1\\right)$$"
       ],
       "metadata": {},
       "output_type": "display_data",
       "text": [
        "<IPython.core.display.Math object>"
       ]
      },
      {
       "output_type": "stream",
       "stream": "stdout",
       "text": [
        "the limit when k = 0 is :\n"
       ]
      },
      {
       "latex": [
        "$$ 0$$"
       ],
       "metadata": {},
       "output_type": "display_data",
       "text": [
        "<IPython.core.display.Math object>"
       ]
      }
     ],
     "prompt_number": 15
    },
    {
     "cell_type": "markdown",
     "metadata": {},
     "source": [
      "1. the condition number and its limit at $\\kappa=0$ are shwon above (computed using sympy).\n",
      "$\\lim_{\\kappa \\rightarrow 0} k(f) = 0$, and $k(f)$ grows linearly for large $\\kappa$. $f(\\kappa)$ is practically stable as it will underflow to 0 before the condition number become large.\n",
      "\n",
      "2. Make use the following limit for small $\\kappa t < h$:\n",
      "$$ \\lim_{\\kappa \\rightarrow 0} f(\\kappa) =  r_0 \\sigma^2 t $$\n",
      "The error of the Taylor expansion is on the order of $O(h^2)$, thus there is no benefit to choose any $h$ smaller than the square root of the machine precision, i.e., $h > \\sqrt{\\epsilon_m} \\approx 10^{-8}$ for double precision and roughly $10^{-4}$ for single precision."
     ]
    },
    {
     "cell_type": "markdown",
     "metadata": {},
     "source": [
      "## Problem 3:\n",
      "\n",
      "Implement a matrix product function using hand coded loops in python, please feel free to use numpy array and numpy vector multiplications, but obviously you should not just call numpy matrix multiplication.\n",
      "\n",
      "Compare the speed of your implementation to the numpy matrix product version, plot the difference in computational time with the size of the matrix.\n",
      "\n",
      "\n",
      "Hint: \n",
      "\n",
      "* %timeit is a useful timing tool in IPython, or you can use time.clock() function\n",
      "* numpy has two ways of representing matrix, one is array of arrays, another is matrix type. For array types, the matrix production is ```a.dot(b)```, for matrix type, the matrix production is ```a*b```. We recommend you to stick with array type to avoid any potential confusions. The ```a*b``` on array type is element wise multiplication. A common mistake is use ```a*b``` for matrix production on array type. Please see the following code section as an example.\n",
      "* numpy.allclose is a useful funciton to compare floating point calculation results\n"
     ]
    },
    {
     "cell_type": "code",
     "collapsed": false,
     "input": [
      "a = np.array([[1, 2, 3], [4, 5, 6], [7, 8, 9]])\n",
      "b = a + 1\n",
      "print \"a=\\n\", a \n",
      "print \"\\nb=\\n\", b\n",
      "c = a.dot(b) # matrix product\n",
      "d = a*b #elment wise multiplication\n",
      "\n",
      "print \"\\nc=a.dot(b)\\n\", c\n",
      "print \"\\nd=a*b\\n\", d"
     ],
     "language": "python",
     "metadata": {},
     "outputs": [
      {
       "output_type": "stream",
       "stream": "stdout",
       "text": [
        "a=\n",
        "[[1 2 3]\n",
        " [4 5 6]\n",
        " [7 8 9]]\n",
        "\n",
        "b=\n",
        "[[ 2  3  4]\n",
        " [ 5  6  7]\n",
        " [ 8  9 10]]\n",
        "\n",
        "c=a.dot(b)\n",
        "[[ 36  42  48]\n",
        " [ 81  96 111]\n",
        " [126 150 174]]\n",
        "\n",
        "d=a*b\n",
        "[[ 2  6 12]\n",
        " [20 30 42]\n",
        " [56 72 90]]\n"
       ]
      }
     ],
     "prompt_number": 16
    },
    {
     "cell_type": "markdown",
     "metadata": {},
     "source": [
      "### Solution\n",
      "\n",
      "The chart below showed that the hand coded matrix production could be 400x slower than the numpy version. The main reason is that the numpy matrix production is calling highly optimized C library of LAPACK for linear algebra."
     ]
    },
    {
     "cell_type": "code",
     "collapsed": false,
     "input": [
      "from numpy.random import uniform\n",
      "\n",
      "def matprod(am, bm) :\n",
      "    a1, a2 = np.shape(am)\n",
      "    b1, b2 = np.shape(bm)\n",
      "    \n",
      "    assert a2 == b1, \"matrix size mismatch\"\n",
      "    \n",
      "    vm = []\n",
      "    for a in am :\n",
      "        v = []\n",
      "        for b in bm.T :\n",
      "            v.append(sum(a*b))\n",
      "        vm.append(v)\n",
      "        \n",
      "    return np.array(vm)\n",
      "            \n",
      "am = uniform(size=[5, 4])\n",
      "bm = uniform(size=[4, 8])\n",
      "\n",
      "# test if the matrix production is correct\n",
      "print \"allclose = \", np.allclose(matprod(am, bm), am.dot(bm))\n",
      "\n",
      "ns = [10, 20, 40, 80, 160, 320]\n",
      "timing = []\n",
      "\n",
      "for n in ns:\n",
      "    am = uniform(size=[n, n])\n",
      "    bm = uniform(size=[n, n])\n",
      "    r1 = %timeit -n 3 -o matprod(am, bm);\n",
      "    r2 = %timeit -n 3 -o am.dot(bm);\n",
      "    timing.append((r1.best, r2.best))\n",
      "    \n",
      "timing = np.array(timing)"
     ],
     "language": "python",
     "metadata": {},
     "outputs": [
      {
       "output_type": "stream",
       "stream": "stdout",
       "text": [
        "allclose =  True\n",
        "3 loops, best of 3: 555 \u00b5s per loop\n",
        "The slowest run took 1763.50 times longer than the fastest. This could mean that an intermediate result is being cached \n",
        "3 loops, best of 3: 2.18 \u00b5s per loop\n",
        "3 loops, best of 3: 1.9 ms per loop\n",
        "The slowest run took 681.71 times longer than the fastest. This could mean that an intermediate result is being cached \n",
        "3 loops, best of 3: 7 \u00b5s per loop\n",
        "3 loops, best of 3: 7.87 ms per loop\n",
        "The slowest run took 6.96 times longer than the fastest. This could mean that an intermediate result is being cached \n",
        "3 loops, best of 3: 20.7 \u00b5s per loop\n",
        "3 loops, best of 3: 30 ms per loop\n",
        "3 loops, best of 3: 84.8 \u00b5s per loop\n",
        "3 loops, best of 3: 127 ms per loop\n",
        "3 loops, best of 3: 412 \u00b5s per loop\n",
        "3 loops, best of 3: 608 ms per loop\n",
        "3 loops, best of 3: 3.01 ms per loop\n"
       ]
      }
     ],
     "prompt_number": 17
    },
    {
     "cell_type": "code",
     "collapsed": false,
     "input": [
      "figure(figsize=[12, 4])\n",
      "subplot(1, 2, 1)\n",
      "\n",
      "title('Time for matrix product')\n",
      "loglog(ns, timing, '->')\n",
      "legend(['hand coded', 'numpy'], loc='best')\n",
      "xlabel('Matrix size')\n",
      "\n",
      "subplot(1, 2, 2)\n",
      "plot(ns, timing[:,0]/timing[:,1], '->')\n",
      "xlabel('Matrix Size')\n",
      "title('Performance Ratio');"
     ],
     "language": "python",
     "metadata": {},
     "outputs": [
      {
       "metadata": {},
       "output_type": "display_data",
       "png": "[encoded data removed]",
       "text": [
        "<matplotlib.figure.Figure at 0xb0f2278>"
       ]
      }
     ],
     "prompt_number": 18
    },
    {
     "cell_type": "heading",
     "level": 2,
     "metadata": {},
     "source": [
      "Book problems"
     ]
    },
    {
     "cell_type": "markdown",
     "metadata": {},
     "source": [
      "### 2.8\n",
      "\n",
      "Hint: \n",
      "\n",
      "* The extra credit part of this problem is rather involved, you are encouraged to try but there is no need to spend too much time.\n",
      "* In python, floating point numbers are double precision by default, but you can force them to be single precision by calling numpy.float32, please see the following example:"
     ]
    },
    {
     "cell_type": "code",
     "collapsed": false,
     "input": [
      "a = np.float32(1.)\n",
      "b = np.float64(1.)\n",
      "\n",
      "print type(a), type(b)"
     ],
     "language": "python",
     "metadata": {},
     "outputs": [
      {
       "output_type": "stream",
       "stream": "stdout",
       "text": [
        "<type 'numpy.float32'> <type 'numpy.float64'>\n"
       ]
      }
     ],
     "prompt_number": 19
    },
    {
     "cell_type": "markdown",
     "metadata": {},
     "source": [
      "a) plot of $f_n$ and $p_n$:"
     ]
    },
    {
     "cell_type": "code",
     "collapsed": false,
     "input": [
      "def pib(n, c, t) :\n",
      "    # t is a function, intended to switch btw single and double precision\n",
      "    a, b = map(t, [0., 1.])\n",
      "    fs = [a]\n",
      "    for i in range(n) :\n",
      "        a, b = b, a + c*b\n",
      "        fs.append(a)\n",
      "        \n",
      "    return fs\n",
      "\n",
      "c = 1. + np.sqrt(3.)/100.\n",
      "n = 100\n",
      "\n",
      "semilogy(pib(n, 1., np.float64))\n",
      "semilogy(pib(n, c, np.float64))\n",
      "axhline(1./5.96e-8, color='r')\n",
      "axhline(1./1.11e-16, color='r')\n",
      "legend([\"Fibonacci\", \"pib\", \"$1/\\\\epsilon_s$\", \"$1/\\\\epsilon_d$\"], loc='best');"
     ],
     "language": "python",
     "metadata": {},
     "outputs": [
      {
       "metadata": {},
       "output_type": "display_data",
       "png": "[encoded data removed]",
       "text": [
        "<matplotlib.figure.Figure at 0xb371ba8>"
       ]
      }
     ],
     "prompt_number": 20
    },
    {
     "cell_type": "markdown",
     "metadata": {},
     "source": [
      "b/c) the pib inversion becomes unstable much faster than the fib series. For double precision calculation, the fib series' error remains at 0 until around 1/$\\epsilon_d$, and pib series' error continues to increase steadily. The Pib situation is more typical. The following cell shows the double precision results, "
     ]
    },
    {
     "cell_type": "code",
     "collapsed": false,
     "input": [
      "def invpib(a, b, c, n, t) :\n",
      "    # t is a function, in python functions is first class citizen, that can be passed in and returned from functions\n",
      "    # we use t to switch between double and single precision calculations\n",
      "    a, b, c = map(t, [a, b, c]) # if t=numpy.float32, this makes all numbers single precision\n",
      "    for i in range(n) :\n",
      "        a, b = b-c*a, a\n",
      "        \n",
      "    return a\n",
      "\n",
      "def showPibChart(float_type) :\n",
      "    c = 1. + np.sqrt(3.)/100.\n",
      "    fb = pib(105, 1, float_type)\n",
      "    pb = pib(105, c, float_type) \n",
      "\n",
      "    figure(figsize=[12, 4])\n",
      "    subplot(1, 2, 1)\n",
      "\n",
      "    m = 90\n",
      "    v1 = np.array([invpib(fb[n+1], fb[n+2], 1, n, float_type) for n in range(m)])\n",
      "    semilogy(np.abs(v1-1), '.-')\n",
      "    title('Error in Fib')\n",
      "\n",
      "    subplot(1, 2, 2)\n",
      "    v2 = np.array([invpib(pb[n+1], pb[n+2], c, n, float_type) for n in range(m)])\n",
      "    semilogy(np.abs(v2-1), '.-')\n",
      "    title('Error in Pib');\n",
      "    return v1, v2\n",
      "    \n",
      "v1, v2 = showPibChart(np.float64)"
     ],
     "language": "python",
     "metadata": {},
     "outputs": [
      {
       "metadata": {},
       "output_type": "display_data",
       "png": "[encoded data removed]",
       "text": [
        "<matplotlib.figure.Figure at 0xb56fbe0>"
       ]
      }
     ],
     "prompt_number": 21
    },
    {
     "cell_type": "markdown",
     "metadata": {},
     "source": [
      "Single precision case:"
     ]
    },
    {
     "cell_type": "code",
     "collapsed": false,
     "input": [
      "showPibChart(np.float32);"
     ],
     "language": "python",
     "metadata": {},
     "outputs": [
      {
       "metadata": {},
       "output_type": "display_data",
       "png": "[encoded data removed]",
       "text": [
        "<matplotlib.figure.Figure at 0xd9f6e10>"
       ]
      }
     ],
     "prompt_number": 22
    },
    {
     "cell_type": "markdown",
     "metadata": {},
     "source": [
      "Extra credit question:\n",
      "\n",
      "The extra credit part is a bit involved, it's okay if you don't fully get it now. Once we go through the eigen values in the next lecture, it will become easier to follow.\n",
      "\n",
      "We can write the recursive calculation of Pib series (Fib is a special case of $c=1$) in the following matrix format, in the forward calculation:\n",
      "\n",
      "$$\n",
      "\\left(\\begin{array}{l}\n",
      "p_{i} \\\\\n",
      "p_{i+1}\n",
      "\\end{array}\\right)\n",
      "=\\left(\\begin{array}{l}\n",
      "0 & 1 \\\\\n",
      "1 & c\n",
      "\\end{array}\\right)\n",
      "\\left(\\begin{array}{l}\n",
      "p_{i-1} \\\\\n",
      "p_{i}\n",
      "\\end{array}\\right)\n",
      "\\iff \n",
      "\\left(\\begin{array}{l}\n",
      "p_{n} \\\\\n",
      "p_{n+1}\n",
      "\\end{array}\\right)\n",
      "=\\left(\\begin{array}{l}\n",
      "0 & 1 \\\\\n",
      "1 & c\n",
      "\\end{array}\\right)^n\n",
      "\\left(\\begin{array}{l}\n",
      "p_{0} \\\\\n",
      "p_{1}\n",
      "\\end{array}\\right)\n",
      "$$\n",
      "\n",
      "similarly in the backward calculation:\n",
      "\n",
      "$$\n",
      "\\left(\\begin{array}{l}\n",
      "p_{i-1} \\\\\n",
      "p_i\n",
      "\\end{array}\\right)\n",
      "=\\left(\\begin{array}{l}\n",
      "-c & 1 \\\\\n",
      "1 & 0\n",
      "\\end{array}\\right)\n",
      "\\left(\\begin{array}{l}\n",
      "p_{i} \\\\\n",
      "p_{i+1}\n",
      "\\end{array}\\right)\n",
      "\\iff\n",
      "\\left(\\begin{array}{l}\n",
      "p_{0} \\\\\n",
      "p_1\n",
      "\\end{array}\\right)\n",
      "=\\left(\\begin{array}{l}\n",
      "-c & 1 \\\\\n",
      "1 & 0\n",
      "\\end{array}\\right)^n\n",
      "\\left(\\begin{array}{l}\n",
      "p_{n} \\\\\n",
      "p_{n+1}\n",
      "\\end{array}\\right)\n",
      "$$\n",
      "\n",
      "so essentially, the problem is asking how well the numerical calculation of:\n",
      "$$\n",
      "\\left(\\begin{array}{l}\n",
      "0 & 1 \\\\\n",
      "1 & c\n",
      "\\end{array}\\right)^n\\left(\\begin{array}{l}\n",
      "-c & 1 \\\\\n",
      "1 & 0\n",
      "\\end{array}\\right)^n$$\n",
      "\n",
      "stay close to its true value of $$\\left(\\begin{array}{l}\n",
      "1 & 0 \\\\\n",
      "0 & 1\n",
      "\\end{array}\\right)\n",
      "$$\n",
      "\n",
      "Consider the Fibonacci series with $c=1$, all the computation stays in the integer domain, thus there is no rounding error. Here note that all integers that are shorter than the significant bits of IEEE754 are represented exactly as floating numbers, thus there is no loss of precision for all integers that are smaller than 1/$\\epsilon$. Therefore initial value of 1 are exactly recovered until around 1/$\\epsilon$.\n",
      "\n",
      "However, in the Pib series with $c = 1 + \\sqrt 3/100$, the calculation are no longer contained within the integer domain, each step there are rounding error of $1.12 \\times 10^{-16}$ in double precision. In addition, the largest eigen value of the pib matrix is about 1.618, therefore, every additional step the error grow by 1.618 times. The following chart shows that this is an accurate estimate of the error in the Pib series. The square of 1.618 is because of the round trip."
     ]
    },
    {
     "cell_type": "code",
     "collapsed": false,
     "input": [
      "c = 1. + np.sqrt(3.)/100.\n",
      "c = 1\n",
      "\n",
      "f = np.array([[0, 1], [1, c]])\n",
      "x, v = np.linalg.eig(f)\n",
      "\n",
      "print \"the eigen values of the pib series matrix are \", x\n",
      "\n",
      "semilogy(np.abs(v2-1), '.-')\n",
      "semilogy(1.12e-16*1.618**(2*np.arange(len(v2))))\n",
      "title('Error in Pib');\n",
      "legend(['actual error', '$1.618^{2n}/\\\\epsilon$'], loc='best');"
     ],
     "language": "python",
     "metadata": {},
     "outputs": [
      {
       "output_type": "stream",
       "stream": "stdout",
       "text": [
        "the eigen values of the pib series matrix are  [-0.61803399  1.61803399]\n"
       ]
      },
      {
       "metadata": {},
       "output_type": "display_data",
       "png": "[encoded data removed]",
       "text": [
        "<matplotlib.figure.Figure at 0xada0b70>"
       ]
      }
     ],
     "prompt_number": 23
    },
    {
     "cell_type": "markdown",
     "metadata": {},
     "source": [
      "## Extra Credit\n",
      "\n",
      "Find and explain the cause of large errors in lecture slide \"Unexpected Twist\", and implement a new version that is more accurate."
     ]
    },
    {
     "cell_type": "markdown",
     "metadata": {},
     "source": [
      "## Solution\n",
      "\n",
      "The reason is because of the integer overflow when x is integer and n is large. The fix is to convert x to float by grouping (1.*x), or use np.float(x):"
     ]
    },
    {
     "cell_type": "code",
     "collapsed": false,
     "input": [
      "import numpy as np\n",
      "import math\n",
      "\n",
      "def exp_taylor(x, n) :\n",
      "    return sum([(1.*x)**i/math.factorial(i) for i in np.arange(1, n)]) + 1.\n",
      "\n",
      "terms = 100\n",
      "x = 5\n",
      "print \"rel err for exp(%.f) is %.2f%%\" % (x, (np.exp(x) - exp_taylor(x, terms))/np.exp(x)*100)\n",
      "x = -5\n",
      "print \"rel err for exp(%.f) is %.2f%%\" % (x, (np.exp(x) - exp_taylor(x, terms))/np.exp(x)*100)\n",
      "\n",
      "print \"exp_taylor(%.f) = %f, exp(%.f) = %f\" % (x, exp_taylor(-5, terms), x, np.exp(-5))"
     ],
     "language": "python",
     "metadata": {},
     "outputs": [
      {
       "output_type": "stream",
       "stream": "stdout",
       "text": [
        "rel err for exp(5) is 0.00%\n",
        "rel err for exp(-5) is -0.00%\n",
        "exp_taylor(-5) = 0.006738, exp(-5) = 0.006738\n"
       ]
      }
     ],
     "prompt_number": 5
    }
   ],
   "metadata": {}
  }
 ]
}