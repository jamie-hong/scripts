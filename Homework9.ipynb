{
 "cells": [
  {
   "cell_type": "markdown",
   "metadata": {},
   "source": [
    "# Homework Solution 9\n",
    "\n",
    "Ming Hong (mh4286@nyu.edu)"
   ]
  },
  {
   "cell_type": "code",
   "execution_count": 1,
   "metadata": {
    "collapsed": false
   },
   "outputs": [
    {
     "name": "stdout",
     "output_type": "stream",
     "text": [
      "Populating the interactive namespace from numpy and matplotlib\n"
     ]
    }
   ],
   "source": [
    "%pylab inline\n",
    "import pandas as pd\n",
    "import numpy as np\n",
    "import fmt\n",
    "from sobol_lib import i4_sobol_generate as sobol\n",
    "from scipy.stats import norm"
   ]
  },
  {
   "cell_type": "markdown",
   "metadata": {},
   "source": [
    "This homework is to price [synthetic CDO](https://en.wikipedia.org/wiki/Synthetic_CDO) using the one factor Gaussian Copula model. \n",
    "\n",
    "A synthetic CDO consists of $n$ CDS, the total loss of the portfolio is defned as:\n",
    "\n",
    "$$ l(t) = \\sum_i^n w_i \\tilde {\\mathbb{1}}_i(t) (1-r_i(t)) $$\n",
    "\n",
    "where $w_i$ and $r_i(t)$ are the notional weights and recovery rate of the i-th name in the portfolio. The notional weighs sum up to 1: $\\sum_i w_i = 1 $. The $ \\tilde {\\mathbb{1}}_i(t) $ is the default indicator of the i-th name defaulted *before* time $t$, the default probability is therefore $p_i(t) = \\mathbb E[\\tilde {\\mathbb{1}}_i(t) ]$\n",
    "\n",
    "For the purpose of this homework, we consider a simplified synthetic CDO that has no coupon payments, therefore the PV of a \\$1 notional synthetic CDO tranche with maturity $t$, attachment $a$ and detachment $d$ is:\n",
    "\n",
    "$$ v(a, d) = \\frac{d(t)}{d-a} \\min\\left((l(t) - a)^+, d-a\\right) $$\n",
    "\n",
    "where $d(t)$ is the discount factor.\n",
    "\n",
    "The following are the parameters to the synthetic CDO, and a straight forward Monte Carlo pricer:"
   ]
  },
  {
   "cell_type": "code",
   "execution_count": 2,
   "metadata": {
    "collapsed": false
   },
   "outputs": [
    {
     "name": "stdout",
     "output_type": "stream",
     "text": [
      "portfolio expected loss is  0.0442351880578\n"
     ]
    }
   ],
   "source": [
    "n = 125\n",
    "t = 5.\n",
    "defProbs = 1 - exp(-(np.random.uniform(size=n)*.03)*t)\n",
    "recovery = 0.4*np.ones(n)\n",
    "w = 1./n*np.ones(n)\n",
    "rho = 0.5\n",
    "discf = .9\n",
    "npath = 1000\n",
    "\n",
    "# a list of attachements and detachements, they pair up by elements\n",
    "attachements = np.array([0, .03, .07, .1, .15, .3])\n",
    "detachements = np.array([.03, .07, .1, .15, .3, .6])\n",
    "\n",
    "#portfolio expected loss\n",
    "el = np.sum(w*defProbs*(1-recovery))\n",
    "print \"portfolio expected loss is \", el"
   ]
  },
  {
   "cell_type": "code",
   "execution_count": 3,
   "metadata": {
    "collapsed": false
   },
   "outputs": [],
   "source": [
    "class CDO(object) :\n",
    "    def __init__(self, w, defProbs, recovery, a, d) :\n",
    "        self.w = w/np.sum(w)\n",
    "        self.p = defProbs\n",
    "        self.rec = recovery\n",
    "        self.rho = rho\n",
    "        self.a = a\n",
    "        self.d = d\n",
    "\n",
    "    def drawDefaultIndicator(self, z, rho) :\n",
    "        '''return a list of default indicators given common factor z, using one factor Gaussian Copula\n",
    "        '''\n",
    "        e = np.random.normal(size=np.shape(self.p))\n",
    "        x = z*np.sqrt(self.rho) + np.sqrt(1-self.rho)*e\n",
    "        return np.less(norm.cdf(x), self.p)\n",
    "\n",
    "    def portfolioLoss(self, defIndicator) :\n",
    "        '''compute portfolio loss given default indicators'''\n",
    "        return np.sum(defIndicator*self.w*(1-self.rec))\n",
    "\n",
    "    def tranchePV(self, portfLoss, discf) :\n",
    "        '''compute tranche PV from portfolio loss\n",
    "        Args:\n",
    "            portfLoss: the total portfolio loss\n",
    "            discf: discount factor\n",
    "        Returns:\n",
    "            tranche PVs'''\n",
    "        \n",
    "        sz = self.d - self.a\n",
    "        return discf/sz*np.minimum(np.maximum(portfLoss - self.a, 0), sz)\n",
    "\n",
    "    def drawPV(self, z, rho, discf) :\n",
    "        ''' compute PV and portfolio Loss conditioned on a common factor z'''\n",
    "        di = self.drawDefaultIndicator(z, rho)\n",
    "        pfLoss = self.portfolioLoss(di)\n",
    "        return self.tranchePV(pfLoss, discf), pfLoss\n",
    "    \n",
    "    \n",
    "cdo = CDO(w, defProbs, recovery, attachements, detachements)"
   ]
  },
  {
   "cell_type": "code",
   "execution_count": 4,
   "metadata": {
    "collapsed": false
   },
   "outputs": [],
   "source": [
    "## price the tranches using simulation\n",
    "def simCDO(cdo, rho, disc, paths) :\n",
    "    zs = np.random.normal(size=[paths])\n",
    "    pv = np.zeros(np.shape(cdo.a))\n",
    "    pv2 = np.zeros(np.shape(cdo.d))\n",
    "    for z in zs:\n",
    "        thisPV, _ = cdo.drawPV(z, rho, discf)\n",
    "        pv += thisPV\n",
    "        pv2 += thisPV*thisPV\n",
    "        \n",
    "    v = pv/paths\n",
    "    var = pv2/paths - v**2\n",
    "    return pv/paths, np.sqrt(var/paths), zs"
   ]
  },
  {
   "cell_type": "code",
   "execution_count": 5,
   "metadata": {
    "collapsed": false
   },
   "outputs": [
    {
     "data": {
      "text/html": [
       "<center><font size=2><table border=\"1\" class=\"dataframe\">\n",
       "  <thead>\n",
       "    <tr style=\"text-align: right;\">\n",
       "      <th></th>\n",
       "      <th>0</th>\n",
       "      <th>1</th>\n",
       "      <th>2</th>\n",
       "      <th>3</th>\n",
       "      <th>4</th>\n",
       "      <th>5</th>\n",
       "    </tr>\n",
       "  </thead>\n",
       "  <tbody>\n",
       "    <tr>\n",
       "      <th>Attach</th>\n",
       "      <td>0</td>\n",
       "      <td>0.03</td>\n",
       "      <td>0.07</td>\n",
       "      <td>0.1</td>\n",
       "      <td>0.15</td>\n",
       "      <td>0.3</td>\n",
       "    </tr>\n",
       "    <tr>\n",
       "      <th>Detach</th>\n",
       "      <td>0.03</td>\n",
       "      <td>0.07</td>\n",
       "      <td>0.1</td>\n",
       "      <td>0.15</td>\n",
       "      <td>0.3</td>\n",
       "      <td>0.6</td>\n",
       "    </tr>\n",
       "    <tr>\n",
       "      <th>PV</th>\n",
       "      <td>0.4828</td>\n",
       "      <td>0.2573</td>\n",
       "      <td>0.161</td>\n",
       "      <td>0.103</td>\n",
       "      <td>0.03952</td>\n",
       "      <td>0.004241</td>\n",
       "    </tr>\n",
       "    <tr>\n",
       "      <th>MC err</th>\n",
       "      <td>0.01228</td>\n",
       "      <td>0.01196</td>\n",
       "      <td>0.0105</td>\n",
       "      <td>0.008492</td>\n",
       "      <td>0.005052</td>\n",
       "      <td>0.001308</td>\n",
       "    </tr>\n",
       "  </tbody>\n",
       "</table></font></center>"
      ],
      "text/plain": [
       "<IPython.core.display.HTML object>"
      ]
     },
     "metadata": {},
     "output_type": "display_data"
    }
   ],
   "source": [
    "pv_0, err_0, zs = simCDO(cdo, rho, discf, npath)\n",
    "df = pd.DataFrame(np.array([cdo.a, cdo.d, pv_0, err_0]), index=['Attach', 'Detach', 'PV', 'MC err'])\n",
    "\n",
    "fmt.displayDF(df, fmt='4g')"
   ]
  },
  {
   "cell_type": "markdown",
   "metadata": {},
   "source": [
    "## Problem 1\n",
    "\n",
    "Modify the simCDO function to implement the following variance reduction techniques, and show whether the technique is effective:\n",
    "\n",
    "For this homework, we only apply the variance reduction in the common market factor $z$, you should not change the random number $e$ that were drawn within the drawDefaultIndicator function, i.e., only modify the simCDO code, re-use but do not modify the CDO class. Unless explicitly mentioned, keep the simulation paths the same as the base case above.\n",
    "\n",
    "1. anti-thetic variate, reduce the number of paths by half to account for the 2x increase in computation\n",
    "1. importance sampling, shift $z$ by -1\n",
    "1. sobol sequence\n",
    "1. stratified sampling: sample $z$ using an equal sized grid\n",
    "\n",
    "Compute the **variance** reduction factor for each technique, and comment on the effectiveness of these variance reduction techniques."
   ]
  },
  {
   "cell_type": "markdown",
   "metadata": {},
   "source": [
    "### Solution\n",
    "\n",
    "Among the four variance reduction methods, batching is used in importance sampling, Sobol sequence, and stratified sampling. The simulation paths are only kept the same as the base case in the antithetic scheme as it does not require batching.\n",
    "\n",
    "**1)** Antithetic variate"
   ]
  },
  {
   "cell_type": "code",
   "execution_count": 6,
   "metadata": {
    "collapsed": false
   },
   "outputs": [
    {
     "data": {
      "text/html": [
       "<center><table style=\"border-style:hidden; border-collapse:collapse; text-align:center;\"><tr style=\"border:none\"><th style=\"border:none; text-align:center\">Antithetic</th></tr><tr style=\"border:none\"><td style=\"border:none; padding:20px; text-align:center\"><table border=\"1\" class=\"dataframe\">\n",
       "  <thead>\n",
       "    <tr style=\"text-align: right;\">\n",
       "      <th></th>\n",
       "      <th>0</th>\n",
       "      <th>1</th>\n",
       "      <th>2</th>\n",
       "      <th>3</th>\n",
       "      <th>4</th>\n",
       "      <th>5</th>\n",
       "    </tr>\n",
       "  </thead>\n",
       "  <tbody>\n",
       "    <tr>\n",
       "      <th>Attach</th>\n",
       "      <td>0</td>\n",
       "      <td>0.03</td>\n",
       "      <td>0.07</td>\n",
       "      <td>0.1</td>\n",
       "      <td>0.15</td>\n",
       "      <td>0.3</td>\n",
       "    </tr>\n",
       "    <tr>\n",
       "      <th>Detach</th>\n",
       "      <td>0.03</td>\n",
       "      <td>0.07</td>\n",
       "      <td>0.1</td>\n",
       "      <td>0.15</td>\n",
       "      <td>0.3</td>\n",
       "      <td>0.6</td>\n",
       "    </tr>\n",
       "    <tr>\n",
       "      <th>PV</th>\n",
       "      <td>0.4637</td>\n",
       "      <td>0.2524</td>\n",
       "      <td>0.1485</td>\n",
       "      <td>0.1017</td>\n",
       "      <td>0.04285</td>\n",
       "      <td>0.00522</td>\n",
       "    </tr>\n",
       "    <tr>\n",
       "      <th>MC err</th>\n",
       "      <td>0.004257</td>\n",
       "      <td>0.008813</td>\n",
       "      <td>0.00901</td>\n",
       "      <td>0.00797</td>\n",
       "      <td>0.005081</td>\n",
       "      <td>0.001368</td>\n",
       "    </tr>\n",
       "    <tr>\n",
       "      <th>VRF</th>\n",
       "      <td>8.323</td>\n",
       "      <td>1.842</td>\n",
       "      <td>1.359</td>\n",
       "      <td>1.135</td>\n",
       "      <td>0.989</td>\n",
       "      <td>0.9139</td>\n",
       "    </tr>\n",
       "  </tbody>\n",
       "</table></td></tr></table></center>"
      ],
      "text/plain": [
       "<IPython.core.display.HTML object>"
      ]
     },
     "metadata": {},
     "output_type": "display_data"
    }
   ],
   "source": [
    "def simCDO_antithetic(cdo, rho, disc, paths, zs):\n",
    "    zs = zs[0:paths]\n",
    "    pv = np.zeros(np.shape(cdo.a))\n",
    "    pv2 = np.zeros(np.shape(cdo.d))\n",
    "    for z in zs:\n",
    "        thisPV1, _ = cdo.drawPV(z, rho, discf)\n",
    "        thisPV2, _ = cdo.drawPV(-z, rho, discf)\n",
    "        thisPV = (thisPV1 + thisPV2)/2\n",
    "        pv += thisPV\n",
    "        pv2 += thisPV*thisPV\n",
    "        \n",
    "    v = pv/paths\n",
    "    var = pv2/paths - v**2\n",
    "    return pv/paths, np.sqrt(var/paths)\n",
    "\n",
    "\n",
    "pv_1, err_1 = simCDO_antithetic(cdo, rho, discf, npath/2, zs)\n",
    "vrf_1 = err_0**2/(err_1**2) # variance reduction factor\n",
    "df1 = pd.DataFrame(np.array([cdo.a, cdo.d, pv_1, err_1, vrf_1]), index=['Attach', 'Detach', 'PV', 'MC err', 'VRF'])\n",
    "fmt.displayDFs(df1, headers=['Antithetic'], fmt='4g')"
   ]
  },
  {
   "cell_type": "markdown",
   "metadata": {},
   "source": [
    "In the antithetic scheme, the first half of the 1,000 simulation paths from the regular MC are used along with their opposite values to get 500 averaged paths. As can be seen, the MC errors in all the tranches are reduced compared to the values in the base case. The variance reduction factor is the highest (8.323) at the lowest tranche (0-3%), and suddenly decreases to a relatively low level (around 1-2) when moving to the more senior tranches.\n",
    "\n",
    "**2)** Importance Sampling"
   ]
  },
  {
   "cell_type": "code",
   "execution_count": 11,
   "metadata": {
    "collapsed": false
   },
   "outputs": [
    {
     "data": {
      "text/html": [
       "<center><table style=\"border-style:hidden; border-collapse:collapse; text-align:center;\"><tr style=\"border:none\"><th style=\"border:none; text-align:center\">Importance Sampling</th></tr><tr style=\"border:none\"><td style=\"border:none; padding:20px; text-align:center\"><table border=\"1\" class=\"dataframe\">\n",
       "  <thead>\n",
       "    <tr style=\"text-align: right;\">\n",
       "      <th></th>\n",
       "      <th>0</th>\n",
       "      <th>1</th>\n",
       "      <th>2</th>\n",
       "      <th>3</th>\n",
       "      <th>4</th>\n",
       "      <th>5</th>\n",
       "    </tr>\n",
       "  </thead>\n",
       "  <tbody>\n",
       "    <tr>\n",
       "      <th>Attach</th>\n",
       "      <td>0</td>\n",
       "      <td>0.03</td>\n",
       "      <td>0.07</td>\n",
       "      <td>0.1</td>\n",
       "      <td>0.15</td>\n",
       "      <td>0.3</td>\n",
       "    </tr>\n",
       "    <tr>\n",
       "      <th>Detach</th>\n",
       "      <td>0.03</td>\n",
       "      <td>0.07</td>\n",
       "      <td>0.1</td>\n",
       "      <td>0.15</td>\n",
       "      <td>0.3</td>\n",
       "      <td>0.6</td>\n",
       "    </tr>\n",
       "    <tr>\n",
       "      <th>PV</th>\n",
       "      <td>0.4604</td>\n",
       "      <td>0.2441</td>\n",
       "      <td>0.1528</td>\n",
       "      <td>0.09759</td>\n",
       "      <td>0.03633</td>\n",
       "      <td>0.00324</td>\n",
       "    </tr>\n",
       "    <tr>\n",
       "      <th>MC err</th>\n",
       "      <td>0.01689</td>\n",
       "      <td>0.01095</td>\n",
       "      <td>0.008883</td>\n",
       "      <td>0.006426</td>\n",
       "      <td>0.002455</td>\n",
       "      <td>0.0003085</td>\n",
       "    </tr>\n",
       "    <tr>\n",
       "      <th>VRF</th>\n",
       "      <td>0.5289</td>\n",
       "      <td>1.194</td>\n",
       "      <td>1.398</td>\n",
       "      <td>1.746</td>\n",
       "      <td>4.237</td>\n",
       "      <td>17.97</td>\n",
       "    </tr>\n",
       "  </tbody>\n",
       "</table></td></tr></table></center>"
      ],
      "text/plain": [
       "<IPython.core.display.HTML object>"
      ]
     },
     "metadata": {},
     "output_type": "display_data"
    }
   ],
   "source": [
    "def simCDO_IS(cdo, rho, disc, paths, u, b):\n",
    "    means = np.zeros([b, np.shape(cdo.a)[0]])\n",
    "    for i in range(b):\n",
    "        zs_q = np.random.normal(size=paths)\n",
    "        zs_p = zs_q + u # P sample\n",
    "        m = np.exp(-u*zs_p + 0.5*u*u) # R-N derivative\n",
    "        qs = 1./paths*np.ones(paths) # Q weights\n",
    "        ps = m*qs # P weights\n",
    "        ps = ps/np.sum(ps) # normalization\n",
    "            \n",
    "        pv = np.zeros(np.shape(cdo.a))\n",
    "\n",
    "        for z,p in zip(zs_p,ps):\n",
    "            thisPV, _ = cdo.drawPV(z, rho, discf)\n",
    "            pv += thisPV*p\n",
    "        means[i,:] = pv\n",
    "            \n",
    "    return np.mean(means,0), np.std(means,0)\n",
    "\n",
    "b = 30 # number of batches\n",
    "pv_2, err_2 = simCDO_IS(cdo, rho, discf, npath, -1, b)\n",
    "vrf_2 = err_0**2/(err_2**2) # err_2 is the std of the SAMPLE MEAN\n",
    "df2 = pd.DataFrame(np.array([cdo.a, cdo.d, pv_2, err_2, vrf_2]), index=['Attach', 'Detach', 'PV', 'MC err', 'VRF'])\n",
    "fmt.displayDFs(df2, headers=['Importance Sampling'], fmt='4g')"
   ]
  },
  {
   "cell_type": "markdown",
   "metadata": {},
   "source": [
    "In importance sampling, 30 batches of simulations, each with 1,000 paths, are performed to obtain the sample means and sample standard deviations for the PV of each tranche. As can be seen, the MC errors in the lowest tranche actually become larger compared to the base case. The variance reduction factor is the highest (17.97) at the highest tranche (30%-60%), trending upward when moving from low to high. This makes sense as importance sampling is most effective for rare events, which in this case is the loss suffered by the most senior tranche at 30%-60%.\n",
    "\n",
    "**3)** Sobol Sequence"
   ]
  },
  {
   "cell_type": "code",
   "execution_count": 8,
   "metadata": {
    "collapsed": false
   },
   "outputs": [
    {
     "data": {
      "text/html": [
       "<center><table style=\"border-style:hidden; border-collapse:collapse; text-align:center;\"><tr style=\"border:none\"><th style=\"border:none; text-align:center\">Sobol Sequence</th></tr><tr style=\"border:none\"><td style=\"border:none; padding:20px; text-align:center\"><table border=\"1\" class=\"dataframe\">\n",
       "  <thead>\n",
       "    <tr style=\"text-align: right;\">\n",
       "      <th></th>\n",
       "      <th>0</th>\n",
       "      <th>1</th>\n",
       "      <th>2</th>\n",
       "      <th>3</th>\n",
       "      <th>4</th>\n",
       "      <th>5</th>\n",
       "    </tr>\n",
       "  </thead>\n",
       "  <tbody>\n",
       "    <tr>\n",
       "      <th>Attach</th>\n",
       "      <td>0</td>\n",
       "      <td>0.03</td>\n",
       "      <td>0.07</td>\n",
       "      <td>0.1</td>\n",
       "      <td>0.15</td>\n",
       "      <td>0.3</td>\n",
       "    </tr>\n",
       "    <tr>\n",
       "      <th>Detach</th>\n",
       "      <td>0.03</td>\n",
       "      <td>0.07</td>\n",
       "      <td>0.1</td>\n",
       "      <td>0.15</td>\n",
       "      <td>0.3</td>\n",
       "      <td>0.6</td>\n",
       "    </tr>\n",
       "    <tr>\n",
       "      <th>PV</th>\n",
       "      <td>0.465</td>\n",
       "      <td>0.2443</td>\n",
       "      <td>0.1528</td>\n",
       "      <td>0.09804</td>\n",
       "      <td>0.03688</td>\n",
       "      <td>0.003318</td>\n",
       "    </tr>\n",
       "    <tr>\n",
       "      <th>MC err</th>\n",
       "      <td>0.00391</td>\n",
       "      <td>0.003403</td>\n",
       "      <td>0.002814</td>\n",
       "      <td>0.002573</td>\n",
       "      <td>0.001303</td>\n",
       "      <td>0.0005392</td>\n",
       "    </tr>\n",
       "    <tr>\n",
       "      <th>VRF</th>\n",
       "      <td>9.866</td>\n",
       "      <td>12.36</td>\n",
       "      <td>13.94</td>\n",
       "      <td>10.9</td>\n",
       "      <td>15.04</td>\n",
       "      <td>5.886</td>\n",
       "    </tr>\n",
       "  </tbody>\n",
       "</table></td></tr></table></center>"
      ],
      "text/plain": [
       "<IPython.core.display.HTML object>"
      ]
     },
     "metadata": {},
     "output_type": "display_data"
    }
   ],
   "source": [
    "def simCDO_Sobol(cdo, rho, disc, paths, b):\n",
    "    means = np.zeros([b, np.shape(cdo.a)[0]])\n",
    "    ss = sobol(1,paths*b,0)\n",
    "    for i in range(b):\n",
    "        zs = norm.ppf(ss[0,i*paths:(i+1)*paths]).T\n",
    "        pv = np.zeros(np.shape(cdo.a)) # np.shape(cdo.a): number of tranches\n",
    "        for z in zs:\n",
    "            thisPV, _ = cdo.drawPV(z, rho, discf)\n",
    "            pv += thisPV\n",
    "        means[i,:] = pv/paths\n",
    "\n",
    "    return np.mean(means,0), np.std(means,0)\n",
    "\n",
    "pv_3, err_3 = simCDO_Sobol(cdo, rho, discf, npath, b)\n",
    "vrf_3 = err_0**2/(err_3**2) # variance reduction factor\n",
    "df3 = pd.DataFrame(np.array([cdo.a, cdo.d, pv_3, err_3, vrf_3]), index=['Attach', 'Detach', 'PV', 'MC err', 'VRF'])\n",
    "fmt.displayDFs(df3, headers=['Sobol Sequence'], fmt='4g')"
   ]
  },
  {
   "cell_type": "markdown",
   "metadata": {},
   "source": [
    "Using the Sobol sequence, 30 batches of simulations, each with 1,000 paths, are performed to obtain the sample means and sample standard deviations for the PV of each tranche. As can be seen, the MC errors are all significantly reduced compared to the base case values. The variance reduction factor is the highest (15.04) at the second highest tranche (15%-30%). Compared to the previous two methods, the effectiveness in variance reduction using Sobol sequence is more consistent across the tranches.\n",
    "\n",
    "**4)** Stratified Sampling"
   ]
  },
  {
   "cell_type": "code",
   "execution_count": 9,
   "metadata": {
    "collapsed": false
   },
   "outputs": [
    {
     "data": {
      "text/html": [
       "<center><table style=\"border-style:hidden; border-collapse:collapse; text-align:center;\"><tr style=\"border:none\"><th style=\"border:none; text-align:center\">Stratified Sampling</th></tr><tr style=\"border:none\"><td style=\"border:none; padding:20px; text-align:center\"><table border=\"1\" class=\"dataframe\">\n",
       "  <thead>\n",
       "    <tr style=\"text-align: right;\">\n",
       "      <th></th>\n",
       "      <th>0</th>\n",
       "      <th>1</th>\n",
       "      <th>2</th>\n",
       "      <th>3</th>\n",
       "      <th>4</th>\n",
       "      <th>5</th>\n",
       "    </tr>\n",
       "  </thead>\n",
       "  <tbody>\n",
       "    <tr>\n",
       "      <th>Attach</th>\n",
       "      <td>0</td>\n",
       "      <td>0.03</td>\n",
       "      <td>0.07</td>\n",
       "      <td>0.1</td>\n",
       "      <td>0.15</td>\n",
       "      <td>0.3</td>\n",
       "    </tr>\n",
       "    <tr>\n",
       "      <th>Detach</th>\n",
       "      <td>0.03</td>\n",
       "      <td>0.07</td>\n",
       "      <td>0.1</td>\n",
       "      <td>0.15</td>\n",
       "      <td>0.3</td>\n",
       "      <td>0.6</td>\n",
       "    </tr>\n",
       "    <tr>\n",
       "      <th>PV</th>\n",
       "      <td>0.4657</td>\n",
       "      <td>0.245</td>\n",
       "      <td>0.1546</td>\n",
       "      <td>0.09779</td>\n",
       "      <td>0.03668</td>\n",
       "      <td>0.003336</td>\n",
       "    </tr>\n",
       "    <tr>\n",
       "      <th>MC err</th>\n",
       "      <td>0.003207</td>\n",
       "      <td>0.003432</td>\n",
       "      <td>0.003385</td>\n",
       "      <td>0.001992</td>\n",
       "      <td>0.001252</td>\n",
       "      <td>0.0002674</td>\n",
       "    </tr>\n",
       "    <tr>\n",
       "      <th>VRF</th>\n",
       "      <td>14.66</td>\n",
       "      <td>12.15</td>\n",
       "      <td>9.631</td>\n",
       "      <td>18.18</td>\n",
       "      <td>16.28</td>\n",
       "      <td>23.93</td>\n",
       "    </tr>\n",
       "  </tbody>\n",
       "</table></td></tr></table></center>"
      ],
      "text/plain": [
       "<IPython.core.display.HTML object>"
      ]
     },
     "metadata": {},
     "output_type": "display_data"
    }
   ],
   "source": [
    "def stratify(u, bs, shuffle) :\n",
    "    b = len(bs)\n",
    "    r = len(u)/b + 1\n",
    "    sb = []\n",
    "    \n",
    "    for i in range(r) :\n",
    "        if shuffle :\n",
    "            np.random.shuffle(bs)\n",
    "        sb = sb + bs.tolist()\n",
    "            \n",
    "    return [1.*(i + x)/b for x, i in zip(u, sb)]\n",
    "\n",
    "def simCDO_SS(cdo, rho, disc, paths, nbins, b):\n",
    "    means = np.zeros([b, np.shape(cdo.a)[0]])\n",
    "    for i in range(b):\n",
    "        u = np.random.uniform(size=paths)\n",
    "        v = stratify(u, np.arange(nbins), False)\n",
    "        zs = norm.ppf(v)\n",
    "        pv = np.zeros(np.shape(cdo.a)) # np.shape(cdo.a): number of tranches\n",
    "        for z in zs:\n",
    "            thisPV, _ = cdo.drawPV(z, rho, discf)\n",
    "            pv += thisPV\n",
    "            \n",
    "        means[i,:] = pv/paths\n",
    "    return np.mean(means,0), np.std(means,0)\n",
    "\n",
    "nbins = 500\n",
    "pv_4, err_4 = simCDO_SS(cdo, rho, discf, npath, nbins, b)\n",
    "vrf_4 = err_0**2/(err_4**2) # variance reduction factor\n",
    "df4 = pd.DataFrame(np.array([cdo.a, cdo.d, pv_4, err_4, vrf_4]), index=['Attach', 'Detach', 'PV', 'MC err', 'VRF'])\n",
    "fmt.displayDFs(df4, headers=['Stratified Sampling'], fmt='4g')"
   ]
  },
  {
   "cell_type": "markdown",
   "metadata": {},
   "source": [
    "Using stratified sampling with 500 buckets (to convert the uniform random number), 30 batches of simulations, each with 1,000 paths, are performed to obtain the sample means and sample standard deviations for the PV of each tranche. As can be seen, the MC errors are all significantly reduced compared to the base case values. The variance reduction factor is the highest (23.93) at the highest tranche (30%-60%), while for most other tranches it also beats the value using the Sobol sequence method. Among all the methods, stratified sampling demonstrates the greatest effectiveness in variance reduction."
   ]
  },
  {
   "cell_type": "markdown",
   "metadata": {},
   "source": [
    "## (Extra Credit) Problem 2\n",
    "\n",
    "Consider a control variate for the problem above. The large pool model assumes that the portfolio is a large homogeneous pool, using the average default rate: $\\bar p = \\frac{1}{n}\\sum_i p_i$. Then the portfolio loss conditioned on market factor $z$ under the large pool model is a determinsitic scalar:\n",
    "\n",
    "$$ l(z) = (1-r)\\Phi\\left(\\frac{\\Phi^{-1}(\\bar p) - \\sqrt \\rho z}{\\sqrt{1-\\rho}}\\right)$$\n",
    "\n",
    "where $r$ is the constant recovery of all names. $\\Phi()$ is the normal CDF function; $\\Phi^{-1}()$ is its inverse. The tranche PVs can then be computed from the $l(z)$.\n",
    "\n",
    "Please investigate if the large pool model can be used as an effective control variate. Does it work better for some tranches?\n",
    "\n",
    "Hint: to answer this question, you only need to compute the correlation between the actual and control variates. "
   ]
  }
 ],
 "metadata": {
  "kernelspec": {
   "display_name": "Python 2",
   "language": "python",
   "name": "python2"
  },
  "language_info": {
   "codemirror_mode": {
    "name": "ipython",
    "version": 2
   },
   "file_extension": ".py",
   "mimetype": "text/x-python",
   "name": "python",
   "nbconvert_exporter": "python",
   "pygments_lexer": "ipython2",
   "version": "2.7.10"
  }
 },
 "nbformat": 4,
 "nbformat_minor": 0
}
