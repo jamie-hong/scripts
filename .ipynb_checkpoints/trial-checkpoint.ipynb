{
 "cells": [
  {
   "cell_type": "code",
   "execution_count": 14,
   "metadata": {
    "collapsed": false
   },
   "outputs": [
    {
     "name": "stdout",
     "output_type": "stream",
     "text": [
      "100\n",
      "Mean : 0.165916\n"
     ]
    }
   ],
   "source": [
    "import scipy as sp\n",
    "import numpy as np\n",
    "s = sp.randn(100)\n",
    "print len(s)\n",
    "print(\"Mean : %.6f\" % s.mean())\n",
    "\n",
    "x = np.array([42,47,11], int)\n",
    "x\n"
   ]
  },
  {
   "cell_type": "code",
   "execution_count": 15,
   "metadata": {
    "collapsed": false
   },
   "outputs": [
    {
     "data": {
      "text/html": [
       "<div>\n",
       "<table border=\"1\" class=\"dataframe\">\n",
       "  <thead>\n",
       "    <tr style=\"text-align: right;\">\n",
       "      <th></th>\n",
       "      <th>line0_volts</th>\n",
       "      <th>line0_time, line1_time, line3_time</th>\n",
       "      <th>line1_volts</th>\n",
       "      <th>line2_volts</th>\n",
       "      <th>line2_time</th>\n",
       "      <th>line3_volts</th>\n",
       "    </tr>\n",
       "  </thead>\n",
       "  <tbody>\n",
       "    <tr>\n",
       "      <th>count</th>\n",
       "      <td>200.000000</td>\n",
       "      <td>200.000000</td>\n",
       "      <td>2.000000e+02</td>\n",
       "      <td>20.000000</td>\n",
       "      <td>20.000000</td>\n",
       "      <td>2.000000e+02</td>\n",
       "    </tr>\n",
       "    <tr>\n",
       "      <th>mean</th>\n",
       "      <td>0.434498</td>\n",
       "      <td>0.995000</td>\n",
       "      <td>-1.665335e-18</td>\n",
       "      <td>0.620175</td>\n",
       "      <td>0.950000</td>\n",
       "      <td>6.708533e-02</td>\n",
       "    </tr>\n",
       "    <tr>\n",
       "      <th>std</th>\n",
       "      <td>0.243705</td>\n",
       "      <td>0.578792</td>\n",
       "      <td>7.088812e-01</td>\n",
       "      <td>0.324605</td>\n",
       "      <td>0.591608</td>\n",
       "      <td>3.402314e-01</td>\n",
       "    </tr>\n",
       "    <tr>\n",
       "      <th>min</th>\n",
       "      <td>0.136695</td>\n",
       "      <td>0.000000</td>\n",
       "      <td>-1.000000e+00</td>\n",
       "      <td>0.000000</td>\n",
       "      <td>0.000000</td>\n",
       "      <td>-4.781305e-01</td>\n",
       "    </tr>\n",
       "    <tr>\n",
       "      <th>25%</th>\n",
       "      <td>0.224812</td>\n",
       "      <td>0.497500</td>\n",
       "      <td>-6.956525e-01</td>\n",
       "      <td>0.388217</td>\n",
       "      <td>0.475000</td>\n",
       "      <td>-1.651344e-01</td>\n",
       "    </tr>\n",
       "    <tr>\n",
       "      <th>50%</th>\n",
       "      <td>0.369728</td>\n",
       "      <td>0.995000</td>\n",
       "      <td>6.123234e-17</td>\n",
       "      <td>0.667501</td>\n",
       "      <td>0.950000</td>\n",
       "      <td>3.713929e-17</td>\n",
       "    </tr>\n",
       "    <tr>\n",
       "      <th>75%</th>\n",
       "      <td>0.608055</td>\n",
       "      <td>1.492500</td>\n",
       "      <td>6.956525e-01</td>\n",
       "      <td>0.885674</td>\n",
       "      <td>1.425000</td>\n",
       "      <td>2.722606e-01</td>\n",
       "    </tr>\n",
       "    <tr>\n",
       "      <th>max</th>\n",
       "      <td>1.000000</td>\n",
       "      <td>1.990000</td>\n",
       "      <td>1.000000e+00</td>\n",
       "      <td>1.064711</td>\n",
       "      <td>1.900000</td>\n",
       "      <td>7.883040e-01</td>\n",
       "    </tr>\n",
       "  </tbody>\n",
       "</table>\n",
       "</div>"
      ],
      "text/plain": [
       "       line0_volts  line0_time, line1_time, line3_time   line1_volts  \\\n",
       "count   200.000000                          200.000000  2.000000e+02   \n",
       "mean      0.434498                            0.995000 -1.665335e-18   \n",
       "std       0.243705                            0.578792  7.088812e-01   \n",
       "min       0.136695                            0.000000 -1.000000e+00   \n",
       "25%       0.224812                            0.497500 -6.956525e-01   \n",
       "50%       0.369728                            0.995000  6.123234e-17   \n",
       "75%       0.608055                            1.492500  6.956525e-01   \n",
       "max       1.000000                            1.990000  1.000000e+00   \n",
       "\n",
       "       line2_volts  line2_time   line3_volts  \n",
       "count    20.000000   20.000000  2.000000e+02  \n",
       "mean      0.620175    0.950000  6.708533e-02  \n",
       "std       0.324605    0.591608  3.402314e-01  \n",
       "min       0.000000    0.000000 -4.781305e-01  \n",
       "25%       0.388217    0.475000 -1.651344e-01  \n",
       "50%       0.667501    0.950000  3.713929e-17  \n",
       "75%       0.885674    1.425000  2.722606e-01  \n",
       "max       1.064711    1.900000  7.883040e-01  "
      ]
     },
     "execution_count": 15,
     "metadata": {},
     "output_type": "execute_result"
    }
   ],
   "source": [
    "import pandas as pd\n",
    "df = pd.read_csv(\"https://plot.ly/~MattSundquist/20387.csv\")\n",
    "df.describe()"
   ]
  },
  {
   "cell_type": "code",
   "execution_count": 16,
   "metadata": {
    "collapsed": false
   },
   "outputs": [
    {
     "data": {
      "text/html": [
       "<div>\n",
       "<table border=\"1\" class=\"dataframe\">\n",
       "  <thead>\n",
       "    <tr style=\"text-align: right;\">\n",
       "      <th></th>\n",
       "      <th>line0_volts</th>\n",
       "      <th>line0_time, line1_time, line3_time</th>\n",
       "      <th>line1_volts</th>\n",
       "      <th>line2_volts</th>\n",
       "      <th>line2_time</th>\n",
       "      <th>line3_volts</th>\n",
       "    </tr>\n",
       "  </thead>\n",
       "  <tbody>\n",
       "    <tr>\n",
       "      <th>0</th>\n",
       "      <td>1.000000</td>\n",
       "      <td>0.00</td>\n",
       "      <td>0.000000</td>\n",
       "      <td>0.000000</td>\n",
       "      <td>0.0</td>\n",
       "      <td>0.000000</td>\n",
       "    </tr>\n",
       "    <tr>\n",
       "      <th>1</th>\n",
       "      <td>0.990050</td>\n",
       "      <td>0.01</td>\n",
       "      <td>0.062791</td>\n",
       "      <td>0.095310</td>\n",
       "      <td>0.1</td>\n",
       "      <td>0.062166</td>\n",
       "    </tr>\n",
       "    <tr>\n",
       "      <th>2</th>\n",
       "      <td>0.980199</td>\n",
       "      <td>0.02</td>\n",
       "      <td>0.125333</td>\n",
       "      <td>0.182322</td>\n",
       "      <td>0.2</td>\n",
       "      <td>0.122851</td>\n",
       "    </tr>\n",
       "    <tr>\n",
       "      <th>3</th>\n",
       "      <td>0.970446</td>\n",
       "      <td>0.03</td>\n",
       "      <td>0.187381</td>\n",
       "      <td>0.262364</td>\n",
       "      <td>0.3</td>\n",
       "      <td>0.181843</td>\n",
       "    </tr>\n",
       "    <tr>\n",
       "      <th>4</th>\n",
       "      <td>0.960789</td>\n",
       "      <td>0.04</td>\n",
       "      <td>0.248690</td>\n",
       "      <td>0.336472</td>\n",
       "      <td>0.4</td>\n",
       "      <td>0.238939</td>\n",
       "    </tr>\n",
       "  </tbody>\n",
       "</table>\n",
       "</div>"
      ],
      "text/plain": [
       "   line0_volts  line0_time, line1_time, line3_time  line1_volts  line2_volts  \\\n",
       "0     1.000000                                0.00     0.000000     0.000000   \n",
       "1     0.990050                                0.01     0.062791     0.095310   \n",
       "2     0.980199                                0.02     0.125333     0.182322   \n",
       "3     0.970446                                0.03     0.187381     0.262364   \n",
       "4     0.960789                                0.04     0.248690     0.336472   \n",
       "\n",
       "   line2_time  line3_volts  \n",
       "0         0.0     0.000000  \n",
       "1         0.1     0.062166  \n",
       "2         0.2     0.122851  \n",
       "3         0.3     0.181843  \n",
       "4         0.4     0.238939  "
      ]
     },
     "execution_count": 16,
     "metadata": {},
     "output_type": "execute_result"
    }
   ],
   "source": [
    "df.head()"
   ]
  },
  {
   "cell_type": "code",
   "execution_count": 17,
   "metadata": {
    "collapsed": true
   },
   "outputs": [],
   "source": [
    "df.columns=[\"volts_1\",\"time_1\",\"volts_2\",\"volts_2\",\"time_2\",\"volts_4\"]"
   ]
  },
  {
   "cell_type": "code",
   "execution_count": 18,
   "metadata": {
    "collapsed": false
   },
   "outputs": [
    {
     "data": {
      "text/html": [
       "<div>\n",
       "<table border=\"1\" class=\"dataframe\">\n",
       "  <thead>\n",
       "    <tr style=\"text-align: right;\">\n",
       "      <th></th>\n",
       "      <th>volts_1</th>\n",
       "      <th>time_1</th>\n",
       "      <th>volts_2</th>\n",
       "      <th>volts_2</th>\n",
       "      <th>time_2</th>\n",
       "      <th>volts_4</th>\n",
       "    </tr>\n",
       "  </thead>\n",
       "  <tbody>\n",
       "    <tr>\n",
       "      <th>0</th>\n",
       "      <td>1.000000</td>\n",
       "      <td>0.00</td>\n",
       "      <td>0.000000</td>\n",
       "      <td>0.000000</td>\n",
       "      <td>0.0</td>\n",
       "      <td>0.000000</td>\n",
       "    </tr>\n",
       "    <tr>\n",
       "      <th>1</th>\n",
       "      <td>0.990050</td>\n",
       "      <td>0.01</td>\n",
       "      <td>0.062791</td>\n",
       "      <td>0.095310</td>\n",
       "      <td>0.1</td>\n",
       "      <td>0.062166</td>\n",
       "    </tr>\n",
       "    <tr>\n",
       "      <th>2</th>\n",
       "      <td>0.980199</td>\n",
       "      <td>0.02</td>\n",
       "      <td>0.125333</td>\n",
       "      <td>0.182322</td>\n",
       "      <td>0.2</td>\n",
       "      <td>0.122851</td>\n",
       "    </tr>\n",
       "    <tr>\n",
       "      <th>3</th>\n",
       "      <td>0.970446</td>\n",
       "      <td>0.03</td>\n",
       "      <td>0.187381</td>\n",
       "      <td>0.262364</td>\n",
       "      <td>0.3</td>\n",
       "      <td>0.181843</td>\n",
       "    </tr>\n",
       "    <tr>\n",
       "      <th>4</th>\n",
       "      <td>0.960789</td>\n",
       "      <td>0.04</td>\n",
       "      <td>0.248690</td>\n",
       "      <td>0.336472</td>\n",
       "      <td>0.4</td>\n",
       "      <td>0.238939</td>\n",
       "    </tr>\n",
       "  </tbody>\n",
       "</table>\n",
       "</div>"
      ],
      "text/plain": [
       "    volts_1  time_1   volts_2   volts_2  time_2   volts_4\n",
       "0  1.000000    0.00  0.000000  0.000000     0.0  0.000000\n",
       "1  0.990050    0.01  0.062791  0.095310     0.1  0.062166\n",
       "2  0.980199    0.02  0.125333  0.182322     0.2  0.122851\n",
       "3  0.970446    0.03  0.187381  0.262364     0.3  0.181843\n",
       "4  0.960789    0.04  0.248690  0.336472     0.4  0.238939"
      ]
     },
     "execution_count": 18,
     "metadata": {},
     "output_type": "execute_result"
    }
   ],
   "source": [
    "df.head()"
   ]
  },
  {
   "cell_type": "code",
   "execution_count": 19,
   "metadata": {
    "collapsed": false
   },
   "outputs": [
    {
     "data": {
      "text/plain": [
       "0    1.000000\n",
       "1    0.990050\n",
       "2    0.980199\n",
       "3    0.970446\n",
       "4    0.960789\n",
       "Name: volts_1, dtype: float64"
      ]
     },
     "execution_count": 19,
     "metadata": {},
     "output_type": "execute_result"
    }
   ],
   "source": [
    "df.volts_1.head()"
   ]
  },
  {
   "cell_type": "code",
   "execution_count": 20,
   "metadata": {
    "collapsed": false
   },
   "outputs": [
    {
     "data": {
      "text/plain": [
       "0.24370527032639769"
      ]
     },
     "execution_count": 20,
     "metadata": {},
     "output_type": "execute_result"
    }
   ],
   "source": [
    "df.volts_1.std()"
   ]
  },
  {
   "cell_type": "code",
   "execution_count": 21,
   "metadata": {
    "collapsed": false
   },
   "outputs": [
    {
     "data": {
      "text/plain": [
       "volts_1    0.243705\n",
       "time_1     0.578792\n",
       "volts_2    0.708881\n",
       "volts_2    0.324605\n",
       "time_2     0.591608\n",
       "volts_4    0.340231\n",
       "dtype: float64"
      ]
     },
     "execution_count": 21,
     "metadata": {},
     "output_type": "execute_result"
    }
   ],
   "source": [
    "df.std()"
   ]
  },
  {
   "cell_type": "code",
   "execution_count": 25,
   "metadata": {
    "collapsed": false
   },
   "outputs": [
    {
     "data": {
      "image/png": "[encoded data removed]",
      "text/plain": [
       "<matplotlib.figure.Figure at 0x4aa9978>"
      ]
     },
     "metadata": {},
     "output_type": "display_data"
    }
   ],
   "source": [
    "%matplotlib inline\n",
    "import matplotlib.pyplot as plt\n",
    "import matplotlib.gridspec as gridspec\n",
    "import plotly.plotly as py\n",
    "from plotly.graph_objs import *\n",
    "import plotly.tools as tls\n",
    "\n",
    "\n",
    "fig1 = plt.figure()\n",
    "t1 = np.arange(0.0,2.0,0.1)\n",
    "t2 = np.arange(0.0,2.0,0.01)\n",
    "l1, = plt.plot(t2,np.exp(-t2))\n",
    "l2, l3 = plt.plot(t2,np.sin(2*np.pi*t2),'--go',t1,np.log(1+t1),'.')\n",
    "l4, = plt.plot(t2,np.exp(-t2)*np.sin(2*np.pi*t2),'rs-.')\n",
    "\n",
    "plt.xlabel('time')\n",
    "plt.ylabel('volts')\n",
    "plt.title('Damped oscillation')\n",
    "\n",
    "plt.show()"
   ]
  },
  {
   "cell_type": "code",
   "execution_count": 26,
   "metadata": {
    "collapsed": false
   },
   "outputs": [
    {
     "name": "stdout",
     "output_type": "stream",
     "text": [
      "Aw, snap! We don't have an account for ''. Want to try again? You can authenticate with your email address or username. Sign in is not case sensitive.\n",
      "\n",
      "Don't have an account? plot.ly\n",
      "\n",
      "Questions? support@plot.ly\n"
     ]
    },
    {
     "ename": "IndexError",
     "evalue": "list index out of range",
     "output_type": "error",
     "traceback": [
      "\u001b[1;31m---------------------------------------------------------------------------\u001b[0m",
      "\u001b[1;31mIndexError\u001b[0m                                Traceback (most recent call last)",
      "\u001b[1;32m<ipython-input-26-420503f8ea5b>\u001b[0m in \u001b[0;36m<module>\u001b[1;34m()\u001b[0m\n\u001b[1;32m----> 1\u001b[1;33m \u001b[0mpy\u001b[0m\u001b[1;33m.\u001b[0m\u001b[0miplot_mpl\u001b[0m\u001b[1;33m(\u001b[0m\u001b[0mfig1\u001b[0m\u001b[1;33m,\u001b[0m\u001b[0mstrip_style\u001b[0m\u001b[1;33m=\u001b[0m\u001b[0mTrue\u001b[0m\u001b[1;33m,\u001b[0m\u001b[0mfilename\u001b[0m\u001b[1;33m=\u001b[0m\u001b[1;34m'ipython/mpl_example'\u001b[0m\u001b[1;33m)\u001b[0m\u001b[1;33m\u001b[0m\u001b[0m\n\u001b[0m",
      "\u001b[1;32mC:\\Users\\Jamie\\AppData\\Local\\Enthought\\Canopy\\User\\lib\\site-packages\\plotly\\plotly\\plotly.pyc\u001b[0m in \u001b[0;36miplot_mpl\u001b[1;34m(fig, resize, strip_style, update, **plot_options)\u001b[0m\n\u001b[0;32m    257\u001b[0m             \u001b[1;34m\"object. Run 'help(plotly.graph_objs.Figure)' for more info.\"\u001b[0m\u001b[1;33m\u001b[0m\u001b[0m\n\u001b[0;32m    258\u001b[0m         )\n\u001b[1;32m--> 259\u001b[1;33m     \u001b[1;32mreturn\u001b[0m \u001b[0miplot\u001b[0m\u001b[1;33m(\u001b[0m\u001b[0mfig\u001b[0m\u001b[1;33m,\u001b[0m \u001b[1;33m**\u001b[0m\u001b[0mplot_options\u001b[0m\u001b[1;33m)\u001b[0m\u001b[1;33m\u001b[0m\u001b[0m\n\u001b[0m\u001b[0;32m    260\u001b[0m \u001b[1;33m\u001b[0m\u001b[0m\n\u001b[0;32m    261\u001b[0m \u001b[1;33m\u001b[0m\u001b[0m\n",
      "\u001b[1;32mC:\\Users\\Jamie\\AppData\\Local\\Enthought\\Canopy\\User\\lib\\site-packages\\plotly\\plotly\\plotly.pyc\u001b[0m in \u001b[0;36miplot\u001b[1;34m(figure_or_data, **plot_options)\u001b[0m\n\u001b[0;32m    115\u001b[0m     \u001b[0mres\u001b[0m \u001b[1;33m=\u001b[0m \u001b[0mplot\u001b[0m\u001b[1;33m(\u001b[0m\u001b[0mfigure_or_data\u001b[0m\u001b[1;33m,\u001b[0m \u001b[1;33m**\u001b[0m\u001b[0mplot_options\u001b[0m\u001b[1;33m)\u001b[0m\u001b[1;33m\u001b[0m\u001b[0m\n\u001b[0;32m    116\u001b[0m     \u001b[0murlsplit\u001b[0m \u001b[1;33m=\u001b[0m \u001b[0mres\u001b[0m\u001b[1;33m.\u001b[0m\u001b[0msplit\u001b[0m\u001b[1;33m(\u001b[0m\u001b[1;34m'/'\u001b[0m\u001b[1;33m)\u001b[0m\u001b[1;33m\u001b[0m\u001b[0m\n\u001b[1;32m--> 117\u001b[1;33m     \u001b[0musername\u001b[0m\u001b[1;33m,\u001b[0m \u001b[0mplot_id\u001b[0m \u001b[1;33m=\u001b[0m \u001b[0murlsplit\u001b[0m\u001b[1;33m[\u001b[0m\u001b[1;33m-\u001b[0m\u001b[1;36m2\u001b[0m\u001b[1;33m]\u001b[0m\u001b[1;33m[\u001b[0m\u001b[1;36m1\u001b[0m\u001b[1;33m:\u001b[0m\u001b[1;33m]\u001b[0m\u001b[1;33m,\u001b[0m \u001b[0murlsplit\u001b[0m\u001b[1;33m[\u001b[0m\u001b[1;33m-\u001b[0m\u001b[1;36m1\u001b[0m\u001b[1;33m]\u001b[0m  \u001b[1;31m# TODO: HACKY!\u001b[0m\u001b[1;33m\u001b[0m\u001b[0m\n\u001b[0m\u001b[0;32m    118\u001b[0m \u001b[1;33m\u001b[0m\u001b[0m\n\u001b[0;32m    119\u001b[0m     \u001b[0membed_options\u001b[0m \u001b[1;33m=\u001b[0m \u001b[0mdict\u001b[0m\u001b[1;33m(\u001b[0m\u001b[1;33m)\u001b[0m\u001b[1;33m\u001b[0m\u001b[0m\n",
      "\u001b[1;31mIndexError\u001b[0m: list index out of range"
     ]
    }
   ],
   "source": [
    "py.iplot_mpl(fig1,strip_style=True,filename='ipython/mpl_example')"
   ]
  },
  {
   "cell_type": "code",
   "execution_count": null,
   "metadata": {
    "collapsed": true
   },
   "outputs": [],
   "source": []
  }
 ],
 "metadata": {
  "kernelspec": {
   "display_name": "Python 2",
   "language": "python",
   "name": "python2"
  },
  "language_info": {
   "codemirror_mode": {
    "name": "ipython",
    "version": 2
   },
   "file_extension": ".py",
   "mimetype": "text/x-python",
   "name": "python",
   "nbconvert_exporter": "python",
   "pygments_lexer": "ipython2",
   "version": "2.7.10"
  }
 },
 "nbformat": 4,
 "nbformat_minor": 0
}
