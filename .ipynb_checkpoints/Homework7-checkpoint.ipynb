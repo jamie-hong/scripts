{
 "cells": [
  {
   "cell_type": "markdown",
   "metadata": {},
   "source": [
    "# Homework Solution 7\n",
    "\n",
    "Ming Hong (mh4286@nyu.edu)"
   ]
  },
  {
   "cell_type": "code",
   "execution_count": 6,
   "metadata": {
    "collapsed": false
   },
   "outputs": [
    {
     "name": "stdout",
     "output_type": "stream",
     "text": [
      "Populating the interactive namespace from numpy and matplotlib\n"
     ]
    }
   ],
   "source": [
    "%pylab inline\n",
    "import math\n",
    "import numpy as np\n",
    "from scipy.optimize import linprog"
   ]
  },
  {
   "cell_type": "markdown",
   "metadata": {},
   "source": [
    "Similar to our example in class, here is the table of future liabilities (in $millions):\n",
    "\n",
    "|  Years | 1 | 2 | 3 | 4 | 5 | 6 | 7 | 8 | 9 |\n",
    "| :-----: | :----: | :----: | :----: | :----: | :----: | :----: | :----: | :----: | :----: |\n",
    "|  Benefits($millions) | 24 | 26 | 28 | 28 | 26 | 29 | 32 | 33 | 34 |\n",
    "\n",
    "\n",
    "And here is the set of bonds that can be invested in:\n",
    "\n",
    "|  Bonds | 1 | 2 | 3 | 4 | 5 | 6 | 7 | 8 | 9 | 10 | 11 | 12 |\n",
    "| :-----: | :----: | :----: | :----: | :----: | :----: | :----: | :----: | :----: | :----: | :----: | :----: | :----: |\n",
    "|  Price | 102 | 101.625 | 103 | 102 | 102 | 103 | 101 | 101.5 | 102 | 102.75 | 103 | 104 |\n",
    "|  Coupon(%) | 1.25 | 1.5 | 2.5 | 1.75 | 2.125 | 2.5 | 2.625 | 3 | 3.125 | 3.5 |  3.75 | 4.5 |\n",
    "|  Maturity(Years) | 1 | 2 | 2 | 3 | 4 | 5 | 5 | 6 | 7 | 8 |  8 | 9 |\n",
    "\n",
    "\n",
    "Find the **least cost** portfolio of bonds so that the pension fund can meet its future liabilities. Please show your LP problem set up.\n"
   ]
  },
  {
   "cell_type": "markdown",
   "metadata": {
    "collapsed": true
   },
   "source": [
    "## Solution\n",
    "\n"
   ]
  },
  {
   "cell_type": "markdown",
   "metadata": {},
   "source": [
    "The problem can be formulated as a linear programming problem with the following set up:\n",
    "\n",
    "* $L_k, k = 1,\\cdots, 9 $ are the future benefits (liabilities) payment at year $k$\n",
    "* $P_i, i = 1,\\cdots, 12 $ are the prices of bond $i$\n",
    "* $C_i, i = 1,\\cdots, 12 $ are the coupons of bond $i$\n",
    "* $M_i, i = 1,\\cdots, 12 $ are the maturity of bond $i$\n",
    "* We can also assume the following variables:\n",
    "    * $x_i, i = 1,\\cdots, 12 $ are the amount of bond $i$ to be purchased\n",
    "    * $s_k, k = 1,\\cdots, 9 $ are the free cash at the end of year $k$ \n",
    "    \n",
    "And the LP problem becomes:\n",
    "\n",
    "\\begin{equation*}\n",
    "\\min_{\\boldsymbol x} \\left( \\sum_i x_i P_i \\right)\n",
    "\\end{equation*}\n",
    "\\begin{aligned}\n",
    "\\mbox{s.t.} & \\sum_{i=1,12; M_i\\geq k} \\; C_i(t)x_i +100\\sum_{i=1,12; M_i= k} \\;x_i - s_k + s_{k-1}= L_k, \\;\\;  k = 1,2,\\cdots, 9\n",
    "\\\\\n",
    "     & x_i \\geq 0 \\;\\; i = 1,2,\\cdots, 12; \\;\\;\\; s_k \\geq 0 \\;\\;  k = 1,2,\\cdots, 9\n",
    "\\end{aligned}\n",
    "where we assume $s_0 = 0$."
   ]
  },
  {
   "cell_type": "code",
   "execution_count": 7,
   "metadata": {
    "collapsed": false
   },
   "outputs": [
    {
     "name": "stdout",
     "output_type": "stream",
     "text": [
      "Optimization terminated successfully.\n",
      "         Current function value: 225.127689  \n",
      "         Iterations: 9\n",
      "The solution from Scipy Simplex method:\n",
      "[ 0.17615949  0.          0.19836148  0.22332052  0.22722863  0.\n",
      "  0.21205724  0.24762374  0.28505245  0.          0.30396034  0.32535885\n",
      "  0.          0.          0.          0.          0.          0.          0.\n",
      "  0.          0.        ]\n"
     ]
    }
   ],
   "source": [
    "p = np.array([102, 101.625, 103, 102, 102, 103, 101, 101.5, 102, 102.75, 103, 104, 0, 0, 0, 0, 0, 0, 0, 0, 0])\n",
    "b = np.array([24, 26, 28, 28, 26, 29, 32, 33, 34])\n",
    "A = [[100+1.25, 1.5, 2.5, 1.75, 2.125, 2.5, 2.625, 3, 3.125, 3.5, 3.75, 4.5, -1.0, 0, 0, 0, 0, 0, 0, 0, 0],  \n",
    "     [0, 100+1.5, 100+2.5, 1.75, 2.125, 2.5, 2.625, 3, 3.125, 3.5, 3.75, 4.5, 1.0, -1.0, 0, 0, 0, 0, 0, 0, 0],  \n",
    "     [0, 0, 0, 100+1.75, 2.125, 2.5, 2.625, 3, 3.125, 3.5, 3.75, 4.5, 0, 1.0, -1.0, 0, 0, 0, 0, 0, 0],  \n",
    "     [0, 0, 0, 0, 100+2.125, 2.5, 2.625, 3, 3.125, 3.5, 3.75, 4.5, 0, 0, 1.0, -1.0, 0, 0, 0, 0, 0],  \n",
    "     [0, 0, 0, 0, 0, 100+2.5, 100+2.625, 3, 3.125, 3.5, 3.75, 4.5, 0, 0, 0, 1.0, -1.0, 0, 0, 0, 0],  \n",
    "     [0, 0, 0, 0, 0, 0, 0, 100+3, 3.125, 3.5, 3.75, 4.5, 0, 0, 0, 0, 1.0, -1.0, 0, 0, 0],  \n",
    "     [0, 0, 0, 0, 0, 0, 0, 0, 100+3.125, 3.5, 3.75, 4.5, 0, 0, 0, 0, 0, 1.0, -1.0, 0, 0],  \n",
    "     [0, 0, 0, 0, 0, 0, 0, 0, 0, 100+3.5, 100+3.75, 4.5, 0, 0, 0, 0, 0, 0, 1.0, -1.0, 0],\n",
    "     [0, 0, 0, 0, 0, 0, 0, 0, 0, 0, 0, 100+4.5, 0, 0, 0, 0, 0, 0, 0, 1.0, -1.0]]\n",
    "\n",
    "res = linprog(p, A_eq=A, b_eq=b,\n",
    "                options={ 'disp': True})\n",
    "\n",
    "print \"The solution from Scipy Simplex method:\"\n",
    "print  (res.x)"
   ]
  },
  {
   "cell_type": "code",
   "execution_count": null,
   "metadata": {
    "collapsed": true
   },
   "outputs": [],
   "source": []
  }
 ],
 "metadata": {
  "kernelspec": {
   "display_name": "Python 2",
   "language": "python",
   "name": "python2"
  },
  "language_info": {
   "codemirror_mode": {
    "name": "ipython",
    "version": 2
   },
   "file_extension": ".py",
   "mimetype": "text/x-python",
   "name": "python",
   "nbconvert_exporter": "python",
   "pygments_lexer": "ipython2",
   "version": "2.7.10"
  }
 },
 "nbformat": 4,
 "nbformat_minor": 0
}
