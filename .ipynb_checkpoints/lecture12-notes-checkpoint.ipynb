{
 "cells": [
  {
   "cell_type": "code",
   "execution_count": 50,
   "metadata": {
    "collapsed": false,
    "slideshow": {
     "slide_type": "skip"
    }
   },
   "outputs": [
    {
     "name": "stdout",
     "output_type": "stream",
     "text": [
      "Populating the interactive namespace from numpy and matplotlib\n"
     ]
    }
   ],
   "source": [
    "%pylab inline\n",
    "lecture = 12\n",
    "\n",
    "import sys\n",
    "sys.path.append(\"lib\")\n",
    "import fmt\n",
    "import sympy as sp\n",
    "import pandas as pd\n",
    "from IPython.display import display\n",
    "\n",
    "import warnings\n",
    "warnings.filterwarnings('ignore')\n",
    "\n",
    "assert sp.__version__ == \"0.7.5\", \"Need sympy version 0.7.5 to render properly\"\n",
    "sp.init_printing(use_latex = True)"
   ]
  },
  {
   "cell_type": "markdown",
   "metadata": {
    "slideshow": {
     "slide_type": "slide"
    }
   },
   "source": [
    "# Lecture 12: Numerical Methods for Partial Differential Equations\n",
    "\n",
    "## Objectives\n",
    "\n",
    "* Introduction\n",
    "    * Second Order PDE Classification\n",
    "    * Initial and Boundary Conditions\n",
    "    * Black-Scholes Equation\n",
    "    \n",
    "    \n",
    "\n",
    "\n"
   ]
  },
  {
   "cell_type": "markdown",
   "metadata": {
    "slideshow": {
     "slide_type": "subslide"
    }
   },
   "source": [
    "\n",
    "* Finite Difference Methods for Solving PDEs\n",
    "    * Discretization\n",
    "    * Finite Difference Methods\n",
    "    * The Explicit Methods\n",
    "    * The Implicit Methods\n",
    "    * The Crank-Nicholson Method\n",
    "    * Consistency, Stability and Convergence\n",
    "       \n",
    "    \n",
    "* Numerical Examples\n",
    "    * Vanilla European Call\n",
    "    * Up-And-Out Barrier Call\n",
    "\n"
   ]
  },
  {
   "cell_type": "markdown",
   "metadata": {
    "slideshow": {
     "slide_type": "slide"
    }
   },
   "source": [
    "# Introduction\n",
    "\n",
    "\n",
    "* In finance, most partial differential equations (PDE) we encounter are of the form\n",
    "\n",
    "$$\n",
    "\\renewcommand{PDut}{\\frac{\\partial u}{\\partial t}}\n",
    "\\renewcommand{PDux}{\\frac{\\partial u}{\\partial x}}\n",
    "\\renewcommand{PDutt}{\\frac{\\partial ^2u}{\\partial t^2}}\n",
    "\\renewcommand{PDuxx}{\\frac{\\partial ^2u}{\\partial x^2}}\n",
    "\\renewcommand{PDuyy}{\\frac{\\partial ^2u}{\\partial y^2}}\n",
    "\\large{\n",
    "a(x,t)\\PDutt + 2b(x,t)\\frac{\\partial ^2u}{\\partial t\\partial x} + c(x,t)\\PDuxx \n",
    "+  d(x,t)\\PDut + e(x,t)\\PDux = f(t,x,u)\n",
    "}\n",
    "$$\n",
    "\n",
    "\n",
    "* Classified into: **Hyperbolic, Parabolic and Elliptic**\n",
    "\n",
    "\n",
    "* In general, the different types of equations make a big difference in how the solutions behave and\n",
    "\n",
    "\n",
    "* On how we can solve them more effectively\n",
    "\n",
    "\n",
    "\n",
    "\n"
   ]
  },
  {
   "cell_type": "markdown",
   "metadata": {
    "slideshow": {
     "slide_type": "subslide"
    }
   },
   "source": [
    "## Classification\n",
    "\n",
    "### Hyperbolic \n",
    "\n",
    "\n",
    "* $b^2(x,t) - a(x,t)c(x,t) > 0 $\n",
    "\n",
    "     $\\;$\n",
    "\n",
    "* The canonical form:\n",
    "\n",
    "$$\n",
    "\\large{\n",
    "\\PDutt = c^2 \\PDuxx\n",
    "}\n",
    "$$\n",
    "\n",
    "* Mostly referred to as the **Wave equation**\n"
   ]
  },
  {
   "cell_type": "markdown",
   "metadata": {
    "slideshow": {
     "slide_type": "subslide"
    }
   },
   "source": [
    "### Parabolic \n",
    "\n",
    "\n",
    "* $b^2(x,t) - a(x,t)c(x,t) = 0 $\n",
    "\n",
    "     $\\;$\n",
    "\n",
    "* The canonical form:\n",
    "\n",
    "$$\n",
    "\\large{\n",
    "\\PDut = d \\;\\PDuxx\n",
    "}\n",
    "$$\n",
    "\n",
    "\n",
    "* Mostly referred to as the **Heat equation**\n"
   ]
  },
  {
   "cell_type": "markdown",
   "metadata": {
    "slideshow": {
     "slide_type": "subslide"
    }
   },
   "source": [
    "### Elliptic \n",
    "\n",
    "\n",
    "* $b^2(x,y) - a(x,y)c(x,y) < 0 $\n",
    "\n",
    "     $\\;$\n",
    "\n",
    "* The canonical form:\n",
    "\n",
    "$$\n",
    "\\large{\n",
    "\\PDuxx + \\PDuyy = 0\n",
    "}\n",
    "$$\n",
    "\n",
    "* Mostly referred to as the **Laplace or Poisson equation**. The solutions are **Harmonic** functions, describing e.g. the gravitational, electric potentials."
   ]
  },
  {
   "cell_type": "markdown",
   "metadata": {
    "slideshow": {
     "slide_type": "subslide"
    }
   },
   "source": [
    "## Initial and Boundary Conditions \n",
    "\n",
    "\n",
    "* Depending on the problem, we usually have **initial conditions (IC)**\n",
    "\n",
    "$$\n",
    "\\large{\n",
    "x(x, t=0) = u_0(x)\n",
    "}\n",
    "$$\n",
    "\n",
    "* and/or **boundary conditions (BC)**\n",
    "\n",
    "$$\n",
    "\\large{\n",
    "a \\; u + b\\; \\PDux = c, \\;\\forall \\; x \\in \\partial Q, \\;\\forall \\; t\n",
    "}\n",
    "$$\n",
    "\n",
    "* and the BC is called **Dirichlet** if $b = 0$, **Neumann** if $a = 0$, and **Robin**  otherwise ."
   ]
  },
  {
   "cell_type": "markdown",
   "metadata": {
    "slideshow": {
     "slide_type": "subslide"
    }
   },
   "source": [
    "## **Black-Scholes** Equation\n",
    "\n",
    "$$\n",
    "\\renewcommand{PDuS}{\\frac{\\partial u}{\\partial S}}\n",
    "\\renewcommand{PDuSS}{\\frac{\\partial ^2u}{\\partial S^2}}\n",
    "\\PDut + \\frac{1}{2}\\sigma^2S^2\\PDuSS + rS\\PDuS - ru = 0\n",
    "$$\n",
    "\n",
    "\n",
    "* It belongs to the parabolic type, and can be converted into the standard Heat equation form by a change-of-variables (may be a final problem)\n",
    "\n",
    "* For **European Call** option, the \"initial\" (the payoff function) and boundary conditions are\n",
    "\n",
    "\\begin{aligned}\n",
    "&u(S,T) = \\max(S-K, 0);\n",
    "\\\\\n",
    "&u(0,t) = 0; \n",
    "\\\\\n",
    "&u(S,t) = S - Ke^{-r(T-t)}, \\;\\mbox{as } \\; S \\rightarrow \\infty\n",
    "\\end{aligned}\n",
    "\n",
    "* $-Ke^{-r(T-t)}$ in the last condition is retained for the sake of numerical solver (S cannot be infinite in a numerical solver).\n"
   ]
  },
  {
   "cell_type": "markdown",
   "metadata": {
    "slideshow": {
     "slide_type": "subslide"
    }
   },
   "source": [
    "\n",
    "\n",
    "* For **European Put** option, the \"initial\" (the payoff function) and boundary conditions are\n",
    "\n",
    "\\begin{aligned}\n",
    "\\renewcommand{FDut}{\\frac{u_{i,k+1}-u_{i,k}}{\\triangle t}}\n",
    "\\renewcommand{FDutb}{\\frac{u_{i,k}-u_{i,k-1}}{\\triangle t}}\n",
    "\\renewcommand{FDutc}{\\frac{u_{i,k+1}-u_{i,k-1}}{2\\triangle t}}\n",
    "\\renewcommand{FDutt}{\\frac{u_{i,k+1}-2u_{i,k}+u_{i,k-1}}{\\triangle t^2}}\n",
    "\\renewcommand{FDux}{\\frac{u_{i+1,k}-u_{i,k}}{\\triangle x}}\n",
    "\\renewcommand{FDuxb}{\\frac{u_{i,k}-u_{i-1,k}}{\\triangle x}}\n",
    "\\renewcommand{FDuxc}{\\frac{u_{i+1,k}-u_{i-1,k}}{2\\triangle x}}\n",
    "\\renewcommand{FDuxx}{\\frac{u_{i+1,k}-2u_{i,k}+u_{i-1,k}}{\\triangle x^2}}\n",
    "&u(S,T) = \\max(K-S, 0);\n",
    "\\\\\n",
    "&u(0,t) = Ke^{-r(T-t)}; \n",
    "\\\\\n",
    "&u(S,t) = 0, \\;\\mbox{as } \\; S \\rightarrow \\infty\n",
    "\\end{aligned}\n",
    "\n",
    "\n"
   ]
  },
  {
   "cell_type": "markdown",
   "metadata": {
    "slideshow": {
     "slide_type": "slide"
    }
   },
   "source": [
    "# Finite Difference Methods for Solving PDEs\n",
    "\n",
    "\n",
    "\n",
    "* Very rare that the PDEs have closed form solutions, in general, can only be solved numerically.\n",
    "\n",
    "\n",
    "* Will focus on the finite difference method (FDM): other numerical methods exist and can be more appropriate---very much depends on the actual problems at hand.\n",
    "\n"
   ]
  },
  {
   "cell_type": "markdown",
   "metadata": {
    "slideshow": {
     "slide_type": "subslide"
    }
   },
   "source": [
    "\n",
    "\n",
    "## Discretization\n",
    "\n",
    "\n",
    "* First step in solving PDEs using FDM is to represent the solution $u(x,t)$ as a discrete collection of values at a well distributed grid points in space and time in the proper domain.\n",
    "\n",
    "\n",
    "* For example, for the  rectangular domain in space and time with $t \\in [0, T]$ and $x\\in [x_{min}, x_{max}]$, we can represent the points simply as $t_0 = 0, t_1, t_2, \\cdots, t_M = T$ in time and $x_0 = x_{min}, x_1, x_2, \\cdots, x_N = x_{max}$ in space. The grid is uniform, i.e. $t_{k+1} = t_k + \\triangle t, \\;\\triangle t = \\frac{T}{M}$ and $x_{i+1} = x_i + \\triangle x, \\;\\triangle x = \\frac{x_{max}-x_{min}}{N}$.\n",
    "\n",
    "\n",
    "* The discretized version of the solution will be represented by the values of \n",
    "\n",
    "$$\n",
    "u_{i,k} = u(x_i, t_k), \\;\\mbox{for   }  i = 0,1,\\cdots,N, \\mbox{  and  } k = 0,1,\\cdots,M\n",
    "$$\n",
    "\n",
    "\n",
    "* The values of $u(x,t)$ at any other desired points can be approximated via interpolation.\n",
    "\n",
    "\n"
   ]
  },
  {
   "cell_type": "markdown",
   "metadata": {
    "slideshow": {
     "slide_type": "subslide"
    }
   },
   "source": [
    "\n",
    "\n",
    "* A uniform mesh may not necessary be the most efficient form to work with, in fact, it rarely is.\n",
    "\n",
    "\n",
    "* A greatly simplified rule-of-thumb: the mesh needs to be refined around the region where the function varies a lot\n",
    "\n",
    "\n",
    "* On the other hand, the mesh can be relatively coarse if the function is smooth and changing slowly\n",
    "\n",
    "\n",
    "* How do I know where to put more points and where to put less before knowing the solution: concepts of adaptive mesh\n",
    "\n",
    "\n",
    "* In finance (mostly for fixed income), the time grid is well advised to keep the **important** dates as grid points: such as cash flow dates, contractual schedule dates, etc. The spacing of these dates is most likely not uniform.\n",
    "\n",
    "\n",
    "\n",
    "\n"
   ]
  },
  {
   "cell_type": "markdown",
   "metadata": {
    "slideshow": {
     "slide_type": "subslide"
    }
   },
   "source": [
    "\n",
    "## Finite Difference Methods(FDM)\n",
    "\n",
    "* Toolkit for finite difference approximation\n",
    "\n",
    "\n",
    "|  Partial Derivative | Finite Difference | Type | Order | \n",
    "| :-----: | :----: | :----: | :----: | \n",
    "|  $\\PDux$ | $\\FDux$ | forward | 1st in $x$ | \n",
    "|  $\\PDux$ | $\\FDuxb$ | backward | 1st in $x$ | \n",
    "|  $\\PDux$ | $\\FDuxc$ | central | 2nd in $x$ | \n",
    "|  $\\PDuxx$ | $\\FDuxx$ | symmetric | 2nd in $x$ |  \n",
    "|  $\\PDut$ | $\\FDut$ | forward | 1st in $t$ | \n",
    "|  $\\PDut$ | $\\FDutb$ | backward | 1st in $t$ | \n",
    "|  $\\PDut$ | $\\FDutc$ | central | 2nd in $t$ | \n",
    "|  $\\PDutt$ | $\\FDutt$ | symmetric | 2nd in $t$ | \n"
   ]
  },
  {
   "cell_type": "markdown",
   "metadata": {
    "slideshow": {
     "slide_type": "subslide"
    }
   },
   "source": [
    "## The Explicit Method \n",
    "\n",
    "* For convenience, reverse the time for Black-Scholes notation: $ t \\leftarrow T - t$\n",
    "\n",
    "$$\n",
    "\\PDut - \\frac{1}{2}\\sigma^2S^2\\PDuSS - rS\\PDuS + ru = 0\n",
    "$$\n",
    "\n",
    "* Approximate the Black-Scholes Eqn by\n",
    "\n",
    "$$\n",
    "\\FDut - \\frac{1}{2} \\sigma^2 x_i^2 \\FDuxx - r x_i \\FDuxc + r u_{i,k} = 0\n",
    "$$\n",
    "\n",
    "$\\PDuS$ uses central scheme for more accuracy, it is second order, matching the second order derivative of the second term.\n",
    "\n",
    "* This can be rewritten simply as\n",
    "\n",
    "\\begin{aligned}\n",
    "u_{i,k+1} & = \\left\\{ \\frac{1}{2}\\sigma^2 x_i^2 \\frac{\\triangle t}{\\triangle x^2} - r x_i \\frac{\\triangle t}{2\\triangle x} \\right\\} u_{i-1,k}\n",
    "\\\\\n",
    "& + \\left\\{ 1 - \\sigma^2 x_i^2 \\frac{\\triangle t}{\\triangle x^2}  -r \\triangle t \\right\\} u_{i,k}\n",
    "\\\\\n",
    "& + \\left\\{ \\frac{1}{2}\\sigma^2 x_i^2 \\frac{\\triangle t}{\\triangle x^2} + r x_i \\frac{\\triangle t}{2\\triangle x} \\right\\} u_{i+1,k}\n",
    "\\end{aligned}\n",
    "\n"
   ]
  },
  {
   "cell_type": "markdown",
   "metadata": {
    "slideshow": {
     "slide_type": "subslide"
    }
   },
   "source": [
    "## The Implicit Method \n",
    "\n",
    "* Approximate the Black-Scholes Eqn by\n",
    "\n",
    "$$\n",
    "\\FDutb - \\frac{1}{2} \\sigma^2 x_i^2 \\FDuxx - r x_i \\FDuxc = - r u_{i,k}\n",
    "$$\n",
    "\n",
    "* Which can be rewritten as\n",
    "\n",
    "\\begin{aligned}\n",
    "u_{i,k-1} & = \\left\\{ -\\frac{1}{2}\\sigma^2 x_i^2 \\frac{\\triangle t}{\\triangle x^2} + r x_i \\frac{\\triangle t}{2\\triangle x} \\right\\} u_{i-1,k}\n",
    "\\\\\n",
    "& + \\left\\{ 1 + \\sigma^2 x_i^2 \\frac{\\triangle t}{\\triangle x^2}  + r \\triangle t \\right\\} u_{i,k}\n",
    "\\\\\n",
    "& + \\left\\{ -\\frac{1}{2}\\sigma^2 x_i^2 \\frac{\\triangle t}{\\triangle x^2} - r x_i \\frac{\\triangle t}{2\\triangle x} \\right\\} u_{i+1,k}\n",
    "\\end{aligned}\n",
    "\n",
    "\n",
    "\n"
   ]
  },
  {
   "cell_type": "markdown",
   "metadata": {
    "slideshow": {
     "slide_type": "subslide"
    }
   },
   "source": [
    "## The Crank-Nicholson Method \n",
    "\n",
    "* Crank-Nicholson is an average of the explicit and implicit scheme:\n",
    "\n",
    "\\begin{aligned}\n",
    "\\FDut & = \\frac{1}{4}  \\sigma^2 x_i^2 \\left\\{ \\FDuxx + \\frac{u_{i+1,k+1}-2u_{i,k+1}+u_{i-1,k+1}}{\\triangle x^2} \\right\\}\n",
    "\\\\ \n",
    "    & + \\frac{1}{2} r x_i \\left\\{ \\FDuxc + \\frac{u_{i+1,k+1}-u_{i-1,k+1}}{2\\triangle x} \\right\\} \n",
    "\\\\\n",
    "    & - \\frac{1}{2} r \\left\\{  u_{i,k} +  u_{i,k+1} \\right\\} \n",
    "\\end{aligned}\n",
    "\n",
    "\n"
   ]
  },
  {
   "cell_type": "markdown",
   "metadata": {
    "slideshow": {
     "slide_type": "subslide"
    }
   },
   "source": [
    "## Consistency, Stability and Convergence\n",
    "\n",
    "* For any FDM that are used to solve practical problems, we should ask\n",
    "\n",
    "    * 1) How acurate is the method?    \n",
    "    \n",
    "    * 2) Does it converge?    \n",
    "    \n",
    "    * 3) What is the best choice of step sizes?\n",
    "\n",
    "\n"
   ]
  },
  {
   "cell_type": "markdown",
   "metadata": {
    "slideshow": {
     "slide_type": "subslide"
    }
   },
   "source": [
    "### Consistency \n",
    "\n",
    "* For the explicit method above, the local truncation error is\n",
    "\n",
    "$$\n",
    "T(x,t) = O(\\triangle x^2 + \\triangle t)\n",
    "$$\n",
    "\n",
    "\n",
    "\n",
    "* Taylor series expansion can verify this (or one can simply read this off of the Toolkit Table).\n",
    "\n",
    "\n",
    "* So the explicit method above is consistent of order 1 in time and order 2 in spatial variable.\n",
    "\n"
   ]
  },
  {
   "cell_type": "markdown",
   "metadata": {
    "slideshow": {
     "slide_type": "subslide"
    }
   },
   "source": [
    "### Fourier (Von Neumann) Stability Analysis\n",
    "\n",
    "* The Fourier method of analyzing the stability of FDM boils down to substitute  $u_{j,k}$ with\n",
    "\n",
    "$$\n",
    "\\epsilon_{j,k} = e^{a t_k}e^{il_mx_j}\n",
    "$$\n",
    "\n"
   ]
  },
  {
   "cell_type": "markdown",
   "metadata": {
    "slideshow": {
     "slide_type": "fragment"
    }
   },
   "source": [
    "\n",
    "* The logic behind this: assuming $v_{j,k}$ is the (perfect) solution of the FDM that did not suffer from finite precision arithmetic and is without the round off error, then the error \n",
    "\n",
    "$$\n",
    "\\epsilon_{j,k} = v_{j,k} - u_{j,k}\n",
    "$$\n",
    "\n",
    "$\\hspace{0.2in}$ again satifies the FDM due to linearity.\n"
   ]
  },
  {
   "cell_type": "markdown",
   "metadata": {
    "slideshow": {
     "slide_type": "subslide"
    }
   },
   "source": [
    "\n",
    "\n",
    "\n",
    "* Looking for $\\epsilon_{j,k} $ in the Fourier expansion representation,\n",
    "\n",
    "$$\n",
    "\\epsilon(x,t) = \\sum_{m= 1}^{M} e^{at}e^{il_mx}\n",
    "$$\n",
    "\n",
    "where $e^{at}$ is a special  form of the amplitude, and $l_m$ is the wavelength: $l_m = \\frac{\\pi m}{L}, m = 1, \\cdots, M,\n",
    "\\mbox{  and  } \n",
    "M = \\frac{L}{\\triangle x}$\n",
    "\n",
    "\n",
    "* Due to linearity again, the error analysis can be performed (without any loss of generality) by looking at a single term of the expansion\n",
    "\n",
    "$$\n",
    "e^{at_k}e^{il_mx_j}\n",
    "$$\n"
   ]
  },
  {
   "cell_type": "markdown",
   "metadata": {
    "slideshow": {
     "slide_type": "subslide"
    }
   },
   "source": [
    "\n",
    "* In fact, we are really interested in the amplification of the error,\n",
    "\n",
    "$$\n",
    "\\frac{\\epsilon_{j,k+1}}{\\epsilon_{j,k}} = e^{a\\triangle t}\n",
    "$$\n",
    "\n",
    "* The stability analysis in the Fourier method is simply to analyze the form of $e^{a\\triangle t}$ so that \n",
    "\n",
    "$$\n",
    "||e^{a\\triangle t}|| < 1\n",
    "$$\n"
   ]
  },
  {
   "cell_type": "markdown",
   "metadata": {
    "slideshow": {
     "slide_type": "subslide"
    }
   },
   "source": [
    "\n",
    "\n",
    "* For the explicit method,\n",
    "\n",
    "\\begin{aligned}\n",
    "e^{a (t_k + \\triangle t)}e^{il_mx_j} & = \\left\\{ \\frac{1}{2}\\sigma^2 x_j^2 \\frac{\\triangle t}{\\triangle x^2} - r x_j \\frac{\\triangle t}{2\\triangle x} \\right\\} e^{a t_k}e^{il_mx_{j-1}}\n",
    "\\\\\n",
    "& + \\left\\{ 1 - \\sigma^2 x_j^2 \\frac{\\triangle t}{\\triangle x^2}  -r \\triangle t \\right\\} e^{a t_k}e^{il_mx_j}\n",
    "\\\\\n",
    "& + \\left\\{ \\frac{1}{2}\\sigma^2 x_j^2 \\frac{\\triangle t}{\\triangle x^2} + r x_j \\frac{\\triangle t}{2\\triangle x} \\right\\} e^{a t_k}e^{il_mx_{j+1}}\n",
    "\\end{aligned}\n",
    "\n",
    "\n",
    "\n"
   ]
  },
  {
   "cell_type": "markdown",
   "metadata": {
    "slideshow": {
     "slide_type": "subslide"
    }
   },
   "source": [
    "\n",
    "\n",
    "\n",
    "* Simplify it into,\n",
    "\n",
    "\\begin{aligned}\n",
    "e^{a\\triangle t} & = \\left\\{ \\frac{1}{2}\\sigma^2 x_j^2 \\frac{\\triangle t}{\\triangle x^2} - r x_j \\frac{\\triangle t}{2\\triangle x} \\right\\} e^{-il_m\\triangle x}\n",
    "\\\\\n",
    "& + \\left\\{ 1 - \\sigma^2 x_j^2 \\frac{\\triangle t}{\\triangle x^2}  -r \\triangle t \\right\\}\n",
    "\\\\\n",
    "& + \\left\\{ \\frac{1}{2}\\sigma^2 x_j^2 \\frac{\\triangle t}{\\triangle x^2} + r x_j \\frac{\\triangle t}{2\\triangle x} \\right\\} e^{il_m\\triangle x}\n",
    "\\end{aligned}\n",
    "\n",
    "\n",
    "\n"
   ]
  },
  {
   "cell_type": "markdown",
   "metadata": {
    "slideshow": {
     "slide_type": "subslide"
    }
   },
   "source": [
    "\n",
    "* Looking at the simple case that $r = 0$,\n",
    "\n",
    "\\begin{aligned}\n",
    "e^{a\\triangle t} & = \\frac{1}{2}\\sigma^2 x_j^2 \\frac{\\triangle t}{\\triangle x^2} e^{-il_m\\triangle x}\n",
    "\\\\\n",
    "& +  1 - \\sigma^2 x_j^2 \\frac{\\triangle t}{\\triangle x^2} \n",
    "\\\\\n",
    "& + \\frac{1}{2}\\sigma^2 x_j^2 \\frac{\\triangle t}{\\triangle x^2} e^{il_m\\triangle x}\n",
    "\\end{aligned}\n",
    "\n"
   ]
  },
  {
   "cell_type": "markdown",
   "metadata": {
    "slideshow": {
     "slide_type": "subslide"
    }
   },
   "source": [
    "\n",
    "* which is\n",
    "\n",
    "\\begin{aligned}\n",
    "e^{a\\triangle t} &= \\sigma^2 x_j^2 \\frac{\\triangle t}{\\triangle x^2} \\cos(l_m\\triangle x)\n",
    "+  1 - \\sigma^2 x_j^2 \\frac{\\triangle t}{\\triangle x^2} \n",
    "\\\\\n",
    "& = 1 - \\sigma^2 x_j^2 \\frac{\\triangle t}{\\triangle x^2} \\cdot 2\\sin^2(l_m\\triangle x/2)\n",
    "\\end{aligned}\n",
    "\n",
    "\n",
    "* The stability condition will be saisfied if\n",
    "\n",
    "$$\n",
    "|| 1 - \\sigma^2 x_j^2 \\frac{\\triangle t}{\\triangle x^2} \\cdot 2\\sin^2(l_m\\triangle x/2) || < 1\n",
    "$$\n",
    "\n",
    "* Or if\n",
    "\n",
    "$$\n",
    "\\triangle t < \\frac{\\triangle x^2}{ \\sigma^2 x_{max}^2 }\n",
    "$$\n",
    "\n",
    "\n",
    "* Which is the CFL condition for the explicit method. This says for the explicit method to be stable, the time step needs to be pretty small.\n",
    "\n",
    "* $r\\neq 0$ case?"
   ]
  },
  {
   "cell_type": "markdown",
   "metadata": {
    "slideshow": {
     "slide_type": "subslide"
    }
   },
   "source": [
    "### Lax Theorem: Consistency + Stability = Convergence\n",
    "\n",
    "\n",
    "* The **Lax equivalence theorem** holds for PDE as well.\n",
    "\n",
    "\n",
    "* Takeaway: when implementing FDM for PDEs, study the **CFL (Courant–Friedrichs–Lewy)** stability condition before building your discretization grid.\n",
    "\n"
   ]
  },
  {
   "cell_type": "markdown",
   "metadata": {
    "slideshow": {
     "slide_type": "subslide"
    }
   },
   "source": [
    "\n",
    "* For the Implicit method, the local truncation error\n",
    "\n",
    "$$\n",
    "T(x,t) = O(\\triangle x^2 + \\triangle t)\n",
    "$$\n",
    "\n",
    "\n",
    "* And the amplification factor for $r=0$\n",
    "\n",
    "\n",
    "$$\n",
    "e^{a\\triangle t}  = \\frac{1}{1 + \\sigma^2 x_j^2 \\frac{\\triangle t}{\\triangle x^2} \\cdot 2\\sin^2(l_m\\triangle x/2)}\n",
    "$$\n",
    "\n",
    "\n",
    "* So the implicit method is unconditionally stable.\n",
    "\n",
    "\n"
   ]
  },
  {
   "cell_type": "markdown",
   "metadata": {
    "slideshow": {
     "slide_type": "subslide"
    }
   },
   "source": [
    "\n",
    "* For the Crank-Nicholson method, the local truncation error is (Note: expanding the Taylor series at $(i, k+\\frac{1}{2})$)\n",
    "\n",
    "$$\n",
    "T(x,t) = O(\\triangle x^2 + \\triangle t^2)\n",
    "$$\n",
    "\n",
    "\n",
    "* The stability analysis will be one of your homeworks."
   ]
  },
  {
   "cell_type": "markdown",
   "metadata": {
    "slideshow": {
     "slide_type": "slide"
    }
   },
   "source": [
    "# Numerical Examples \n",
    "\n",
    "* Black Scholes formulae and FDM methods for vanilla European call and up-and-out Barrier Call.\n",
    "\n",
    "\n",
    "\n",
    "\n"
   ]
  },
  {
   "cell_type": "code",
   "execution_count": 54,
   "metadata": {
    "collapsed": false,
    "slideshow": {
     "slide_type": "subslide"
    }
   },
   "outputs": [
    {
     "name": "stdout",
     "output_type": "stream",
     "text": [
      "Elapsed Time: 0.00100016593933\n"
     ]
    },
    {
     "data": {
      "image/png": "[encoded data removed]",
      "text/plain": [
       "<matplotlib.figure.Figure at 0x17ecca58>"
      ]
     },
     "metadata": {},
     "output_type": "display_data"
    }
   ],
   "source": [
    "%matplotlib inline\n",
    "import numpy as np\n",
    "import matplotlib.pyplot as plt\n",
    "from scipy.stats import norm\n",
    "import time \n",
    "\n",
    "#Black and Scholes\n",
    "def BlackScholesFormula(type, S0, K, r, sigma, T):\n",
    "    dtmp1 = np.log(S0 / K)\n",
    "    dtmp2 = 1.0/(sigma * np.sqrt(T))\n",
    "    sigsq = 0.5 * sigma * sigma\n",
    "    d1 =  dtmp2 * (dtmp1 + T * (r + sigsq))\n",
    "    d2 =  dtmp2 * (dtmp1 + T * (r - sigsq))\n",
    "    if type==\"C\":\n",
    "        return S0 * norm.cdf(d1) - K * np.exp(-r * T) * norm.cdf(d2)\n",
    "    else:\n",
    "        return K * np.exp(-r * T) * stats.cdf(-d2) - S0 * norm.cdf(-d1)\n",
    "\n",
    "K = 100.0\n",
    "r = 0.05\n",
    "sigma = 0.35\n",
    "T = 1\n",
    "putCall ='C'\n",
    "\n",
    "Smin = 0.0\n",
    "Smax = 200.0\n",
    "ns = 201\n",
    "Ss = np.linspace(Smin, Smax, ns, endpoint=True)\n",
    "Ss = Ss[1:-1]\n",
    "#print Ss\n",
    "\n",
    "t=time.time()\n",
    "px = BlackScholesFormula(putCall, Ss, K, r, sigma, T)\n",
    "elapsed=time.time()-t\n",
    "#print px\n",
    "print \"Elapsed Time:\", elapsed\n",
    "#idx = 200-1\n",
    "#print Ss[idx]\n",
    "#print px[idx]\n",
    "\n",
    "payoff = np.clip(Ss-K, 0.0, 1e600)\n",
    "#print \"payoff = \", payoff\n",
    "\n",
    "fig = plt.figure(figsize=(15,4))\n",
    "ax = fig.add_subplot(1,3,1)\n",
    "ax.plot(Ss, payoff)\n",
    "plt.xlabel('Stock', fontsize=14);\n",
    "plt.title('Payoff' , fontsize=16);\n",
    "\n",
    "ax = fig.add_subplot(1,3,2)\n",
    "ax.plot(Ss, px)\n",
    "plt.xlabel('Stock', fontsize=14);\n",
    "plt.title('Analytical Solution' , fontsize=16);\n",
    "\n",
    "ax = fig.add_subplot(1,3,3)\n",
    "ax.set_axis_off()\n",
    "K = 100.0\n",
    "r = 0.05\n",
    "sigma = 0.35\n",
    "T = 1\n",
    "putCall ='C'\n",
    "ax.text(0, .3, \"   Strike = 100.0 \", size=\"x-large\");\n",
    "ax.text(0, .4, \"   $\\sigma$ = 0.35 \", size=\"x-large\");\n",
    "ax.text(0, .5, \"   T = 1.0 \", size=\"x-large\");\n",
    "ax.text(0, .6, \"   putCall =  'C' \", size=\"x-large\");\n",
    "ax.text(0, .75, \"Black Scholes Equation with:\", size=\"xx-large\");\n",
    "\n",
    "plt.show()\n"
   ]
  },
  {
   "cell_type": "code",
   "execution_count": 72,
   "metadata": {
    "collapsed": false,
    "slideshow": {
     "slide_type": "subslide"
    }
   },
   "outputs": [
    {
     "name": "stdout",
     "output_type": "stream",
     "text": [
      "ESTIMATE THE TIME STEPS THROUGH CFL Condition: \n",
      "\n",
      "\tns(number of spatial steps) = 201\n",
      "\tdx (spatial size) = 0.6\n",
      "\tvolatility = 0.35\n",
      "\tSmax = 120\n",
      "\tby CFL, dt < 0.000204081632653\n",
      "\tTime Steps ~=  4901\n"
     ]
    }
   ],
   "source": [
    "from scipy import sparse\n",
    "import scipy.sparse.linalg.dsolve as linsolve\n",
    "\n",
    "class BS_FDM_explicit:\n",
    "  def __init__(self, \n",
    "               r, \n",
    "               sigma, \n",
    "               maturity, \n",
    "               Smin, \n",
    "               Smax, \n",
    "               Fl, \n",
    "               Fu, \n",
    "               payoff, \n",
    "               nt, \n",
    "               ns):\n",
    "    self.r  = r \n",
    "    self.sigma = sigma \n",
    "    self.maturity  = maturity\n",
    "\n",
    "    self.Smin = Smin     \n",
    "    self.Smax = Smax\n",
    "    self.Fl = Fl        \n",
    "    self.Fu = Fu\n",
    "\n",
    "    self.nt  = nt\n",
    "    self.ns  = ns\n",
    "    \n",
    "    self.dt = float(maturity)/nt\n",
    "    self.dx = float(Smax-Smin)/(ns+1)\n",
    "    self.xs = Smin/self.dx\n",
    "\n",
    "    self.u = np.empty((nt + 1, ns))\n",
    "    self.u[0,:] = payoff\n",
    "\n",
    "    ## Building Coefficient matrix:        \n",
    "    A = sparse.lil_matrix((self.ns, self.ns))\n",
    "\n",
    "    for j in xrange(0, self.ns):\n",
    "      xd = j + 1 + self.xs\n",
    "      sx = self.sigma * xd\n",
    "      sxsq = sx * sx\n",
    "      \n",
    "      dtmp1 = self.dt * sxsq\n",
    "      dtmp2 = self.dt * self.r\n",
    "      A[j,j] = 1.0 - dtmp1 - dtmp2\n",
    "      dtmp1 = 0.5 * dtmp1\n",
    "      dtmp2 = 0.5 * dtmp2 * xd\n",
    "      if j > 0:\n",
    "        A[j,j-1] = dtmp1 - dtmp2\n",
    "      if j < self.ns - 1:\n",
    "        A[j,j+1] = dtmp1 + dtmp2\n",
    "\n",
    "    self.A = A.tocsr()\n",
    "\n",
    "    ### Building bc_coef:\n",
    "    nxl = 1 + self.xs\n",
    "    sxl = self.sigma * nxl\n",
    "    nxu = self.ns + self.xs\n",
    "    sxu = self.sigma * nxu\n",
    "    \n",
    "    self.blcoef = 0.5 * self.dt * (sxl * sxl - self.r * nxl)\n",
    "    self.bucoef = 0.5 * self.dt * (sxu * sxu + self.r * nxu)\n",
    "    \n",
    "  def solve(self):\n",
    "    for i in xrange(0, m):\n",
    "        self.u[i+1,:]          = self.A * self.u[i,:]\n",
    "        self.u[i+1,0]         += self.blcoef * self.Fl[i]\n",
    "        self.u[i+1,self.ns-1] += self.bucoef * self.Fu[i]\n",
    "\n",
    "    return self.u\n",
    "\n",
    "print \"ESTIMATE THE TIME STEPS THROUGH CFL Condition: \\n\"\n",
    "dx = (Smax - Smin)/(ns-1)\n",
    "print \"\\tns(number of spatial steps) =\", ns\n",
    "print \"\\tdx (spatial size) =\", dx\n",
    "print \"\\tvolatility =\", sigma\n",
    "print \"\\tSmax =\", Smax\n",
    "dt_max = dx*dx/(sigma*sigma*Smax*Smax)\n",
    "print \"\\tby CFL, dt <\", dt_max\n",
    "mt_min = int(T/dt_max)+1\n",
    "print \"\\tTime Steps ~= \", mt_min"
   ]
  },
  {
   "cell_type": "code",
   "execution_count": 97,
   "metadata": {
    "collapsed": false,
    "slideshow": {
     "slide_type": "subslide"
    }
   },
   "outputs": [
    {
     "name": "stdout",
     "output_type": "stream",
     "text": [
      "SOLVING for the Vanilla Call Using the Explicit FDM method: \n",
      "\tElapsed Time1: 0.0469999313354\n",
      "\tElapsed Time2: 0.0460000038147\n",
      "\tElapsed Time3: 0.0439999103546\n"
     ]
    },
    {
     "data": {
      "image/png": "[encoded data removed]",
      "text/plain": [
       "<matplotlib.figure.Figure at 0x27d86208>"
      ]
     },
     "metadata": {},
     "output_type": "display_data"
    }
   ],
   "source": [
    "print \"SOLVING for the Vanilla Call Using the Explicit FDM method: \"\n",
    "n = ns-2\n",
    "X = np.linspace(0.0, Smax, n+2)\n",
    "X = X[1:-1]\n",
    "\n",
    "payoff = np.clip(X-K, 0.0, 1e600)\n",
    "#print \"payoff = \", payoff\n",
    "  \n",
    "m = 4555 \n",
    "Fl = np.zeros((m+1,))\n",
    "Fu = Smax - K*np.exp(-r * np.linspace(0.0, T, m+1))\n",
    "    \n",
    "t = time.time()\n",
    "bs1 = BS_FDM_explicit(r, sigma, T, Smin, Smax, Fl, Fu, payoff, m, n)\n",
    "px_fd_mat = bs1.solve()\n",
    "elapsed=time.time()-t\n",
    "print \"\\tElapsed Time1:\", elapsed\n",
    "\n",
    "##print  px_fd_mat.shape\n",
    "nrow = len(px_fd_mat[:,1])\n",
    "#print px_fd_mat[nrow-1,:]\n",
    "\n",
    "fig = plt.figure(figsize=(16,5))\n",
    "ax = fig.add_subplot(1,3,1)\n",
    "ax.plot(X, px_fd_mat[nrow-1,:])\n",
    "plt.xlabel('Stock', fontsize=14);\n",
    "plt.title('Time Steps: %.f, CPU Time:%.3g'%(m, elapsed), fontsize=14);\n",
    "\n",
    "m = 4560\n",
    "Fl = np.zeros((m+1,))\n",
    "Fu = Smax - K*np.exp(-r * np.linspace(0.0, T, m+1))\n",
    "\n",
    "t = time.time()\n",
    "bs2 = BS_FDM_explicit(r, sigma, T, Smin, Smax, Fl, Fu, payoff, m, n)\n",
    "px_fd_mat = bs2.solve()\n",
    "elapsed=time.time()-t\n",
    "print \"\\tElapsed Time2:\", elapsed\n",
    "\n",
    "ax = fig.add_subplot(1, 3, 2)\n",
    "nrow = len(px_fd_mat[:,1])\n",
    "ax.plot(X, px_fd_mat[nrow-1,:])\n",
    "plt.xlabel('Stock', fontsize=14);\n",
    "plt.title('Time Steps: %.f, CPU Time:%.3g'%(m, elapsed), fontsize=14);\n",
    "\n",
    "m = 4565\n",
    "Fl = np.zeros((m+1,))\n",
    "Fu = Smax - K*np.exp(-r * np.linspace(0.0, T, m+1))\n",
    "    \n",
    "t = time.time()\n",
    "bs3 = BS_FDM_explicit(r, sigma, T, Smin, Smax, Fl, Fu, payoff, m, n)\n",
    "px_fd_mat = bs3.solve()\n",
    "elapsed=time.time()-t\n",
    "print \"\\tElapsed Time3:\", elapsed\n",
    "\n",
    "ax = fig.add_subplot(1, 3, 3)\n",
    "nrow = len(px_fd_mat[:,1])\n",
    "ax.plot(X, px_fd_mat[nrow-1,:])\n",
    "plt.xlabel('Stock', fontsize=14);\n",
    "plt.title('Time Steps: %.f, CPU Time:%.3g'%(m, elapsed), fontsize=14);\n",
    "\n",
    "plt.show()"
   ]
  },
  {
   "cell_type": "code",
   "execution_count": 98,
   "metadata": {
    "collapsed": false,
    "slideshow": {
     "slide_type": "subslide"
    }
   },
   "outputs": [
    {
     "name": "stdout",
     "output_type": "stream",
     "text": [
      "SOLVING for the UP-AND-OUT Barrier Call Using the Explicit FDM method: \n",
      "\tElapsed Time1: 0.047000169754\n",
      "\tElapsed Time2: 0.0480000972748\n",
      "\tElapsed Time3: 0.0480000972748\n"
     ]
    },
    {
     "data": {
      "image/png": "[encoded data removed]",
      "text/plain": [
       "<matplotlib.figure.Figure at 0x27384ac8>"
      ]
     },
     "metadata": {},
     "output_type": "display_data"
    }
   ],
   "source": [
    "print \"SOLVING for the UP-AND-OUT Barrier Call Using the Explicit FDM method: \"\n",
    "Smax = 120\n",
    "n = ns-2\n",
    "X = np.linspace(0.0, Smax, n+2)\n",
    "X = X[1:-1]\n",
    "\n",
    "payoff = np.clip(X-K, 0.0, 1e600)\n",
    "#print \"payoff = \", payoff\n",
    "  \n",
    "m = 4570\n",
    "Fl = np.zeros((m+1,))\n",
    "Fu = np.zeros((m+1,))\n",
    "    \n",
    "t = time.time()\n",
    "bs1 = BS_FDM_explicit(r, sigma, T, Smin, Smax, Fl, Fu, payoff, m, n)\n",
    "px_fd_mat = bs1.solve()\n",
    "elapsed=time.time()-t\n",
    "print \"\\tElapsed Time1:\", elapsed\n",
    "\n",
    "##print  px_fd_mat.shape\n",
    "nrow = len(px_fd_mat[:,1])\n",
    "#print px_fd_mat[nrow-1,:]\n",
    "\n",
    "\n",
    "fig = plt.figure(figsize=(16,5))\n",
    "ax = fig.add_subplot(1,3,1)\n",
    "ax.plot(X, px_fd_mat[nrow-1,:])\n",
    "plt.xlabel('Stock', fontsize=14);\n",
    "plt.title('Time Steps: %.f, CPU Time:%.3g'%(m, elapsed), fontsize=14);\n",
    "\n",
    "m = 4573\n",
    "Fl = np.zeros((m+1,))\n",
    "Fu = np.zeros((m+1,))\n",
    "\n",
    "t = time.time()\n",
    "bs2 = BS_FDM_explicit(r, sigma, T, Smin, Smax, Fl, Fu, payoff, m, n)\n",
    "px_fd_mat = bs2.solve()\n",
    "elapsed=time.time()-t\n",
    "print \"\\tElapsed Time2:\", elapsed\n",
    "\n",
    "ax = fig.add_subplot(1, 3, 2)\n",
    "nrow = len(px_fd_mat[:,1])\n",
    "ax.plot(X, px_fd_mat[nrow-1,:])\n",
    "plt.xlabel('Stock', fontsize=14);\n",
    "plt.title('Time Steps: %.f, CPU Time:%.3g'%(m, elapsed), fontsize=14);\n",
    "\n",
    "m = 4580\n",
    "Fl = np.zeros((m+1,))\n",
    "Fu = np.zeros((m+1,))\n",
    "    \n",
    "t = time.time()\n",
    "bs3 = BS_FDM_explicit(r, sigma, T, Smin, Smax, Fl, Fu, payoff, m, n)\n",
    "px_fd_mat = bs3.solve()\n",
    "elapsed=time.time()-t\n",
    "print \"\\tElapsed Time3:\", elapsed\n",
    "\n",
    "ax = fig.add_subplot(1, 3, 3)\n",
    "nrow = len(px_fd_mat[:,1])\n",
    "ax.plot(X, px_fd_mat[nrow-1,:])\n",
    "plt.xlabel('Stock', fontsize=14);\n",
    "plt.title('Time Steps: %.f, CPU Time:%.3g'%(m, elapsed), fontsize=14);"
   ]
  },
  {
   "cell_type": "code",
   "execution_count": 58,
   "metadata": {
    "collapsed": false,
    "slideshow": {
     "slide_type": "skip"
    }
   },
   "outputs": [],
   "source": [
    "from scipy import sparse\n",
    "import scipy.sparse.linalg.dsolve as linsolve\n",
    "\n",
    "class BS_FDM_implicit:\n",
    "  def __init__(self, \n",
    "               r, \n",
    "               sigma, \n",
    "               maturity, \n",
    "               Smin, \n",
    "               Smax, \n",
    "               Fl, \n",
    "               Fu, \n",
    "               payoff, \n",
    "               nt, \n",
    "               ns):\n",
    "    self.r  = r \n",
    "    self.sigma = sigma \n",
    "    self.maturity  = maturity\n",
    "\n",
    "    self.Smin = Smin     \n",
    "    self.Smax = Smax\n",
    "    self.Fl = Fl        \n",
    "    self.Fu = Fu\n",
    "\n",
    "    self.nt  = nt\n",
    "    self.ns  = ns\n",
    "    \n",
    "    self.dt = float(maturity)/nt\n",
    "    self.dx = float(Smax-Smin)/(ns+1)\n",
    "    self.xs = Smin/self.dx\n",
    "\n",
    "    self.u = np.empty((nt + 1, ns))\n",
    "    self.u[0,:] = payoff\n",
    "\n",
    "    ## Building Coefficient matrix:        \n",
    "    A = sparse.lil_matrix((self.ns, self.ns))\n",
    "\n",
    "    for j in xrange(0, self.ns):\n",
    "      xd = j + 1 + self.xs\n",
    "      sx = self.sigma * xd\n",
    "      sxsq = sx * sx\n",
    "      \n",
    "      dtmp1 = self.dt * sxsq\n",
    "      dtmp2 = self.dt * self.r\n",
    "      A[j,j] = 1.0 + dtmp1 + dtmp2\n",
    "        \n",
    "      dtmp1 = -0.5 * dtmp1\n",
    "      dtmp2 = -0.5 * dtmp2 * xd\n",
    "      if j > 0:\n",
    "        A[j,j-1] = dtmp1 - dtmp2\n",
    "      if j < self.ns - 1:\n",
    "        A[j,j+1] = dtmp1 + dtmp2\n",
    "\n",
    "    self.A = linsolve.splu(A)\n",
    "    self.rhs = np.empty((self.ns, ))\n",
    "    \n",
    "    ### Building bc_coef:\n",
    "    nxl = 1 + self.xs\n",
    "    sxl = self.sigma * nxl\n",
    "    nxu = self.ns + self.xs\n",
    "    sxu = self.sigma * nxu\n",
    "    \n",
    "    self.blcoef = 0.5 * self.dt * (- sxl * sxl + self.r * nxl)\n",
    "    self.bucoef = 0.5 * self.dt * (- sxu * sxu - self.r * nxu)    \n",
    "    \n",
    "  def solve(self):\n",
    "    for i in xrange(0, m):\n",
    "        self.rhs[:] = self.u[i,:]\n",
    "        self.rhs[0]         -= self.blcoef * self.Fl[i]\n",
    "        self.rhs[self.ns-1] -= self.bucoef * self.Fu[i]\n",
    "        self.u[i+1,:] = self.A.solve(self.rhs)\n",
    "\n",
    "    return self.u"
   ]
  },
  {
   "cell_type": "code",
   "execution_count": 99,
   "metadata": {
    "collapsed": false,
    "slideshow": {
     "slide_type": "subslide"
    }
   },
   "outputs": [
    {
     "name": "stdout",
     "output_type": "stream",
     "text": [
      "SOLVING for the Vanilla Call Using the Implicit FDM method: \n",
      "\tElapsed Time1: 0.061999797821\n",
      "\tElapsed Time2: 0.0260000228882\n",
      "\tElapsed Time3: 0.00899982452393\n"
     ]
    },
    {
     "data": {
      "text/plain": [
       "<matplotlib.text.Text at 0x27c476a0>"
      ]
     },
     "execution_count": 99,
     "metadata": {},
     "output_type": "execute_result"
    },
    {
     "data": {
      "image/png": "[encoded data removed]",
      "text/plain": [
       "<matplotlib.figure.Figure at 0x2081cda0>"
      ]
     },
     "metadata": {},
     "output_type": "display_data"
    }
   ],
   "source": [
    "print \"SOLVING for the Vanilla Call Using the Implicit FDM method: \"\n",
    "Smax = 200\n",
    "n = ns-2\n",
    "X = np.linspace(0.0, Smax, n+2)\n",
    "X = X[1:-1]\n",
    "\n",
    "payoff = np.clip(X-K, 0.0, 1e600)\n",
    "  \n",
    "m = 4555 \n",
    "Fl = np.zeros((m+1,))\n",
    "Fu = Smax - K*np.exp(-r * np.linspace(0.0, T, m+1))\n",
    "    \n",
    "t = time.time()\n",
    "bs1 = BS_FDM_implicit(r, sigma, T, Smin, Smax, Fl, Fu, payoff, m, n)\n",
    "px_fd_mat = bs1.solve()\n",
    "elapsed=time.time()-t\n",
    "print \"\\tElapsed Time1:\", elapsed\n",
    "\n",
    "#print  px_fd_mat.shape\n",
    "\n",
    "fig = plt.figure(figsize=(16,5))\n",
    "ax = fig.add_subplot(1, 3, 1)\n",
    "nrow = len(px_fd_mat[:,1])\n",
    "ax.plot(X, px_fd_mat[nrow-1,:])\n",
    "plt.xlabel('Stock', fontsize=14);\n",
    "plt.title('Time Steps: %.f, CPU Time:%.3g'%(m, elapsed), fontsize=14);\n",
    "\n",
    "m = 1000\n",
    "Fl =np. zeros((m+1,))\n",
    "Fu = Smax - K*np.exp(-r * np.linspace(0.0, T, m+1))\n",
    "\n",
    "t = time.time()\n",
    "bs2 = BS_FDM_implicit(r, sigma, T, Smin, Smax, Fl, Fu, payoff, m, n)\n",
    "px_fd_mat = bs2.solve()\n",
    "elapsed=time.time()-t\n",
    "print \"\\tElapsed Time2:\", elapsed\n",
    "\n",
    "ax = fig.add_subplot(1, 3, 2)\n",
    "nrow = len(px_fd_mat[:,1])\n",
    "ax.plot(X, px_fd_mat[nrow-1,:])\n",
    "plt.xlabel('Stock', fontsize=14);\n",
    "plt.title('Time Steps: %.f, CPU Time:%.3g'%(m, elapsed), fontsize=14);\n",
    "\n",
    "m = 100\n",
    "Fl = np.zeros((m+1,))\n",
    "Fu = Smax - K*np.exp(-r * np.linspace(0.0, T, m+1))\n",
    "    \n",
    "t = time.time()\n",
    "bs3 = BS_FDM_implicit(r, sigma, T, Smin, Smax, Fl, Fu, payoff, m, n)\n",
    "px_fd_mat = bs3.solve()\n",
    "elapsed=time.time()-t\n",
    "print \"\\tElapsed Time3:\", elapsed\n",
    "\n",
    "ax = fig.add_subplot(1, 3, 3)\n",
    "nrow = len(px_fd_mat[:,1])\n",
    "ax.plot(X, px_fd_mat[nrow-1,:])\n",
    "plt.xlabel('Stock', fontsize=14);\n",
    "plt.title('Time Steps: %.f, CPU Time:%.3g'%(m, elapsed), fontsize=14);\n",
    "\n",
    "\n",
    "#print px_fd_mat[nrow-1,:]"
   ]
  },
  {
   "cell_type": "code",
   "execution_count": 100,
   "metadata": {
    "collapsed": false,
    "slideshow": {
     "slide_type": "subslide"
    }
   },
   "outputs": [
    {
     "name": "stdout",
     "output_type": "stream",
     "text": [
      "SOLVING for the UP-AND-OUT Barrier Call Using the Implicit FDM method: \n",
      "\tElapsed Time1: 0.0620000362396\n",
      "\tElapsed Time2: 0.0190000534058\n",
      "\tElapsed Time3: 0.00800013542175\n"
     ]
    },
    {
     "data": {
      "text/plain": [
       "<matplotlib.text.Text at 0x27b26a90>"
      ]
     },
     "execution_count": 100,
     "metadata": {},
     "output_type": "execute_result"
    },
    {
     "data": {
      "image/png": "[encoded data removed]",
      "text/plain": [
       "<matplotlib.figure.Figure at 0x267f1518>"
      ]
     },
     "metadata": {},
     "output_type": "display_data"
    }
   ],
   "source": [
    "print \"SOLVING for the UP-AND-OUT Barrier Call Using the Implicit FDM method: \"\n",
    "Smax = 120\n",
    "\n",
    "n = ns-2\n",
    "X = np.linspace(0.0, Smax, n+2)\n",
    "X = X[1:-1]\n",
    "\n",
    "payoff =np.clip(X-K, 0.0, 1e600)\n",
    "  \n",
    "m = 4555 \n",
    "Fl = np.zeros((m+1,))\n",
    "Fu = np.zeros((m+1,))\n",
    "    \n",
    "t = time.time()\n",
    "bs1 = BS_FDM_implicit(r, sigma, T, Smin, Smax, Fl, Fu, payoff, m, n)\n",
    "px_fd_mat = bs1.solve()\n",
    "elapsed=time.time()-t\n",
    "print \"\\tElapsed Time1:\", elapsed\n",
    "\n",
    "#print  px_fd_mat.shape\n",
    "\n",
    "fig = plt.figure(figsize=(16,5))\n",
    "ax = fig.add_subplot(1, 3, 1)\n",
    "nrow = len(px_fd_mat[:,1])\n",
    "ax.plot(X, px_fd_mat[nrow-1,:])\n",
    "plt.xlabel('Stock', fontsize=14);\n",
    "plt.title('Time Steps: %.f, CPU Time:%.3g'%(m, elapsed), fontsize=14);\n",
    "\n",
    "m = 1000\n",
    "Fl = np.zeros((m+1,))\n",
    "Fu = np.zeros((m+1,))\n",
    "\n",
    "t = time.time()\n",
    "bs2 = BS_FDM_implicit(r, sigma, T, Smin, Smax, Fl, Fu, payoff, m, n)\n",
    "px_fd_mat = bs2.solve()\n",
    "elapsed=time.time()-t\n",
    "print \"\\tElapsed Time2:\", elapsed\n",
    "\n",
    "ax = fig.add_subplot(1, 3, 2)\n",
    "nrow = len(px_fd_mat[:,1])\n",
    "ax.plot(X, px_fd_mat[nrow-1,:])\n",
    "plt.xlabel('Stock', fontsize=14);\n",
    "plt.title('Time Steps: %.f, CPU Time:%.3g'%(m, elapsed), fontsize=14);\n",
    "\n",
    "m = 100\n",
    "Fl = zeros((m+1,))\n",
    "Fu = zeros((m+1,))\n",
    "    \n",
    "t = time.time()\n",
    "bs3 = BS_FDM_implicit(r, sigma, T, Smin, Smax, Fl, Fu, payoff, m, n)\n",
    "px_fd_mat = bs3.solve()\n",
    "elapsed=time.time()-t\n",
    "print \"\\tElapsed Time3:\", elapsed\n",
    "\n",
    "ax = fig.add_subplot(1, 3, 3)\n",
    "nrow = len(px_fd_mat[:,1])\n",
    "ax.plot(X, px_fd_mat[nrow-1,:])\n",
    "plt.xlabel('Stock', fontsize=14);\n",
    "plt.title('Time Steps: %.f, CPU Time:%.3g'%(m, elapsed), fontsize=14);\n",
    "\n",
    "\n",
    "#print px_fd_mat[nrow-1,:]"
   ]
  }
 ],
 "metadata": {
  "celltoolbar": "Slideshow",
  "kernelspec": {
   "display_name": "Python 2",
   "language": "python",
   "name": "python2"
  },
  "language_info": {
   "codemirror_mode": {
    "name": "ipython",
    "version": 2
   },
   "file_extension": ".py",
   "mimetype": "text/x-python",
   "name": "python",
   "nbconvert_exporter": "python",
   "pygments_lexer": "ipython2",
   "version": "2.7.10"
  }
 },
 "nbformat": 4,
 "nbformat_minor": 0
}
