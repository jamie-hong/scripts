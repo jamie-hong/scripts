{
 "metadata": {
  "name": "",
  "signature": "sha256:49b81c8d7e41d844f7679deee115b0905ed5a8cf841f5eb44e7e1a160956a89a"
 },
 "nbformat": 3,
 "nbformat_minor": 0,
 "worksheets": [
  {
   "cells": [
    {
     "cell_type": "code",
     "collapsed": false,
     "input": [
      "%pylab inline\n",
      "import math"
     ],
     "language": "python",
     "metadata": {},
     "outputs": [
      {
       "output_type": "stream",
       "stream": "stdout",
       "text": [
        "Populating the interactive namespace from numpy and matplotlib\n"
       ]
      }
     ],
     "prompt_number": 3
    },
    {
     "cell_type": "heading",
     "level": 1,
     "metadata": {},
     "source": [
      "Homework Set 6"
     ]
    },
    {
     "cell_type": "markdown",
     "metadata": {},
     "source": [
      "## Problem 1 \n",
      "\n",
      "D. Bindel and J. Goodman: Principles of Scientific Computing, Chapter 6, Exercise 7.\n",
      "\n"
     ]
    },
    {
     "cell_type": "markdown",
     "metadata": {},
     "source": [
      "## Problem 2\n",
      "\n",
      "For the quadratic programming problem derived for portfolio optimization\n",
      "\n",
      "$$\n",
      "\\begin{array}\n",
      "\\\\\n",
      "\\min_{\\bf x} & &  \\frac{1}{2} \\lambda\\; {\\bf x}^T \\Sigma {\\bf x} - \\mu^T {\\bf x} \n",
      "\\\\\n",
      "s.t. & & \\Sigma x_i = 1\n",
      "\\end{array}\n",
      "$$\n",
      "\n",
      "where $\\lambda$ is the risk-aversion coefficient, $\\mu$ is the expected asset return vector and $\\Sigma$ is the covariance matrix.  Derive the dual problem.\n"
     ]
    }
   ],
   "metadata": {}
  }
 ]
}