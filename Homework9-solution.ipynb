{
 "cells": [
  {
   "cell_type": "code",
   "execution_count": 1,
   "metadata": {
    "collapsed": false
   },
   "outputs": [
    {
     "name": "stdout",
     "output_type": "stream",
     "text": [
      "Populating the interactive namespace from numpy and matplotlib\n"
     ]
    }
   ],
   "source": [
    "%pylab inline\n",
    "import pandas as pd\n",
    "import numpy as np\n",
    "import fmt"
   ]
  },
  {
   "cell_type": "markdown",
   "metadata": {},
   "source": [
    "# Homework Set 9"
   ]
  },
  {
   "cell_type": "markdown",
   "metadata": {},
   "source": [
    "This homework is to price [synthetic CDO](https://en.wikipedia.org/wiki/Synthetic_CDO) using the one factor Gaussian Copula model. \n",
    "\n",
    "A synthetic CDO consists of $n$ CDS, the total loss of the portfolio is defned as:\n",
    "\n",
    "$$ l(t) = \\sum_i^n w_i \\tilde {\\mathbb{1}}_i(t) (1-r_i(t)) $$\n",
    "\n",
    "where $w_i$ and $r_i(t)$ are the notional weights and recovery rate of the i-th name in the portfolio. The notional weighs sum up to 1: $\\sum_i w_i = 1 $. The $ \\tilde {\\mathbb{1}}_i(t) $ is the default indicator of the i-th name defaulted before time $t$, the default probability is therefore $p_i(t) = \\mathbb E[\\tilde {\\mathbb{1}}_i(t) ]$\n",
    "\n",
    "For the purpose of this homework, we consider a simplified synthetic CDO that has no coupon payments, therefore the PV of a \\$1 notional synthetic CDO tranche with maturity $t$, attachment $a$ and detachment $d$ is:\n",
    "\n",
    "$$ v(a, d) = \\frac{d(t)}{d-a} \\min\\left((l(t) - a)^+, d-a\\right) $$\n",
    "\n",
    "where $d(t)$ is the discount factor.\n",
    "\n",
    "The following are the parameters to the synthetic CDO, and a straight forward Monte Carlo pricer:"
   ]
  },
  {
   "cell_type": "code",
   "execution_count": 239,
   "metadata": {
    "collapsed": false
   },
   "outputs": [
    {
     "name": "stdout",
     "output_type": "stream",
     "text": [
      "portfolio expected loss is  0.0430353543199\n"
     ]
    }
   ],
   "source": [
    "n = 125\n",
    "t = 5.\n",
    "defProbs = 1 - exp(-(np.random.uniform(size=n)*.03)*t)\n",
    "recovery = 0.4*np.ones(n)\n",
    "w = 1./n*np.ones(n)\n",
    "rho = 0.5\n",
    "discf = .9\n",
    "npath = 1000\n",
    "\n",
    "# a list of attachements and detachements, they pair up by elements\n",
    "attachements = np.array([0, .03, .07, .1, .15, .3])\n",
    "detachements = np.array([.03, .07, .1, .15, .3, .6])\n",
    "\n",
    "#portfolio expected loss\n",
    "el = np.sum(w*defProbs*(1-recovery))\n",
    "print \"portfolio expected loss is \", el"
   ]
  },
  {
   "cell_type": "code",
   "execution_count": 240,
   "metadata": {
    "collapsed": false
   },
   "outputs": [],
   "source": [
    "from scipy.stats import norm\n",
    "\n",
    "class CDO(object) :\n",
    "    def __init__(self, w, defProbs, recovery, a, d) :\n",
    "        self.w = w/np.sum(w)\n",
    "        self.p = defProbs\n",
    "        self.rec = recovery\n",
    "        self.rho = rho\n",
    "        self.a = a\n",
    "        self.d = d\n",
    "\n",
    "    def drawDefaultIndicator(self, z, rho) :\n",
    "        '''return a list of default indicators given common factor z, using one factor Gaussian Copula\n",
    "        '''\n",
    "        e = np.random.normal(size=np.shape(self.p))\n",
    "        x = z*np.sqrt(self.rho) + np.sqrt(1-self.rho)*e\n",
    "        return np.less(norm.cdf(x), self.p), e\n",
    "\n",
    "    def portfolioLoss(self, defIndicator) :\n",
    "        '''compute portfolio loss given default indicators'''\n",
    "        return np.sum(defIndicator*self.w*(1-self.rec))\n",
    "\n",
    "    def tranchePV(self, portfLoss, discf) :\n",
    "        '''compute tranche PV from portfolio loss\n",
    "        Args:\n",
    "            portfLoss: the total portfolio loss\n",
    "            discf: discount factor\n",
    "        Returns:\n",
    "            tranche PVs'''\n",
    "        \n",
    "        sz = self.d - self.a\n",
    "        return discf/sz*np.minimum(np.maximum(portfLoss - self.a, 0), sz)\n",
    "\n",
    "    def drawPV(self, z, rho, discf) :\n",
    "        ''' compute PV and portfolio Loss conditioned on a common factor z'''\n",
    "        di, es = self.drawDefaultIndicator(z, rho)\n",
    "        pfLoss = self.portfolioLoss(di)\n",
    "        return self.tranchePV(pfLoss, discf), pfLoss, es\n",
    "    \n",
    "    \n",
    "cdo = CDO(w, defProbs, recovery, attachements, detachements)"
   ]
  },
  {
   "cell_type": "code",
   "execution_count": 241,
   "metadata": {
    "collapsed": false
   },
   "outputs": [],
   "source": [
    "## price the tranches using simulation\n",
    "def simCDO(cdo, rho, disc, paths) :\n",
    "    zs = np.random.normal(size=[paths])\n",
    "    pv = np.zeros(np.shape(cdo.a))\n",
    "    pv2 = np.zeros(np.shape(cdo.d))\n",
    "    for z in zs:\n",
    "        thisPV, _, _ = cdo.drawPV(z, rho, discf)\n",
    "        pv += thisPV\n",
    "        pv2 += thisPV*thisPV\n",
    "        \n",
    "    v = pv/paths\n",
    "    var = pv2/paths - v**2\n",
    "    return pv/paths, np.sqrt(var/paths)"
   ]
  },
  {
   "cell_type": "code",
   "execution_count": 242,
   "metadata": {
    "collapsed": false
   },
   "outputs": [
    {
     "data": {
      "text/html": [
       "<center><font size=2><table border=\"1\" class=\"dataframe\">\n",
       "  <thead>\n",
       "    <tr style=\"text-align: right;\">\n",
       "      <th></th>\n",
       "      <th>0</th>\n",
       "      <th>1</th>\n",
       "      <th>2</th>\n",
       "      <th>3</th>\n",
       "      <th>4</th>\n",
       "      <th>5</th>\n",
       "    </tr>\n",
       "  </thead>\n",
       "  <tbody>\n",
       "    <tr>\n",
       "      <th>Attach</th>\n",
       "      <td>0</td>\n",
       "      <td>0.03</td>\n",
       "      <td>0.07</td>\n",
       "      <td>0.1</td>\n",
       "      <td>0.15</td>\n",
       "      <td>0.3</td>\n",
       "    </tr>\n",
       "    <tr>\n",
       "      <th>Detach</th>\n",
       "      <td>0.03</td>\n",
       "      <td>0.07</td>\n",
       "      <td>0.1</td>\n",
       "      <td>0.15</td>\n",
       "      <td>0.3</td>\n",
       "      <td>0.6</td>\n",
       "    </tr>\n",
       "    <tr>\n",
       "      <th>PV</th>\n",
       "      <td>0.4649</td>\n",
       "      <td>0.2338</td>\n",
       "      <td>0.1515</td>\n",
       "      <td>0.09798</td>\n",
       "      <td>0.03668</td>\n",
       "      <td>0.002182</td>\n",
       "    </tr>\n",
       "    <tr>\n",
       "      <th>MC err</th>\n",
       "      <td>0.01222</td>\n",
       "      <td>0.01152</td>\n",
       "      <td>0.01036</td>\n",
       "      <td>0.008442</td>\n",
       "      <td>0.004771</td>\n",
       "      <td>0.0007649</td>\n",
       "    </tr>\n",
       "  </tbody>\n",
       "</table></font></center>"
      ],
      "text/plain": [
       "<IPython.core.display.HTML at 0xd0ffb00>"
      ]
     },
     "metadata": {},
     "output_type": "display_data"
    }
   ],
   "source": [
    "pv_0, err_0 = simCDO(cdo, rho, discf, npath)\n",
    "df = pd.DataFrame(np.array([cdo.a, cdo.d, pv_0, err_0]), index=['Attach', 'Detach', 'PV', 'MC err'])\n",
    "\n",
    "fmt.displayDF(df, fmt='4g')"
   ]
  },
  {
   "cell_type": "markdown",
   "metadata": {},
   "source": [
    "## Problem 1\n",
    "\n",
    "Modify the simCDO function to implement the following variance reduction techniques, and show whether the technique is effective:\n",
    "\n",
    "For this homework, we only apply the variance reduction in the common market factor $z$, you should not change the random number $e$ that were drew with in the drawDefaultIndicator function, i.e., only modify the simCDO code, re-use but do not modify the CDO class. Unless explicitly mentioned, keep the simulation path the same as the base case above.\n",
    "\n",
    "1. anti-thetic variate, reduce the number of paths by half to account for the 2x increase in computation\n",
    "1. importance sampling, shift $z$ by -1\n",
    "1. sobol sequence\n",
    "1. stratified sampling: sample $z$ using an equal sized grid\n",
    "\n",
    "Compute the **variance** reduction factor for each technique, and comment on the effectiveness of these variance reduction techniques."
   ]
  },
  {
   "cell_type": "markdown",
   "metadata": {},
   "source": [
    "### Solution\n",
    "\n",
    "1: Antithetic variate:"
   ]
  },
  {
   "cell_type": "code",
   "execution_count": 243,
   "metadata": {
    "collapsed": false
   },
   "outputs": [
    {
     "data": {
      "text/html": [
       "<center><font size=2><table border=\"1\" class=\"dataframe\">\n",
       "  <thead>\n",
       "    <tr style=\"text-align: right;\">\n",
       "      <th></th>\n",
       "      <th>0</th>\n",
       "      <th>1</th>\n",
       "      <th>2</th>\n",
       "      <th>3</th>\n",
       "      <th>4</th>\n",
       "      <th>5</th>\n",
       "    </tr>\n",
       "  </thead>\n",
       "  <tbody>\n",
       "    <tr>\n",
       "      <th>Attach</th>\n",
       "      <td>0</td>\n",
       "      <td>0.03</td>\n",
       "      <td>0.07</td>\n",
       "      <td>0.1</td>\n",
       "      <td>0.15</td>\n",
       "      <td>0.3</td>\n",
       "    </tr>\n",
       "    <tr>\n",
       "      <th>Detach</th>\n",
       "      <td>0.03</td>\n",
       "      <td>0.07</td>\n",
       "      <td>0.1</td>\n",
       "      <td>0.15</td>\n",
       "      <td>0.3</td>\n",
       "      <td>0.6</td>\n",
       "    </tr>\n",
       "    <tr>\n",
       "      <th>PV</th>\n",
       "      <td>0.4567</td>\n",
       "      <td>0.2512</td>\n",
       "      <td>0.1587</td>\n",
       "      <td>0.08636</td>\n",
       "      <td>0.03208</td>\n",
       "      <td>0.003787</td>\n",
       "    </tr>\n",
       "    <tr>\n",
       "      <th>MC err</th>\n",
       "      <td>0.004233</td>\n",
       "      <td>0.009105</td>\n",
       "      <td>0.009018</td>\n",
       "      <td>0.007212</td>\n",
       "      <td>0.004621</td>\n",
       "      <td>0.001129</td>\n",
       "    </tr>\n",
       "    <tr>\n",
       "      <th>Var Red Factor</th>\n",
       "      <td>8.334</td>\n",
       "      <td>1.602</td>\n",
       "      <td>1.32</td>\n",
       "      <td>1.37</td>\n",
       "      <td>1.066</td>\n",
       "      <td>0.459</td>\n",
       "    </tr>\n",
       "  </tbody>\n",
       "</table></font></center>"
      ],
      "text/plain": [
       "<IPython.core.display.HTML at 0xcf63048>"
      ]
     },
     "metadata": {},
     "output_type": "display_data"
    }
   ],
   "source": [
    "def simCDO_at(cdo, rho, disc, paths) :\n",
    "    zs = np.random.normal(size=[paths])\n",
    "    pv = np.zeros(np.shape(cdo.a))\n",
    "    pv2 = np.zeros(np.shape(cdo.d))\n",
    "    for z in zs:\n",
    "        thisPV = .5*(cdo.drawPV(z, rho, disc)[0] + cdo.drawPV(-z, rho, disc)[0])\n",
    "        \n",
    "        pv += thisPV\n",
    "        pv2 += thisPV*thisPV\n",
    "        \n",
    "    v = pv/paths\n",
    "    var = pv2/paths - v**2\n",
    "    return pv/paths, np.sqrt(var/paths)\n",
    "\n",
    "pv_at, err_at = simCDO_at(cdo, rho, discf, npath/2)\n",
    "df = pd.DataFrame(np.array([cdo.a, cdo.d, pv_at, err_at, (err_0/err_at)**2]), \n",
    "                  index=['Attach', 'Detach', 'PV', 'MC err', 'Var Red Factor'])\n",
    "\n",
    "fmt.displayDF(df, fmt='4g')"
   ]
  },
  {
   "cell_type": "markdown",
   "metadata": {},
   "source": [
    "2: Importance sampling:"
   ]
  },
  {
   "cell_type": "code",
   "execution_count": 244,
   "metadata": {
    "collapsed": false
   },
   "outputs": [
    {
     "data": {
      "text/html": [
       "<center><font size=2><table border=\"1\" class=\"dataframe\">\n",
       "  <thead>\n",
       "    <tr style=\"text-align: right;\">\n",
       "      <th></th>\n",
       "      <th>0</th>\n",
       "      <th>1</th>\n",
       "      <th>2</th>\n",
       "      <th>3</th>\n",
       "      <th>4</th>\n",
       "      <th>5</th>\n",
       "    </tr>\n",
       "  </thead>\n",
       "  <tbody>\n",
       "    <tr>\n",
       "      <th>Attach</th>\n",
       "      <td>0</td>\n",
       "      <td>0.03</td>\n",
       "      <td>0.07</td>\n",
       "      <td>0.1</td>\n",
       "      <td>0.15</td>\n",
       "      <td>0.3</td>\n",
       "    </tr>\n",
       "    <tr>\n",
       "      <th>Detach</th>\n",
       "      <td>0.03</td>\n",
       "      <td>0.07</td>\n",
       "      <td>0.1</td>\n",
       "      <td>0.15</td>\n",
       "      <td>0.3</td>\n",
       "      <td>0.6</td>\n",
       "    </tr>\n",
       "    <tr>\n",
       "      <th>PV</th>\n",
       "      <td>0.4582</td>\n",
       "      <td>0.2331</td>\n",
       "      <td>0.147</td>\n",
       "      <td>0.09293</td>\n",
       "      <td>0.03354</td>\n",
       "      <td>0.00297</td>\n",
       "    </tr>\n",
       "    <tr>\n",
       "      <th>MC err</th>\n",
       "      <td>0.01897</td>\n",
       "      <td>0.01676</td>\n",
       "      <td>0.01287</td>\n",
       "      <td>0.01022</td>\n",
       "      <td>0.00334</td>\n",
       "      <td>0.0003707</td>\n",
       "    </tr>\n",
       "    <tr>\n",
       "      <th>Var Red Factor</th>\n",
       "      <td>0.4148</td>\n",
       "      <td>0.4729</td>\n",
       "      <td>0.6481</td>\n",
       "      <td>0.6821</td>\n",
       "      <td>2.04</td>\n",
       "      <td>4.258</td>\n",
       "    </tr>\n",
       "  </tbody>\n",
       "</table></font></center>"
      ],
      "text/plain": [
       "<IPython.core.display.HTML at 0x3f5ff60>"
      ]
     },
     "metadata": {},
     "output_type": "display_data"
    }
   ],
   "source": [
    "def simCDO_is(cdo, rho, disc, paths, u) :\n",
    "    zs = np.random.normal(size=[paths]) + u\n",
    "    padj = np.exp(-u*zs + .5*u*u)\n",
    "    padj /= sum(padj)\n",
    "    \n",
    "    pv = np.zeros(np.shape(cdo.a))\n",
    "    for z, q in zip(zs, padj):\n",
    "        thisPV, _, _ = cdo.drawPV(z, rho, disc)\n",
    "        pv += thisPV*q\n",
    "        \n",
    "    return pv\n",
    "\n",
    "pvs = [simCDO_is(cdo, rho, discf, npath, -1) for i in range(10)]\n",
    "pv_is1 = np.mean(pvs, 0)\n",
    "err_is1 = np.std(pvs, 0)\n",
    "df = pd.DataFrame(np.array([cdo.a, cdo.d, pv_is1, err_is1, (err_0/err_is1)**2]), \n",
    "                  index=['Attach', 'Detach', 'PV', 'MC err', 'Var Red Factor'])\n",
    "fmt.displayDF(df, fmt='4g')"
   ]
  },
  {
   "cell_type": "markdown",
   "metadata": {},
   "source": [
    "3: Sobol sequence"
   ]
  },
  {
   "cell_type": "code",
   "execution_count": 245,
   "metadata": {
    "collapsed": false
   },
   "outputs": [
    {
     "data": {
      "text/html": [
       "<center><font size=2><table border=\"1\" class=\"dataframe\">\n",
       "  <thead>\n",
       "    <tr style=\"text-align: right;\">\n",
       "      <th></th>\n",
       "      <th>0</th>\n",
       "      <th>1</th>\n",
       "      <th>2</th>\n",
       "      <th>3</th>\n",
       "      <th>4</th>\n",
       "      <th>5</th>\n",
       "    </tr>\n",
       "  </thead>\n",
       "  <tbody>\n",
       "    <tr>\n",
       "      <th>Attach</th>\n",
       "      <td>0</td>\n",
       "      <td>0.03</td>\n",
       "      <td>0.07</td>\n",
       "      <td>0.1</td>\n",
       "      <td>0.15</td>\n",
       "      <td>0.3</td>\n",
       "    </tr>\n",
       "    <tr>\n",
       "      <th>Detach</th>\n",
       "      <td>0.03</td>\n",
       "      <td>0.07</td>\n",
       "      <td>0.1</td>\n",
       "      <td>0.15</td>\n",
       "      <td>0.3</td>\n",
       "      <td>0.6</td>\n",
       "    </tr>\n",
       "    <tr>\n",
       "      <th>PV</th>\n",
       "      <td>0.4597</td>\n",
       "      <td>0.2381</td>\n",
       "      <td>0.1488</td>\n",
       "      <td>0.09508</td>\n",
       "      <td>0.03532</td>\n",
       "      <td>0.00317</td>\n",
       "    </tr>\n",
       "    <tr>\n",
       "      <th>MC err</th>\n",
       "      <td>0.003108</td>\n",
       "      <td>0.00314</td>\n",
       "      <td>0.00233</td>\n",
       "      <td>0.00138</td>\n",
       "      <td>0.00112</td>\n",
       "      <td>0.0003989</td>\n",
       "    </tr>\n",
       "    <tr>\n",
       "      <th>Var Red Factor</th>\n",
       "      <td>15.46</td>\n",
       "      <td>13.47</td>\n",
       "      <td>19.76</td>\n",
       "      <td>37.44</td>\n",
       "      <td>18.14</td>\n",
       "      <td>3.677</td>\n",
       "    </tr>\n",
       "  </tbody>\n",
       "</table></font></center>"
      ],
      "text/plain": [
       "<IPython.core.display.HTML at 0xcf1f780>"
      ]
     },
     "metadata": {},
     "output_type": "display_data"
    }
   ],
   "source": [
    "from sobol_lib import i4_sobol_generate as sobol\n",
    "\n",
    "def simCDO_ss(cdo, rho, disc, paths, i) :\n",
    "    zs = norm.ppf(sobol(1, paths, i*paths+1)[0])\n",
    "    pv = np.zeros(np.shape(cdo.a))\n",
    "    for z in zs:\n",
    "        thisPV, _, _ = cdo.drawPV(z, rho, discf)\n",
    "        pv += thisPV\n",
    "        \n",
    "    v = pv/paths\n",
    "    return pv/paths\n",
    "\n",
    "pvs = [simCDO_ss(cdo, rho, discf, npath, i) for i in range(10)]\n",
    "pv_ss = np.mean(pvs, 0)\n",
    "err_ss = np.std(pvs, 0)\n",
    "\n",
    "df = pd.DataFrame(np.array([cdo.a, cdo.d, pv_ss, err_ss, (err_0/err_ss)**2]), \n",
    "                  index=['Attach', 'Detach', 'PV', 'MC err', 'Var Red Factor'])\n",
    "\n",
    "fmt.displayDF(df, fmt='4g')"
   ]
  },
  {
   "cell_type": "markdown",
   "metadata": {},
   "source": [
    "4: Stratified Sampling"
   ]
  },
  {
   "cell_type": "code",
   "execution_count": 246,
   "metadata": {
    "collapsed": false
   },
   "outputs": [
    {
     "data": {
      "text/html": [
       "<center><font size=2><table border=\"1\" class=\"dataframe\">\n",
       "  <thead>\n",
       "    <tr style=\"text-align: right;\">\n",
       "      <th></th>\n",
       "      <th>0</th>\n",
       "      <th>1</th>\n",
       "      <th>2</th>\n",
       "      <th>3</th>\n",
       "      <th>4</th>\n",
       "      <th>5</th>\n",
       "    </tr>\n",
       "  </thead>\n",
       "  <tbody>\n",
       "    <tr>\n",
       "      <th>Attach</th>\n",
       "      <td>0</td>\n",
       "      <td>0.03</td>\n",
       "      <td>0.07</td>\n",
       "      <td>0.1</td>\n",
       "      <td>0.15</td>\n",
       "      <td>0.3</td>\n",
       "    </tr>\n",
       "    <tr>\n",
       "      <th>Detach</th>\n",
       "      <td>0.03</td>\n",
       "      <td>0.07</td>\n",
       "      <td>0.1</td>\n",
       "      <td>0.15</td>\n",
       "      <td>0.3</td>\n",
       "      <td>0.6</td>\n",
       "    </tr>\n",
       "    <tr>\n",
       "      <th>PV</th>\n",
       "      <td>0.4595</td>\n",
       "      <td>0.2386</td>\n",
       "      <td>0.1481</td>\n",
       "      <td>0.09444</td>\n",
       "      <td>0.035</td>\n",
       "      <td>0.003161</td>\n",
       "    </tr>\n",
       "    <tr>\n",
       "      <th>MC err</th>\n",
       "      <td>0.003834</td>\n",
       "      <td>0.002549</td>\n",
       "      <td>0.002203</td>\n",
       "      <td>0.001662</td>\n",
       "      <td>0.0008132</td>\n",
       "      <td>0.0001499</td>\n",
       "    </tr>\n",
       "    <tr>\n",
       "      <th>Var Red Factor</th>\n",
       "      <td>10.16</td>\n",
       "      <td>20.45</td>\n",
       "      <td>22.12</td>\n",
       "      <td>25.81</td>\n",
       "      <td>34.42</td>\n",
       "      <td>26.04</td>\n",
       "    </tr>\n",
       "  </tbody>\n",
       "</table></font></center>"
      ],
      "text/plain": [
       "<IPython.core.display.HTML at 0xc9aa2e8>"
      ]
     },
     "metadata": {},
     "output_type": "display_data"
    }
   ],
   "source": [
    "def simCDO_st(cdo, rho, disc, paths) :\n",
    "    zs = norm.ppf(np.arange(0., paths)/paths + 0.5/paths)\n",
    "    pv = np.zeros(np.shape(cdo.a))\n",
    "    for z in zs:\n",
    "        thisPV, _, _ = cdo.drawPV(z, rho, discf)\n",
    "        pv += thisPV\n",
    "        \n",
    "    v = pv/paths\n",
    "    return pv/paths\n",
    "\n",
    "pvs = [simCDO_st(cdo, rho, discf, npath) for i in range(10)]\n",
    "pv_st = np.mean(pvs, 0)\n",
    "err_st = np.std(pvs, 0)\n",
    "\n",
    "df = pd.DataFrame(np.array([cdo.a, cdo.d, pv_st, err_st, (err_0/err_st)**2]), \n",
    "                  index=['Attach', 'Detach', 'PV', 'MC err', 'Var Red Factor'])\n",
    "\n",
    "fmt.displayDF(df, fmt='4g')"
   ]
  },
  {
   "cell_type": "code",
   "execution_count": 247,
   "metadata": {
    "collapsed": false
   },
   "outputs": [
    {
     "data": {
      "image/png": "[encoded data removed]",
      "text/plain": [
       "<matplotlib.figure.Figure at 0xcf1f668>"
      ]
     },
     "metadata": {},
     "output_type": "display_data"
    }
   ],
   "source": [
    "err = pd.DataFrame(np.array([(err_0/x)**2 for x in [err_at, err_is1, err_ss, err_st]]), \n",
    "                   index=['AT', 'IS', 'SS', 'ST'], \n",
    "                   columns=zip(attachements, detachements))\n",
    "err.T.plot(kind='bar', title='Var red factor');"
   ]
  },
  {
   "cell_type": "markdown",
   "metadata": {},
   "source": [
    "## (Extra Credit) Problem 2\n",
    "\n",
    "Consider a control variate for the problem above. The large pool model assumes that the portfolio is a large homogeneous pool, using the average default rate: $\\bar p = \\frac{1}{n}\\sum_i p_i$. Then the portfolio loss conditioned on market factor $z$ under the large pool model is a determinsitic scalar:\n",
    "\n",
    "$$ l(z) = (1-r)\\Phi\\left(\\frac{\\Phi^{-1}(\\bar p) - \\sqrt \\rho z}{\\sqrt{1-\\rho}}\\right)$$\n",
    "\n",
    "where $r$ is the constant recovery of all names. $\\Phi()$ is the normal CDF function; $\\Phi^{-1}()$ is its inverse. The tranche PVs can then be computed from the $l(z)$.\n",
    "\n",
    "Please investigate if the large pool model can be used as an effective control variate. Does it work better for some tranches?\n",
    "\n",
    "Hint: to answer this question, you only need to compute the correlation between the actual and control variates. "
   ]
  },
  {
   "cell_type": "markdown",
   "metadata": {},
   "source": [
    "### Solution\n",
    "\n",
    "The large pool model is rather effective."
   ]
  },
  {
   "cell_type": "code",
   "execution_count": 248,
   "metadata": {
    "collapsed": false
   },
   "outputs": [],
   "source": [
    "avgDefProb = np.mean(defProbs)\n",
    "\n",
    "def simCDO_cv(cdo, rho, disc, paths) :\n",
    "    zs = np.random.normal(size=[paths]) \n",
    "    avgp = np.mean(cdo.p)\n",
    "    avgr = np.mean(cdo.rec)\n",
    "    cls = (1-avgr)*norm.cdf((norm.ppf(avgp)-np.sqrt(rho)*zs)/np.sqrt(1-cdo.rho))\n",
    " \n",
    "    pvs = []\n",
    "    cvs = []\n",
    "    for z, cl in zip(zs, cls):\n",
    "        thisPV, _, _ = cdo.drawPV(z, rho, discf)\n",
    "        thisCV = cdo.tranchePV(cl, discf)\n",
    "        pvs.append(thisPV)\n",
    "        cvs.append(thisCV)\n",
    "        \n",
    "    corrs = []\n",
    "    for a, b in zip(np.transpose(pvs), np.transpose(cvs)) :\n",
    "        corrs.append(np.corrcoef(a, b)[0, 1])\n",
    "    \n",
    "    return np.array(corrs), pvs, cvs\n",
    "\n",
    "corrs1, pvs1, cvs1 = simCDO_cv(cdo, rho, discf, npath)"
   ]
  },
  {
   "cell_type": "code",
   "execution_count": 249,
   "metadata": {
    "collapsed": false
   },
   "outputs": [
    {
     "data": {
      "text/html": [
       "<center><font size=2><table border=\"1\" class=\"dataframe\">\n",
       "  <thead>\n",
       "    <tr style=\"text-align: right;\">\n",
       "      <th></th>\n",
       "      <th>0</th>\n",
       "      <th>1</th>\n",
       "      <th>2</th>\n",
       "      <th>3</th>\n",
       "      <th>4</th>\n",
       "      <th>5</th>\n",
       "    </tr>\n",
       "  </thead>\n",
       "  <tbody>\n",
       "    <tr>\n",
       "      <th>Attach</th>\n",
       "      <td>0</td>\n",
       "      <td>0.03</td>\n",
       "      <td>0.07</td>\n",
       "      <td>0.1</td>\n",
       "      <td>0.15</td>\n",
       "      <td>0.3</td>\n",
       "    </tr>\n",
       "    <tr>\n",
       "      <th>Detach</th>\n",
       "      <td>0.03</td>\n",
       "      <td>0.07</td>\n",
       "      <td>0.1</td>\n",
       "      <td>0.15</td>\n",
       "      <td>0.3</td>\n",
       "      <td>0.6</td>\n",
       "    </tr>\n",
       "    <tr>\n",
       "      <th>Correlation</th>\n",
       "      <td>0.9336</td>\n",
       "      <td>0.9559</td>\n",
       "      <td>0.9398</td>\n",
       "      <td>0.9471</td>\n",
       "      <td>0.9729</td>\n",
       "      <td>0.9754</td>\n",
       "    </tr>\n",
       "    <tr>\n",
       "      <th>Max Var Red</th>\n",
       "      <td>7.794</td>\n",
       "      <td>11.59</td>\n",
       "      <td>8.561</td>\n",
       "      <td>9.711</td>\n",
       "      <td>18.67</td>\n",
       "      <td>20.56</td>\n",
       "    </tr>\n",
       "  </tbody>\n",
       "</table></font></center>"
      ],
      "text/plain": [
       "<IPython.core.display.HTML at 0xc65ceb8>"
      ]
     },
     "metadata": {},
     "output_type": "display_data"
    }
   ],
   "source": [
    "df = pd.DataFrame(np.array([cdo.a, cdo.d, corrs1, 1./(1-corrs1**2)]), \n",
    "                  index=['Attach', 'Detach', 'Correlation', 'Max Var Red'])\n",
    "\n",
    "fmt.displayDF(df, fmt='4g')"
   ]
  },
  {
   "cell_type": "code",
   "execution_count": 250,
   "metadata": {
    "collapsed": false
   },
   "outputs": [
    {
     "data": {
      "image/png": "[encoded data removed]",
      "text/plain": [
       "<matplotlib.figure.Figure at 0xd0ef550>"
      ]
     },
     "metadata": {},
     "output_type": "display_data"
    }
   ],
   "source": [
    "err.ix['CV'] = 1/(1-corrs1**2)\n",
    "err.T.plot(kind='bar', title='Var red factor'); "
   ]
  }
 ],
 "metadata": {
  "kernelspec": {
   "display_name": "Python 2",
   "language": "python",
   "name": "python2"
  },
  "language_info": {
   "codemirror_mode": {
    "name": "ipython",
    "version": 2
   },
   "file_extension": ".py",
   "mimetype": "text/x-python",
   "name": "python",
   "nbconvert_exporter": "python",
   "pygments_lexer": "ipython2",
   "version": "2.7.10"
  }
 },
 "nbformat": 4,
 "nbformat_minor": 0
}
