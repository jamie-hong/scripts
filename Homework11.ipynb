{
 "metadata": {
  "name": "",
  "signature": "sha256:316a46102fd503af6ced5f2ccd6fb9aaa53ea3a1eb10f57eb8b59cf4ff45296e"
 },
 "nbformat": 3,
 "nbformat_minor": 0,
 "worksheets": [
  {
   "cells": [
    {
     "cell_type": "markdown",
     "metadata": {},
     "source": [
      "# Homework Set 11"
     ]
    },
    {
     "cell_type": "code",
     "collapsed": false,
     "input": [
      "%pylab inline"
     ],
     "language": "python",
     "metadata": {},
     "outputs": [
      {
       "output_type": "stream",
       "stream": "stdout",
       "text": [
        "Populating the interactive namespace from numpy and matplotlib\n"
       ]
      }
     ],
     "prompt_number": 2
    },
    {
     "cell_type": "markdown",
     "metadata": {},
     "source": [
      "## Problem 1:\n",
      "\n",
      "* Applying the forward Euler's scheme to the second order ODE:\n",
      "\n",
      "$$\n",
      "y'' + (\\lambda+1)y' + \\lambda y = 0, \\;\\; y(0) = 1, \\;\\; y'(0) = \\lambda - 2, \\;\\; \\lambda >> 1.\n",
      "$$\n",
      "\n",
      "Rewrite it as a system of first order ODEs. Find the region of absolute stability. (Hint: find the eigen value decomposition of the coefficient matrix, and the region of absolute stability is the domain where the step size is chosen so that each eigen value satifies the condition for the 1D ODE.)\n",
      "     \n",
      "   "
     ]
    },
    {
     "cell_type": "markdown",
     "metadata": {},
     "source": [
      "## Problem 2:\n",
      "\n",
      "* Build a python program based on \"odeint\" to solve the above ODE for different $\\lambda $ values. Provide at least two cases that show  different behavior of the solution based on the stiffness of the problem.\n",
      "     \n",
      "   "
     ]
    }
   ],
   "metadata": {}
  }
 ]
}