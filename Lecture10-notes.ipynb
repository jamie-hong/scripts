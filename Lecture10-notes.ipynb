{
 "cells": [
  {
   "cell_type": "markdown",
   "metadata": {
    "slideshow": {
     "slide_type": "slide"
    }
   },
   "source": [
    "# Lecture 10: Entropy and Allocation\n",
    "\n",
    "Topics:\n",
    "\n",
    "* Maximum entropy method\n",
    "  * Applications\n",
    "* Risk capital allocation\n",
    "  * [optional] Constrained Aumann-Shapley\n",
    "  \n",
    "\n",
    "$$\\renewcommand{ind}{1{\\hskip -2.5 pt}\\hbox{l}}\n",
    "\\renewcommand{v}{\\text{VaR}}\n",
    "\\renewcommand{rc}{\\text{rc}}\n",
    "$$"
   ]
  },
  {
   "cell_type": "markdown",
   "metadata": {
    "slideshow": {
     "slide_type": "slide"
    }
   },
   "source": [
    "# Maximum Entropy\n",
    "\n",
    "Entropy: noun, lack of order or predictability\n",
    "\n",
    "Albert Einstein: information is not knowledge"
   ]
  },
  {
   "cell_type": "markdown",
   "metadata": {
    "slideshow": {
     "slide_type": "subslide"
    }
   },
   "source": [
    "## A model for information\n",
    "\n",
    "What is the information $i(p)$ when observing an event with probability $p$?\n",
    "\n",
    "* $i(p) \\ge 0$: information never decrease\n",
    "* $i(1) = 0$: observing a certain event adds no information\n",
    "* $i(p_1p_2) = i(p_1) + i(p_2)$: information from observing independent events are additive\n",
    "\n",
    "The only functional form that satisfies these conditions is $i(p) = - \\log(p)$\n",
    "* only meaningful in relative sense\n",
    "* any base of logarithm would work, as long as it is consistent"
   ]
  },
  {
   "cell_type": "markdown",
   "metadata": {
    "slideshow": {
     "slide_type": "subslide"
    }
   },
   "source": [
    "## Shannon's information entropy\n",
    "\n",
    "Expected information from observing a discrete event of $\\mathbb{P}[\\tilde{x} = x_k] = p_k$:\n",
    "\n",
    "$$ h(\\tilde x) = - \\sum_k p_k \\log(p_k) $$\n",
    "\n",
    "For a continuous random variable $\\tilde x$ with PDF $p(x)$:\n",
    "\n",
    "$$ h(\\tilde x) = - \\int_{-\\infty}^\\infty p(x) \\log\\left(p\\left(x\\right)\\right) dx $$\n",
    "\n",
    "Information entropy $h(\\tilde x)$ can also be interpreted as:\n",
    "* the disorder (lack-of-information) in the distribution"
   ]
  },
  {
   "cell_type": "markdown",
   "metadata": {
    "slideshow": {
     "slide_type": "fragment"
    }
   },
   "source": [
    "why this is not a good model for knowledge?"
   ]
  },
  {
   "cell_type": "markdown",
   "metadata": {
    "slideshow": {
     "slide_type": "subslide"
    }
   },
   "source": [
    "## Entropy in coin toss\n",
    "\n",
    "Consider the toss of fair and unfair coins:\n",
    "\n",
    "| Coin | $\\mathbb{P}[H]$ | $\\mathbb{P}[T]$ | Entropy | Information <br> in distribution | Information gain <br> from observation |\n",
    "| :----: | :----: | :-----: |:-----: | :-----: | :-----: | \n",
    "| Fair | $\\frac{1}{2}$ | $\\frac{1}{2}$ | 1 | none | maximum |\n",
    "| Unfair | $\\frac{1}{4}$ | $\\frac{3}{4}$ | 0.81 | more | less |\n",
    "| Robbery | 0.01 | 0.99 | 0.08 | a lot more | a lot less |\n",
    "| Two Heads | 1 | 0 | 0 | maximum | none |\n",
    "\n",
    "* here the entropy is computed using $\\log_2(\\cdot)$\n",
    "\n",
    "Entropy is the information contained in the prior distribution. The higher the entropy, the less information you have in prior, but you gain more info from observations."
   ]
  },
  {
   "cell_type": "code",
   "execution_count": 1,
   "metadata": {
    "collapsed": false,
    "slideshow": {
     "slide_type": "skip"
    }
   },
   "outputs": [
    {
     "name": "stdout",
     "output_type": "stream",
     "text": [
      "[ 1.          0.81127812  0.08079314]\n"
     ]
    }
   ],
   "source": [
    "import numpy as np\n",
    "p = np.array([.5, .25, .01])\n",
    "print -p*np.log2(p) - (1-p)*np.log2(1-p)"
   ]
  },
  {
   "cell_type": "markdown",
   "metadata": {
    "slideshow": {
     "slide_type": "subslide"
    }
   },
   "source": [
    "## Underdetermined problem \n",
    "\n",
    "An optimization problem with more variables than constraints:\n",
    "* has infinite number of solutions\n",
    "* requires an objective function for a unique solution\n",
    "* common problem in quant finance\n",
    "  * finding implied distribution from few liquid market prices\n",
    "  * curve building\n",
    "  \n",
    "In (early) literature, various ad hoc objective functions are used:\n",
    "* e.g.: sum of squares of first and second order derivatives"
   ]
  },
  {
   "cell_type": "markdown",
   "metadata": {
    "slideshow": {
     "slide_type": "subslide"
    }
   },
   "source": [
    "## Ignorance is strength\n",
    "\n",
    "Disorder (or the lack of information) in a distribution is highly desirable:\n",
    "* more uncertainty in outcome, leaves open more possibilities\n",
    "* free from the contamination of irrelevant and artificial restrictions\n",
    "* the distribution is smooth and well behaved\n",
    "* more difficult to arbitrage against\n",
    "\n",
    "Max entropy is the ideal objective for finding implied distributions:\n",
    "* much better than ad hoc smoothness constraints\n",
    "* invokes the higher principles of the information theory"
   ]
  },
  {
   "cell_type": "markdown",
   "metadata": {
    "slideshow": {
     "slide_type": "subslide"
    }
   },
   "source": [
    "## Maximum Entropy Optimization\n",
    "\n",
    "For a discrete distribution of $\\mathbb{P}(\\tilde{x} = x_i) = p_k$, the maximum entropy optimization in vector form:\n",
    "$$\\renewcommand{bs}{\\boldsymbol}$$\n",
    "$$ \\max \\left(-\\bs p^T \\log (\\bs p) \\right) $$\n",
    "\n",
    "subj. to\n",
    "$$ \\begin{array}{l} \\bs 1^T \\bs p & = 1 \\\\\n",
    "A \\bs p &= \\bs b\n",
    "\\end{array}$$\n",
    "\n",
    "* all analytical functions are applied element-wise\n",
    "  * e.g. $\\exp(\\bs p), \\log(\\bs q)$ are column vectors\n",
    "  * $\\small \\frac{\\partial}{\\partial \\bs p} \\left(\\bs p^T \\log(\\bs p)\\right) = \\log(\\bs p^T) + \\bs 1^T \\iff\n",
    "  \\frac{\\partial}{\\partial p_k} \\left(\\sum_i p_i \\log(p_i)\\right) = \\log(p_k) + 1$\n",
    "  \n",
    "* we only consider linear constraints, tractable and adequate in practice\n",
    "\n",
    "The continuous version can be expressed similarly with integrals.\n",
    "\n",
    "Entropy is a scalar (dot product of $\\bs p^T$ and $\\log{(\\bs p)}$."
   ]
  },
  {
   "cell_type": "markdown",
   "metadata": {
    "slideshow": {
     "slide_type": "subslide"
    }
   },
   "source": [
    "## Uniform distribution\n",
    "\n",
    "Uniform distribution has the maximum entropy among all distributions.\n",
    "* without additional information, we have to assume the coin is fair\n",
    "\n",
    "Apply the Lagrange multiplier:\n",
    "\n",
    "$$ \\begin{array}\n",
    "\\\\ l &= - \\bs p^T \\log(\\bs p) - \\lambda (\\bs 1^T \\bs p - 1) \\\\\n",
    "\\frac{\\partial l}{\\partial \\bs p} &= -\\log(\\bs p^T) - \\bs 1^T - \\lambda \\bs 1^T = \\bs 0^T \\\\\n",
    "\\log(\\bs p) &= -(1+\\lambda) \\bs 1\n",
    "\\end{array}$$\n",
    "\n",
    "therefore, $\\bs p$ is a uniform distribution"
   ]
  },
  {
   "cell_type": "markdown",
   "metadata": {
    "slideshow": {
     "slide_type": "subslide"
    }
   },
   "source": [
    "## Normal distribution\n",
    "\n",
    "Normal distribution has the maximum entropy with given mean and variance\n",
    "* This explains the ubiquity of the normal distribution\n",
    "* Knowing only mean and variance, we have to assume the distribution is normal\n",
    "\n",
    "Apply the Lagrange multiplier:\n",
    "$$\\renewcommand{intr}{\\int_{-\\infty}^{\\infty}}$$\n",
    "$$\\small\n",
    "\\begin{array}\n",
    "\\\\ l &= & - \\intr p(x) \\log(p(x)) dx + \\lambda_1 (\\intr p(x) dx - 1) \\\\\n",
    "     &  & + \\lambda_2 (\\intr x p(x) dx - \\mu) + \\lambda_3 (\\intr (x - \\mu)^2 p(x) dx - \\sigma^2) \\\\\n",
    "& = & \\intr \\left(-p\\log(p) + \\lambda_1 p + \\lambda_2 xp + \\lambda_3(x-\\mu)^2 p\\right) dx - \\lambda_1 - \\mu\\lambda_2 - \\sigma^2 \\lambda_3 \\\\\n",
    "& = & \\intr g dx - \\lambda_1 - \\mu\\lambda_2 - \\sigma^2\\lambda_3 \\\\\n",
    "\\frac{\\partial g}{\\partial p} &= &-\\log(p) - 1 + \\lambda_1 + \\lambda_2x + \\lambda_3(x-\\mu)^2 = 0 \\\\\n",
    "p(x) &= & \\exp(\\lambda_3(x-\\mu)^2 + (\\lambda_1 -1) + \\lambda_2 x)\n",
    "\\end{array}$$\n",
    "\n",
    "Therefore we must have: $\\lambda_3 < 0, \\lambda_2 = 0$, otherwise $p(x)$ explodes. "
   ]
  },
  {
   "cell_type": "markdown",
   "metadata": {
    "slideshow": {
     "slide_type": "subslide"
    }
   },
   "source": [
    "## Exponential distribution\n",
    "\n",
    "Exponential distribution has the maximum entropy for a positive random variable with a given expectation\n",
    "* Without addtional information, we have to assume all survival times are exponetially distributed.\n",
    "\n",
    "Apply the Lagrange multiplier:\n",
    "\n",
    "$$\\renewcommand{intp}{\\int_0^{\\infty}}\n",
    "\\small\n",
    "\\begin{array}\n",
    "\\\\ l &= - \\intp p(x) \\log(p(x)) dx + \\lambda_1 (\\intp p(x) dx - 1) + \\lambda_2 (\\intp x p(x) dx - \\mu) \\\\\n",
    "& = \\intp \\left(-p\\log(p) + \\lambda_1 p + \\lambda_2 xp \\right) dx - \\lambda_1 - \\mu\\lambda_2 = \\intp g dx - \\lambda_1 - \\mu\\lambda_2 \\\\\n",
    "\\frac{\\partial g}{\\partial p} &= -\\log(p) - 1 + \\lambda_1 + \\lambda_2x = 0 \\\\\n",
    "p(x) &= \\exp((\\lambda_1 -1) + \\lambda_2 x)\n",
    "\\end{array}$$\n",
    "\n",
    "Therefore $\\lambda_2 < 0$, otherwise $p(x)$ explodes"
   ]
  },
  {
   "cell_type": "markdown",
   "metadata": {
    "slideshow": {
     "slide_type": "subslide"
    }
   },
   "source": [
    "## Numerical examples"
   ]
  },
  {
   "cell_type": "code",
   "execution_count": 2,
   "metadata": {
    "collapsed": false,
    "slideshow": {
     "slide_type": "skip"
    }
   },
   "outputs": [
    {
     "name": "stdout",
     "output_type": "stream",
     "text": [
      "Populating the interactive namespace from numpy and matplotlib\n"
     ]
    }
   ],
   "source": [
    "%pylab inline\n",
    "import me\n",
    "from scipy.optimize import minimize\n",
    "import pandas as pd\n",
    "lecture = 10\n",
    "\n",
    "matplotlib.rcParams.update({'font.size': 14})"
   ]
  },
  {
   "cell_type": "code",
   "execution_count": 4,
   "metadata": {
    "collapsed": false,
    "slideshow": {
     "slide_type": "-"
    }
   },
   "outputs": [
    {
     "data": {
      "image/png": "[encoded data removed]",
      "text/plain": [
       "<matplotlib.figure.Figure at 0x90bbc18>"
      ]
     },
     "metadata": {},
     "output_type": "display_data"
    }
   ],
   "source": [
    "x = np.arange(0, 10, .05)\n",
    "a = np.array([x]) # first moment\n",
    "u = np.array([1.]) # mean\n",
    "e = np.array([0])\n",
    "q = np.ones(np.size(x))\n",
    "dual = me.MaxEntDual(q, a, u, e)\n",
    "\n",
    "res = minimize(dual.dual, np.zeros(len(u)), jac=dual.grad, method=\"BFGS\")\n",
    "\n",
    "figure(figsize=[12, 8])\n",
    "subplot(2, 2, 1)\n",
    "\n",
    "plot(x, dual.dist(res.x));\n",
    "title('$x>0,\\; \\mathbb{E}[x]=1$ (exponential)');\n",
    "\n",
    "subplot(2, 2, 3)\n",
    "x = np.arange(-15., 15., .01)\n",
    "a = np.array([x, x*x]) # first and second moments (pricing equation)\n",
    "u = np.array([0., 1.]) # first and second moment values\n",
    "e = np.array([0., 0.]) # error\n",
    "q = np.ones(np.size(x))/len(q) # prior belief (if uniform: cross entropy = regular entropy)\n",
    "dual = me.MaxEntDual(q, a, u, e)\n",
    "\n",
    "res = minimize(dual.dual, np.zeros(len(u)), jac=dual.grad, method=\"BFGS\")\n",
    "semilogy(x, dual.dist(res.x))\n",
    "xlim(-10, 10)\n",
    "ylim(1e-28, 1e-2)\n",
    "title('$\\mathbb{E}[x] = 0, \\mathbb{E}[x^2] = 1$ (normal)');\n",
    "\n",
    "subplot(2, 2, 4)\n",
    "a = np.vstack([a, x*x*x*x]) # 1,2, and 4-th moments\n",
    "u = np.append(u, 20) # moment values\n",
    "e = np.append(e, 0)\n",
    "dual = me.MaxEntDual(q, a, u, e)\n",
    "\n",
    "res = minimize(dual.dual, np.zeros(len(u)), jac=dual.grad, method=\"BFGS\")\n",
    "semilogy(x, dual.dist(res.x))\n",
    "xlim(-10, 10)\n",
    "title('$\\mathbb{E}[x] = 0, \\mathbb{E}[x^2] = 1, \\mathbb{E}[x^4] = 20$ (kurtosis)');\n",
    "\n",
    "subplot(2, 2, 2)\n",
    "a = np.vstack([a, x*x*x])\n",
    "u = np.append(u, -4)\n",
    "e = np.append(e, 0)\n",
    "dual = me.MaxEntDual(q, a, u, e)\n",
    "\n",
    "res = minimize(dual.dual, np.zeros(len(u)), jac=dual.grad, method=\"BFGS\")\n",
    "plot(x, dual.dist(res.x))\n",
    "xlim(-8, 4)\n",
    "title('$\\mathbb{E}[x] = 0, \\mathbb{E}[x^2] = 1, \\mathbb{E}[x^3] = -4, \\mathbb{E}[x^4] = 20$ (skewned)');"
   ]
  },
  {
   "cell_type": "markdown",
   "metadata": {},
   "source": [
    "* we will discuss the details of numerical implementation later"
   ]
  },
  {
   "cell_type": "markdown",
   "metadata": {
    "slideshow": {
     "slide_type": "subslide"
    }
   },
   "source": [
    "## Cross entropy\n",
    "\n",
    "Cross entropy is a measure of incremental information in a \n",
    "distribution $\\bs p$ in relative to a prior distribution $\\bs q$; \n",
    "\n",
    "* Also known as the Kullback–Leibler distance\n",
    "\n",
    "With a discrete prior $\\mathbb{P}[\\tilde{x} = x_k] = q_k$ (your wrong belief in prior) and posterier $p_k$ :\n",
    "\n",
    "$$ h(\\bs p | \\bs q) = -\\sum_k p_k \\log(p_k) + \\sum_k p_k \\log(q_k) = - \\sum_k p_k \\log\\left(\\frac{p_k}{q_k}\\right) $$\n",
    "\n",
    "Similarly with a continuous prior $q(x)$ and posterier $p(x)$ :\n",
    "\n",
    "$$ h\\left(p(x) | q(x)\\right) = - \\intr p(x) \\log \\left(\\frac{p(x)}{q(x)}\\right) dx $$\n",
    "\n",
    "The smaller (more negative) the cross entropy is, the more incremental information in $\\bs p$ from $\\bs q$"
   ]
  },
  {
   "cell_type": "markdown",
   "metadata": {
    "slideshow": {
     "slide_type": "subslide"
    }
   },
   "source": [
    "## Properties of cross entropy\n",
    "\n",
    "Cross entropy $h(\\bs p| \\bs q) = - \\bs p^T(\\log(\\bs p) - \\log(\\bs q))$:\n",
    "* a measure of the lack of incremental information in $\\bs p$ from $\\bs q$, ** non positive **\n",
    "* reduces to regular entropy when the prior $\\bs q$ is uniform (minus a constant is equivalent to change of log base)\n",
    "* maximized with value 0 when $\\bs p = \\bs q$. (The more negative it is, the more incremental information)\n",
    " * no additional information\n",
    " * Proof: apply the Lagrange multiplier\n",
    "* $h(\\bs p| \\bs q) = -\\infty$ if $p_k > 0$ for some $q_k = 0$\n",
    " * new discovery adds infinite amount of new information\n",
    "* finite if $p_k = 0$ for some $q_k > 0$\n",
    " * not much value for disapproving an existing theory\n",
    "* Prior and posterior distributions are asymmetric $h(\\bs p | \\bs q) \\ne h(\\bs q | \\bs p)$\n",
    " * Kullback–Leibler distance is actually a misnomer (i.e., this \"distance\" is not symmetric)"
   ]
  },
  {
   "cell_type": "markdown",
   "metadata": {
    "slideshow": {
     "slide_type": "subslide"
    }
   },
   "source": [
    "## Prior beliefs in the market\n",
    "\n",
    "Prior beliefs are common in the market:\n",
    "\n",
    "* e.g., stock returns are normally distributed\n",
    "\n",
    "Maximizing cross entropy (making it close to 0) is an ideal objective function to capture prior beliefs\n",
    "* Only introduce minimal perturbation to the prior beliefs $\\bs q$\n",
    "* While incorporating additional constraints to the distribution $\\bs p$"
   ]
  },
  {
   "cell_type": "markdown",
   "metadata": {
    "slideshow": {
     "slide_type": "subslide"
    }
   },
   "source": [
    "## Cross entropy optimization with bid/ask\n",
    "\n",
    "Take the discrete form of cross entropy:\n",
    "\n",
    "$$ \\max - \\bs p^T \\left(\\log(\\bs p) - \\log(\\bs q)\\right)  - \\frac{1}{2} \\bs e^T W \\bs e $$\n",
    "subj. to : \n",
    " $$\\begin{array}\\\\\n",
    " \\bs 1^T \\bs p & = 1 \\\\\n",
    " A \\bs p &= \\bs b + \\bs e \n",
    " \\end{array}$$\n",
    " \n",
    "* $A$ is a matrix that computes benchmark prices from the distribution\n",
    "* $\\bs b$ is the observed mid price of benchmark instruments\n",
    "* $\\bs e$ is the pricing error associated with the mid price\n",
    "* $W$ is a diagonal penalty matrix, we usually choose $W^{-1} = \\alpha E$\n",
    "  * where $E$ is a diagonal matrix of bid/ask spreads, \n",
    "  * $\\alpha$ controls the trade off between fit quality and entropy\n",
    "\n",
    "This problem is difficult to solve due to the dimensionality and constraints."
   ]
  },
  {
   "cell_type": "markdown",
   "metadata": {
    "slideshow": {
     "slide_type": "subslide"
    }
   },
   "source": [
    "## If you have a hammer ...\n",
    "\n",
    "The Lagrange multiplier has served us well so far, let's nail it:\n",
    "\n",
    "$$\\small\n",
    "\\begin{array} \\\\ \n",
    "l &= - \\bs p^T \\left(\\log(\\bs p) - \\log(\\bs q)\\right)  - \\frac{1}{2} \\bs e^T W \\bs e -\n",
    "\\bs u^T(A\\bs p - \\bs b - \\bs e)  - v (\\bs 1^T \\bs p - 1) \\\\\n",
    "\\frac{\\partial l}{\\partial \\bs p} &= \\log(\\bs q^T) -\\log(\\bs p^T) - \\bs 1^T - \\bs u^T A - v \\bs 1^T = 0 \\\\\n",
    "\\log(\\bs p^*) &= \\log(\\bs q) - A^T \\bs u - \\bs 1 - v \\bs 1 \\\\\n",
    "\\end{array}$$\n",
    "\n",
    "* $\\bs p^*$ is the optimal solution. \n",
    "* we haven't solved the problem, as $\\bs e, \\bs u, v$ remain unknown "
   ]
  },
  {
   "cell_type": "markdown",
   "metadata": {
    "slideshow": {
     "slide_type": "subslide"
    }
   },
   "source": [
    "but the dimensionality of $l$ is reduced, by plugging in $\\bs p^*$:\n",
    "\n",
    "$$\\begin{array} \\\\ \n",
    "l &= - \\bs p^{*T} \\left( - A^T \\bs u - \\bs 1 - v \\bs 1 \\right)  -  \\frac{1}{2} \\bs e^T W \\bs e -\n",
    "\\bs u^T(A\\bs p^* - \\bs b - \\bs e)  - v (\\bs 1^T \\bs p^* - 1) \\\\\n",
    " &= \\bs p^{*T} \\bs 1 - \\frac{1}{2} \\bs e^T W \\bs e + \\bs u^T \\bs b + \\bs u^T \\bs e + v \\\\\n",
    "\\end{array} $$\n",
    "\n",
    "What to do with $\\bs e$? note $\\bs p^*$ does not depend on $\\bs e$:"
   ]
  },
  {
   "cell_type": "markdown",
   "metadata": {
    "slideshow": {
     "slide_type": "fragment"
    }
   },
   "source": [
    "$$\n",
    "\\frac{\\partial l}{\\partial \\bs e} = - \\bs e^T W + \\bs u^T = \\bs 0^T \\iff \\bs e = W^{-1} \\bs u \n",
    "$$\n",
    "\n",
    "plug $\\bs e$ back to $l$:\n",
    "\n",
    "$$\n",
    "l = \\bs q^T \\exp(-A^T \\bs u - 1 - v) + \\frac{1}{2} \\bs u^T W^{-1} \\bs u + \\bs u^T \\bs b + v\n",
    "$$"
   ]
  },
  {
   "cell_type": "markdown",
   "metadata": {
    "slideshow": {
     "slide_type": "subslide"
    }
   },
   "source": [
    "do the same to $v$:\n",
    "\n",
    "$$\\begin{array}\n",
    "\\\\ \\frac{\\partial l}{\\partial v} &= - \\bs q^T \\exp(-A^T \\bs u - 1 - v) + 1  \\\\\n",
    "&= - \\bs q^T \\exp(-A^T \\bs u) \\exp(- 1 - v) + 1 = 0 \\\\\n",
    "v &= \\log \\left(\\bs q^T \\exp(-A^T \\bs u)\\right) - 1 \\\\\n",
    "\\end{array}$$\n",
    "\n",
    "plug $v$ in to $l$:\n",
    "\n",
    "$$\\begin{array}\n",
    "\\\\ l &= 1 + \\frac{1}{2} \\bs u^T W^{-1} \\bs u + \\bs u^T \\bs b + \\log \\left(\\bs q^T \\exp(-A^T \\bs u)\\right) - 1 \\\\\n",
    " &= \\log \\left(\\bs q^T \\exp(-A^T \\bs u)\\right) + \\frac{1}{2} \\bs u^T W^{-1} \\bs u + \\bs u^T \\bs b\n",
    "\\end{array}$$\n",
    "\n",
    "Now $\\bs u$ are the only unknowns, this $l$ is much easier to minimize."
   ]
  },
  {
   "cell_type": "markdown",
   "metadata": {
    "slideshow": {
     "slide_type": "subslide"
    }
   },
   "source": [
    "## Dual problem\n",
    "\n",
    "|  | Original Problem | Dual Problem |\n",
    "| :---: | :---: | :---: |\n",
    "| Objective | $ \\scriptsize - \\bs p^T \\left(\\log(\\bs p) - \\log(\\bs q)\\right)  - \\frac{1}{2} \\bs e^T W \\bs e $| $ \\scriptsize \\log \\left(\\bs q^T \\exp(-A^T \\bs u)\\right) + \\frac{1}{2} \\bs u^T W^{-1} \\bs u + \\bs u^T \\bs b$  |\n",
    "| Extreme type | maximum |minimum |\n",
    "| Solve for | $\\bs p$: high dimension | $\\bs u$: low dimension |\n",
    "| Constraints | $ \\bs 1^T \\bs p = 1, A \\bs p = \\bs b + \\bs e$ | None |\n",
    "| Convex | Yes | Yes |\n",
    "\n",
    "* The dual problem is much easier to solve \n",
    "  * the gradient is analytical, suitable for gradient descent\n",
    "* A solution is guaranteed to exist if $W$ is diagonal and positive\n",
    "\n",
    "Once we find the optimal $\\bs u^*$ that minimizes the dual objective:\n",
    "\n",
    "$$\n",
    "\\bs p^* = \\frac{\\bs q \\odot \\exp(- A^T \\bs u^*)}{\\bs q^T \\exp(- A^T \\bs u^*)}\n",
    "$$\n",
    "\n",
    "* $\\odot$ is element wise multiplication"
   ]
  },
  {
   "cell_type": "markdown",
   "metadata": {
    "slideshow": {
     "slide_type": "slide"
    }
   },
   "source": [
    "# Maximum Entropy Applications"
   ]
  },
  {
   "cell_type": "markdown",
   "metadata": {
    "slideshow": {
     "slide_type": "subslide"
    }
   },
   "source": [
    "## Volatility skew\n",
    "\n",
    "In the option market, OTM calls command higher implied volatility than the ATM/ITM calls.\n",
    "\n",
    "Suppose we only have the following three liquid 5M S&P500 index option:"
   ]
  },
  {
   "cell_type": "code",
   "execution_count": 6,
   "metadata": {
    "collapsed": false,
    "slideshow": {
     "slide_type": "-"
    }
   },
   "outputs": [
    {
     "data": {
      "text/html": [
       "<center><font size=2><table border=\"1\" class=\"dataframe\">\n",
       "  <thead>\n",
       "    <tr style=\"text-align: right;\">\n",
       "      <th></th>\n",
       "      <th>Call Price</th>\n",
       "      <th>Implied Vol(%)</th>\n",
       "      <th>Delta</th>\n",
       "    </tr>\n",
       "  </thead>\n",
       "  <tbody>\n",
       "    <tr>\n",
       "      <th>1,611</th>\n",
       "      <td>89.62</td>\n",
       "      <td>15.94</td>\n",
       "      <td>0.617</td>\n",
       "    </tr>\n",
       "    <tr>\n",
       "      <th>1,652</th>\n",
       "      <td>62.99</td>\n",
       "      <td>14.81</td>\n",
       "      <td>0.5191</td>\n",
       "    </tr>\n",
       "    <tr>\n",
       "      <th>1,694</th>\n",
       "      <td>41.03</td>\n",
       "      <td>13.83</td>\n",
       "      <td>0.4073</td>\n",
       "    </tr>\n",
       "  </tbody>\n",
       "</table></font></center>"
      ],
      "text/plain": [
       "<IPython.core.display.HTML object>"
      ]
     },
     "metadata": {},
     "output_type": "display_data"
    }
   ],
   "source": [
    "from inst import BlackScholes\n",
    "from scipy.stats import norm\n",
    "import fmt\n",
    "\n",
    "def optionCons(strikes, s) :\n",
    "    a = [np.maximum(s-k, 0) for k in strikes]\n",
    "    return np.array(a)\n",
    "\n",
    "\n",
    "iv = np.array([.1594, .1481, .1383])\n",
    "\n",
    "s = 1652.32 # spot price\n",
    "r = 0. # interest rate\n",
    "t = 5./12 # maturity\n",
    "\n",
    "ks = np.array([1611, s, 1694]) # strikes\n",
    "\n",
    "cs = np.array([BlackScholes.callPrice(0, s, k, t, v) for k, v in zip(ks, iv)])\n",
    "d = np.array([BlackScholes.callDelta(0, s, k, t, v) for k, v in zip(ks, iv)])\n",
    "\n",
    "df_opt = pd.DataFrame(np.array([cs, iv*100, d]).T, columns = [\"Call Price\", \"Implied Vol(%)\", \"Delta\"], index=ks)\n",
    "fmt.displayDF(df_opt, \"4g\")\n",
    "\n",
    "x = s*np.exp(np.arange(-1.5, 3, .001)) # possible stock prices \n",
    "q = np.ones(len(x))\n",
    "qn = norm.pdf((np.log(x/s)+.5*iv[1]*iv[1]*t)/(iv[1]*np.sqrt(t)))\n",
    "qn = qn/sum(qn)\n",
    "\n",
    "a = optionCons(ks, x)\n",
    "e = np.ones(len(ks))*.0\n",
    "# other market strikes and implied volatilities (only for reference)\n",
    "mks = np.array([1322,  1487,  1570,  1611,  1652,  1694,  1735, 1818, 1982])\n",
    "mvs = np.array([.2319, .1895, .1687, .1594, .1481, .1383, .1289, .1176, .1125])"
   ]
  },
  {
   "cell_type": "markdown",
   "metadata": {},
   "source": [
    "How to price options of other strikes?"
   ]
  },
  {
   "cell_type": "markdown",
   "metadata": {
    "slideshow": {
     "slide_type": "subslide"
    }
   },
   "source": [
    "## Entropy optimizaiton setup\n",
    "\n",
    "We sample the future stock price distribution discretely as: $p_i = \\mathbb{P}[s(t = 5M) = s_i]$, where $s_i$ is a discretization of the stock prices.\n",
    "\n",
    "Each observed option price $v(k)$ becomes a linear constraint in $p_i$:\n",
    "\n",
    "$$ b(t) \\mathbb{E}[(s(t)-k)^+] = b(t) \\sum_i p_i (s_i - k)^+ = v(k) $$ \n",
    "\n",
    "* The machinery of the dual maximum entropy setup is then applied to find the implied distribution of $\\bs p^*$\n",
    "* Option prices of all strikes are then known from $\\bs p^*$\n",
    "* The discounting $b(t)$ is ignored as the time horizon is very short."
   ]
  },
  {
   "cell_type": "markdown",
   "metadata": {
    "slideshow": {
     "slide_type": "subslide"
    }
   },
   "source": [
    "## Maximum entropy solution\n",
    "\n",
    "The ME optimization results without prior does not make much sense even though it exactly reprices the observed prices."
   ]
  },
  {
   "cell_type": "code",
   "execution_count": 7,
   "metadata": {
    "collapsed": false
   },
   "outputs": [
    {
     "data": {
      "image/png": "[encoded data removed]",
      "text/plain": [
       "<matplotlib.figure.Figure at 0xb35beb8>"
      ]
     },
     "metadata": {},
     "output_type": "display_data"
    }
   ],
   "source": [
    "dual = me.MaxEntDual(q, a, cs, e) # q is an array of one's : no prior belief in return distribution = uniform prior\n",
    "# MaxEntDual(prior, pricing matrix, price, error)\n",
    "res = minimize(dual.dual, np.zeros(len(cs)), jac=dual.grad, method=\"BFGS\")\n",
    "po = dual.dist(res.x) # posterior distribution p\n",
    "\n",
    "kd = arange(80., 130., 1.)/100*s\n",
    "cd = np.array([po.dot(np.maximum(x-k, 0)) for k in kd])\n",
    "vd = [BlackScholes.compImpliedVolFromCall(0., s, k, t, c) for k, c in zip(kd, cd)]\n",
    "#dd = [BlackScholes.callDelta(0, s, k, 1, v) for k, v in zip(kd, vd)]\n",
    "\n",
    "figure(figsize=[12, 4])\n",
    "subplot(1, 2, 1)\n",
    "plot(x, dual.dist(res.x))\n",
    "xlabel('Strike')\n",
    "title('ME Distribution of Prices')\n",
    "xlim(1200,2400)\n",
    "\n",
    "subplot(1, 2, 2)\n",
    "plot(kd, vd, 'g-')\n",
    "plot(mks, mvs, 'k>')\n",
    "plot(ks, iv, 'ro')\n",
    "xlim(1200, 2200)\n",
    "xlabel('Strike')\n",
    "title('Implied Vol');\n",
    "legend(['Max Entropy', 'Market']);"
   ]
  },
  {
   "cell_type": "markdown",
   "metadata": {
    "slideshow": {
     "slide_type": "subslide"
    }
   },
   "source": [
    "## Use the prior belief\n",
    "\n",
    "We can take advantage of the prior belief that the stock return is normal, and use the observed ATM vol in the prior.  \n",
    "\n",
    "* The resulting distribution and volatility skew are reasonble\n",
    "* The whole vol skew curve is inferred from three option prices\n",
    "* The resulting option prices are very close to the actual market"
   ]
  },
  {
   "cell_type": "code",
   "execution_count": 18,
   "metadata": {
    "collapsed": false
   },
   "outputs": [
    {
     "data": {
      "image/png": "[encoded data removed]",
      "text/plain": [
       "<matplotlib.figure.Figure at 0xd204cf8>"
      ]
     },
     "metadata": {},
     "output_type": "display_data"
    }
   ],
   "source": [
    "dual = me.MaxEntDual(qn, a, cs, e)\n",
    "res = minimize(dual.dual, np.zeros(len(cs)), jac=dual.grad, method=\"BFGS\")\n",
    "po = dual.dist(res.x)\n",
    "\n",
    "cd = np.array([po.dot(np.maximum(x-k, 0)) for k in kd])\n",
    "vd = [BlackScholes.compImpliedVolFromCall(0, s, k, t, c) for k, c in zip(kd, cd)]\n",
    "#dd = [BlackScholes.callDelta(0, s, k, 1, v) for k, v in zip(kd, vd)]\n",
    "\n",
    "figure(figsize=[12, 4])\n",
    "subplot(1, 2, 1)\n",
    "plot(x, qn)\n",
    "plot(x, dual.dist(res.x))\n",
    "xlabel('Strike')\n",
    "title('Max Entropy Distribution')\n",
    "legend(['Prior', 'Max Entropy'])\n",
    "xlim(1200,2600)\n",
    "\n",
    "subplot(1, 2, 2)\n",
    "axhline(iv[1])\n",
    "plot(kd, vd, 'g-')\n",
    "plot(mks, mvs, 'k>')\n",
    "plot(ks, iv, 'ro')\n",
    "xlim(1200, 2200)\n",
    "xlabel('Strike')\n",
    "legend(['Prior', 'Max Entropy', 'Market Quotes'])\n",
    "title('Implied Vol');"
   ]
  },
  {
   "cell_type": "markdown",
   "metadata": {
    "slideshow": {
     "slide_type": "subslide"
    }
   },
   "source": [
    "## Curve building revisited\n",
    "\n",
    "We already know how to build good CDS/IR curves using:\n",
    "\n",
    "* Bootstrap and iteration\n",
    "* Tension spline interpolation\n",
    "\n",
    "However, there are some unanswered questions:\n",
    "\n",
    "* which is a better state variable, zero rate $r(t) = -\\frac{1}{t}\\log(b(t))$ or cumulative yield $y(t) = -\\log(b(t))$?\n",
    "* what tension parameter makes more sense?\n",
    "* what if market prices are arbitrageable?\n",
    "\n",
    "Maximum entropy method can help answer these questions."
   ]
  },
  {
   "cell_type": "markdown",
   "metadata": {
    "slideshow": {
     "slide_type": "subslide"
    }
   },
   "source": [
    "## IR curve building\n",
    "\n",
    "Typical instruments to build USD IR curves:\n",
    "\n",
    "* deposits: 1D, 1M, 2M, 3M (short-term)\n",
    "* 3M IR Futures (or FRA): 3M, 6M, 12M, ..., 33M, 36M (medium-term)\n",
    "* Swaps: 4Y, 5Y, ..., 19Y, 20Y, 25Y, 30Y, 35Y, 40Y, 50Y (long-term)\n",
    "\n",
    "these instruments have different liquidity and their prices are not necessarily compatible with each other\n",
    "\n",
    "* it is not necessary to exactly match all mid market prices, usually it is adequate to be within the bid/ask\n",
    "* it is not uncommon for market prices to be arbitrageable, thus impossible to exactly fit all market mids "
   ]
  },
  {
   "cell_type": "markdown",
   "metadata": {
    "slideshow": {
     "slide_type": "subslide"
    }
   },
   "source": [
    "## Instruments for building IR curves\n",
    "\n",
    "$b(t)$ is the market price of zero coupon bond maturing at quarterly date $t$, then the market observable prices can \n",
    "be expressed as a linear system of $C\\bs b = \\bs v$:\n",
    "\n",
    "$$\\tiny\n",
    "\\begin{array}\\\\ \\text{Deposits} \\begin{cases} \\begin{array}\n",
    "\\\\ \\\\ \\\\ \\\\ \\\\\n",
    "\\end{array}\\end{cases}\\\\\n",
    "\\text{Futures}\\begin{cases}\\begin{array}\n",
    "\\\\ \\\\ \\\\ \\\\ \\\\\n",
    "\\end{array}\\end{cases}\\\\\n",
    "\\text{Swaps}\\begin{cases}\\begin{array}\n",
    "\\\\ \\\\ \\\\ \\\\ \\\\ \n",
    "\\end{array}\\end{cases}\\end{array}\n",
    "\\begin{pmatrix}\n",
    "& * & \\\\\n",
    "&   & * & \\\\\n",
    "& & & * & \\\\\n",
    "& & & & * & \\\\\n",
    "& & & * & * \\\\\n",
    "& & & & * & * \\\\\n",
    "& & & & & * & * \\\\\n",
    "& & & & & & * & * \\\\\n",
    "& * & * & * & * & * & * & * & * & * \\\\\n",
    "& * & * & * & * & * & * & * & * & * & * & * \\\\\n",
    "& * & * & * & * & * & * & * & * & * & * & * & * & * \\\\\n",
    "& * & * & * & * & * & * & * & * & * & * & * & * & * & * & * \n",
    "\\end{pmatrix} \n",
    "\\begin{pmatrix}\n",
    "* \\\\ * \\\\ * \\\\ * \\\\ * \\\\ * \\\\ * \\\\ * \\\\ * \\\\ * \\\\ * \\\\ * \n",
    "\\end{pmatrix} = \n",
    "\\begin{pmatrix}\n",
    "* \\\\ * \\\\ * \\\\ * \\\\ * \\\\ * \\\\ * \\\\ * \\\\ * \\\\ * \\\\ * \\\\ * \n",
    "\\end{pmatrix}\n",
    "$$\n",
    "\n",
    "* \\* represents non zero elements"
   ]
  },
  {
   "cell_type": "markdown",
   "metadata": {
    "slideshow": {
     "slide_type": "subslide"
    }
   },
   "source": [
    "## Pricing constraints\n",
    "\n",
    "$$ C \\bs b = \\bs v $$\n",
    "\n",
    "\n",
    "* $C$ represents the cashflow of the benchmark instruments \n",
    "* $\\bs b$ is the zero coupon bond prices at quarterly maturities\n",
    "* $\\bs v$ is the benchmark instruments' prices\n",
    "* Often in practice, we sacrefice exact fit for better curve properties. \n",
    "* Maximum entropy is a powerful technique to find the right trade off"
   ]
  },
  {
   "cell_type": "markdown",
   "metadata": {
    "slideshow": {
     "slide_type": "subslide"
    }
   },
   "source": [
    "## Stylized example:\n",
    "\n",
    "We use the following swap data set to illustrate the IR Curve building.\n",
    "\n",
    "* The bid/ask spreads increase with swap maturity\n",
    "* The 100 year swap is added as a terminal condition"
   ]
  },
  {
   "cell_type": "code",
   "execution_count": 8,
   "metadata": {
    "collapsed": false,
    "slideshow": {
     "slide_type": "-"
    }
   },
   "outputs": [
    {
     "data": {
      "text/html": [
       "<center><font size=2><table border=\"1\" class=\"dataframe\">\n",
       "  <thead>\n",
       "    <tr style=\"text-align: right;\">\n",
       "      <th></th>\n",
       "      <th>1</th>\n",
       "      <th>2</th>\n",
       "      <th>3</th>\n",
       "      <th>5</th>\n",
       "      <th>7</th>\n",
       "      <th>10</th>\n",
       "      <th>12</th>\n",
       "      <th>15</th>\n",
       "      <th>20</th>\n",
       "      <th>25</th>\n",
       "      <th>100</th>\n",
       "    </tr>\n",
       "  </thead>\n",
       "  <tbody>\n",
       "    <tr>\n",
       "      <th>Par Spread (%)</th>\n",
       "      <td>4.20</td>\n",
       "      <td>4.30</td>\n",
       "      <td>4.70</td>\n",
       "      <td>5.40</td>\n",
       "      <td>5.70</td>\n",
       "      <td>6.00</td>\n",
       "      <td>6.10</td>\n",
       "      <td>5.90</td>\n",
       "      <td>5.60</td>\n",
       "      <td>5.55</td>\n",
       "      <td>5.55</td>\n",
       "    </tr>\n",
       "    <tr>\n",
       "      <th>Bid/Ask Spread (%)</th>\n",
       "      <td>0.02</td>\n",
       "      <td>0.02</td>\n",
       "      <td>0.03</td>\n",
       "      <td>0.04</td>\n",
       "      <td>0.05</td>\n",
       "      <td>0.06</td>\n",
       "      <td>0.07</td>\n",
       "      <td>0.10</td>\n",
       "      <td>0.15</td>\n",
       "      <td>0.20</td>\n",
       "      <td>1.00</td>\n",
       "    </tr>\n",
       "  </tbody>\n",
       "</table></font></center>"
      ],
      "text/plain": [
       "<IPython.core.display.HTML at 0xa3c7a20>"
      ]
     },
     "metadata": {},
     "output_type": "display_data"
    }
   ],
   "source": [
    "import fmt\n",
    "\n",
    "mats = np.array([1, 2, 3, 5, 7, 10, 12, 15, 20, 25, 100])\n",
    "par = np.array([.042, .043, .047, .054, .057, .06, .061, .059, .056, .0555, .0555])\n",
    "ba = np.array([.0002, .0002, .0003, .0004, .0005, .0006, .0007, .001, .0015, .002, .01])\n",
    "\n",
    "df_swap = pd.DataFrame(np.array([par, ba]).T*100, columns=[\"Par Spread (%)\", \"Bid/Ask Spread (%)\"], \n",
    "                       index=mats)\n",
    "fmt.displayDF(df_swap.T, \"2f\")"
   ]
  },
  {
   "cell_type": "markdown",
   "metadata": {},
   "source": [
    "We can apply the ME optimization to build curves, as oppose to bootstrapping\n",
    "* this approach is more flexible and robust\n",
    "* it can handle overlapping instruments with arbitrageable prices"
   ]
  },
  {
   "cell_type": "markdown",
   "metadata": {
    "slideshow": {
     "slide_type": "subslide"
    }
   },
   "source": [
    "## What distribution?\n",
    "\n",
    "We need a random variable to apply the maximum entropy method.\n",
    "\n",
    "the discounting factor can be rewritten by the probability of loss when teleporting a dollar from the future to today:\n",
    "\n",
    "$$ 1 - b(t_i) = \\sum_i p_i $$\n",
    "\n",
    "* $b(t_i)$ is the discount factor, or price of risk free zero coupon bond maturing at $t_i$\n",
    "* $p_i$ is the probability of the dollar evaporizing between time $t_{i-1}$ and $t_{i}$\n",
    "* $\\bs p$ is the distribution of the evaporation time of a dollar when teleporting it from $t=\\infty$"
   ]
  },
  {
   "cell_type": "markdown",
   "metadata": {
    "slideshow": {
     "slide_type": "subslide"
    }
   },
   "source": [
    "## Swap price in $\\bs p$\n",
    "\n",
    "Assuming $t_i$ is semi-annual time grid, a swap's pricing equation can be expressed as a linear function of $p_i$\n",
    "\n",
    "$$\\begin{array}\n",
    "\\\\ \\sum_{i=1}^n \\frac{s}{2} b(t_i) + b(t_n) &= 1 \\\\ \n",
    "\\sum_{i=1}^n \\frac{s}{2} (1-\\sum_{j=1}^i p_j) + (1-\\sum_{i=1}^n p_i) &= 1 \\\\ \n",
    " \\sum_{i=1}^n \\left(\\frac{s}{2} (n-i+1) + 1\\right) p_i &= \\frac{sn}{2} \\\\ \n",
    "\\end{array}$$\n",
    "\n",
    "* the $\\frac{1}{2}$ is because the swap's coupons are paid semi-anually."
   ]
  },
  {
   "cell_type": "markdown",
   "metadata": {
    "slideshow": {
     "slide_type": "subslide"
    }
   },
   "source": [
    "## Exact fit\n",
    "\n",
    "We can force exact fits to the market prices by setting $W^{-1} = 0E$ \n",
    "* $E$ is a digonal matrix of bid/ask term structure of swaps\n",
    "* recall $\\bs e = W^{-1}\\bs u$"
   ]
  },
  {
   "cell_type": "code",
   "execution_count": 9,
   "metadata": {
    "collapsed": false
   },
   "outputs": [],
   "source": [
    "def swapCons(coupons, mats, freq) :\n",
    "    am = []\n",
    "    nt = (int)(mats[-1]*freq + freq + .01)\n",
    "    b = coupons*mats\n",
    "    for m, c in zip(mats, coupons) :\n",
    "        a = np.zeros(nt)\n",
    "        ts = range(0, m*freq)\n",
    "        a[ts] = .5*c*(m*freq-ts) + 1\n",
    "        am.append(a)\n",
    "        \n",
    "    return np.array(am), b, arange(1, nt+1)*.5\n",
    "\n",
    "def priceSwap(disc, mats, freq) :\n",
    "    par = []\n",
    "    pv01s = []\n",
    "    for m in mats :\n",
    "        pv01 = np.sum(disc[:m*freq])/freq\n",
    "        par.append((1-disc[m*freq-1])/pv01)\n",
    "        pv01s.append(pv01)\n",
    "        \n",
    "    return np.array(par), np.array(pv01s)\n",
    "\n",
    "def fitSwap(a, b, ba, efs) :\n",
    "    n = len(a.T)\n",
    "    q = np.ones(n)/n\n",
    "    pv01 = np.ones(len(b))\n",
    "    \n",
    "    outs = []\n",
    "    for ef in efs :\n",
    "        for ii in range(3) :\n",
    "            e = ba*pv01*ef\n",
    "    \n",
    "            dual = me.MaxEntDual(q, a, b, e)\n",
    "            res = minimize(dual.dual, np.zeros(len(e)), jac=dual.grad, method=\"BFGS\")\n",
    "\n",
    "            op = dual.dist(res.x)\n",
    "            d = 1. - np.cumsum(op)\n",
    "            fwd = np.diff(-(np.log(d)))\n",
    "            fit, pv01 = priceSwap(d, mats, freq) \n",
    "    \n",
    "        outs.append((op, fit, d, fwd))\n",
    "        \n",
    "    return zip(*outs)\n",
    "        \n",
    "freq = 2\n",
    "nt = mats[-1]*freq\n",
    "a, b, t = swapCons(par, mats, freq)"
   ]
  },
  {
   "cell_type": "code",
   "execution_count": 10,
   "metadata": {
    "collapsed": false,
    "slideshow": {
     "slide_type": "-"
    }
   },
   "outputs": [
    {
     "data": {
      "text/html": [
       "<center><font size=2><table border=\"1\" class=\"dataframe\">\n",
       "  <thead>\n",
       "    <tr style=\"text-align: right;\">\n",
       "      <th></th>\n",
       "      <th>1</th>\n",
       "      <th>2</th>\n",
       "      <th>3</th>\n",
       "      <th>5</th>\n",
       "      <th>7</th>\n",
       "      <th>10</th>\n",
       "      <th>12</th>\n",
       "      <th>15</th>\n",
       "      <th>20</th>\n",
       "      <th>25</th>\n",
       "      <th>100</th>\n",
       "    </tr>\n",
       "  </thead>\n",
       "  <tbody>\n",
       "    <tr>\n",
       "      <th>Par Spread (%)</th>\n",
       "      <td> 4.20</td>\n",
       "      <td>4.30</td>\n",
       "      <td>4.70</td>\n",
       "      <td>5.40</td>\n",
       "      <td> 5.70</td>\n",
       "      <td>6.00</td>\n",
       "      <td>6.10</td>\n",
       "      <td> 5.90</td>\n",
       "      <td>5.60</td>\n",
       "      <td>5.55</td>\n",
       "      <td>5.55</td>\n",
       "    </tr>\n",
       "    <tr>\n",
       "      <th>Bid/Ask Spread (%)</th>\n",
       "      <td> 0.02</td>\n",
       "      <td>0.02</td>\n",
       "      <td>0.03</td>\n",
       "      <td>0.04</td>\n",
       "      <td> 0.05</td>\n",
       "      <td>0.06</td>\n",
       "      <td>0.07</td>\n",
       "      <td> 0.10</td>\n",
       "      <td>0.15</td>\n",
       "      <td>0.20</td>\n",
       "      <td>1.00</td>\n",
       "    </tr>\n",
       "    <tr>\n",
       "      <th>Fit Error % ($W^{-1} = 0.0E$)</th>\n",
       "      <td>-0.00</td>\n",
       "      <td>0.00</td>\n",
       "      <td>0.00</td>\n",
       "      <td>0.00</td>\n",
       "      <td>-0.00</td>\n",
       "      <td>0.00</td>\n",
       "      <td>0.00</td>\n",
       "      <td>-0.00</td>\n",
       "      <td>0.00</td>\n",
       "      <td>0.00</td>\n",
       "      <td>0.00</td>\n",
       "    </tr>\n",
       "  </tbody>\n",
       "</table></font></center>"
      ],
      "text/plain": [
       "<IPython.core.display.HTML at 0xa1c8358>"
      ]
     },
     "metadata": {},
     "output_type": "display_data"
    }
   ],
   "source": [
    "ef = [0, 2, 20]\n",
    "op, fit, d, fwd = fitSwap(a, b, ba, ef)\n",
    "\n",
    "for e, f in zip(ef, fit) : \n",
    "    df_swap[\"Fit Error %% ($W^{-1} = %.1fE$)\" % (e*2)] = (f-par)*100\n",
    "    \n",
    "fmt.displayDF(df_swap.T[:3], \"2f\")"
   ]
  },
  {
   "cell_type": "code",
   "execution_count": 11,
   "metadata": {
    "collapsed": false,
    "slideshow": {
     "slide_type": "subslide"
    }
   },
   "outputs": [
    {
     "data": {
      "image/png": "[encoded data removed]",
      "text/plain": [
       "<matplotlib.figure.Figure at 0xd771860>"
      ]
     },
     "metadata": {},
     "output_type": "display_data"
    }
   ],
   "source": [
    "figure(figsize=[12, 4])\n",
    "subplot(1, 2, 1)\n",
    "\n",
    "plot(t, op[0], '.-');\n",
    "xlabel('time (Y)')\n",
    "title('Loss Time Distribution')\n",
    "xlim(0, 26)\n",
    "\n",
    "subplot(1, 2, 2)\n",
    "plot(t[1:], np.diff(-(np.log(d[0]))), '.-')\n",
    "title('Forward Rate');\n",
    "xlabel('time (Y)')\n",
    "xlim(0, 26)\n",
    "ylim(0, .05);"
   ]
  },
  {
   "cell_type": "markdown",
   "metadata": {},
   "source": [
    "* The resulting forward rate is almost piece-wise flat\n",
    "* This validates the piece-wise flat forward rate interpolation\n",
    "  * or equivalently the linear interpolation in cumulative yield $y(t) = - \\log(b(t))$\n",
    "* The ME implied tension parameter is large"
   ]
  },
  {
   "cell_type": "markdown",
   "metadata": {
    "slideshow": {
     "slide_type": "subslide"
    }
   },
   "source": [
    "## Approximate fit\n",
    "\n",
    "Now we construct the curve using $W^{-1} = 4E$ and $40E$."
   ]
  },
  {
   "cell_type": "code",
   "execution_count": 12,
   "metadata": {
    "collapsed": false,
    "slideshow": {
     "slide_type": "-"
    }
   },
   "outputs": [
    {
     "data": {
      "text/html": [
       "<center><font size=2><table border=\"1\" class=\"dataframe\">\n",
       "  <thead>\n",
       "    <tr style=\"text-align: right;\">\n",
       "      <th></th>\n",
       "      <th>1</th>\n",
       "      <th>2</th>\n",
       "      <th>3</th>\n",
       "      <th>5</th>\n",
       "      <th>7</th>\n",
       "      <th>10</th>\n",
       "      <th>12</th>\n",
       "      <th>15</th>\n",
       "      <th>20</th>\n",
       "      <th>25</th>\n",
       "      <th>100</th>\n",
       "    </tr>\n",
       "  </thead>\n",
       "  <tbody>\n",
       "    <tr>\n",
       "      <th>Par Spread (%)</th>\n",
       "      <td> 4.20</td>\n",
       "      <td>4.30</td>\n",
       "      <td>4.70</td>\n",
       "      <td> 5.40</td>\n",
       "      <td> 5.70</td>\n",
       "      <td> 6.00</td>\n",
       "      <td> 6.10</td>\n",
       "      <td> 5.90</td>\n",
       "      <td> 5.60</td>\n",
       "      <td> 5.55</td>\n",
       "      <td> 5.55</td>\n",
       "    </tr>\n",
       "    <tr>\n",
       "      <th>Bid/Ask Spread (%)</th>\n",
       "      <td> 0.02</td>\n",
       "      <td>0.02</td>\n",
       "      <td>0.03</td>\n",
       "      <td> 0.04</td>\n",
       "      <td> 0.05</td>\n",
       "      <td> 0.06</td>\n",
       "      <td> 0.07</td>\n",
       "      <td> 0.10</td>\n",
       "      <td> 0.15</td>\n",
       "      <td> 0.20</td>\n",
       "      <td> 1.00</td>\n",
       "    </tr>\n",
       "    <tr>\n",
       "      <th>Fit Error % ($W^{-1} = 0.0E$)</th>\n",
       "      <td>-0.00</td>\n",
       "      <td>0.00</td>\n",
       "      <td>0.00</td>\n",
       "      <td> 0.00</td>\n",
       "      <td>-0.00</td>\n",
       "      <td> 0.00</td>\n",
       "      <td> 0.00</td>\n",
       "      <td>-0.00</td>\n",
       "      <td> 0.00</td>\n",
       "      <td> 0.00</td>\n",
       "      <td> 0.00</td>\n",
       "    </tr>\n",
       "    <tr>\n",
       "      <th>Fit Error % ($W^{-1} = 4.0E$)</th>\n",
       "      <td> 0.00</td>\n",
       "      <td>0.02</td>\n",
       "      <td>0.02</td>\n",
       "      <td> 0.00</td>\n",
       "      <td> 0.01</td>\n",
       "      <td>-0.02</td>\n",
       "      <td>-0.08</td>\n",
       "      <td>-0.06</td>\n",
       "      <td>-0.08</td>\n",
       "      <td>-0.30</td>\n",
       "      <td>-1.10</td>\n",
       "    </tr>\n",
       "    <tr>\n",
       "      <th>Fit Error % ($W^{-1} = 40.0E$)</th>\n",
       "      <td> 0.08</td>\n",
       "      <td>0.17</td>\n",
       "      <td>0.15</td>\n",
       "      <td>-0.02</td>\n",
       "      <td>-0.17</td>\n",
       "      <td>-0.54</td>\n",
       "      <td>-0.82</td>\n",
       "      <td>-0.98</td>\n",
       "      <td>-1.19</td>\n",
       "      <td>-1.52</td>\n",
       "      <td>-2.17</td>\n",
       "    </tr>\n",
       "  </tbody>\n",
       "</table></font></center>"
      ],
      "text/plain": [
       "<IPython.core.display.HTML at 0x9fcc358>"
      ]
     },
     "metadata": {},
     "output_type": "display_data"
    }
   ],
   "source": [
    "fmt.displayDF(df_swap.T, \"2f\")"
   ]
  },
  {
   "cell_type": "code",
   "execution_count": 13,
   "metadata": {
    "collapsed": false,
    "slideshow": {
     "slide_type": "subslide"
    }
   },
   "outputs": [
    {
     "data": {
      "image/png": "[encoded data removed]",
      "text/plain": [
       "<matplotlib.figure.Figure at 0x9ceef60>"
      ]
     },
     "metadata": {},
     "output_type": "display_data"
    }
   ],
   "source": [
    "figure(figsize=[12, 4])\n",
    "subplot(1, 2, 1)\n",
    "\n",
    "tags = map(lambda d : '$W^{-1}=%d E$' % d, np.array(ef)*2)\n",
    "\n",
    "plot(t, np.array(op).T, '.-');\n",
    "xlabel('time(Y)')\n",
    "title('Loss Time Distribution')\n",
    "xlim(0, 26)\n",
    "legend(tags)\n",
    "\n",
    "subplot(1, 2, 2)\n",
    "plot(t[:-1], np.array(fwd).T, '.-')\n",
    "xlabel('time(Y)')\n",
    "title('Forward Rate');\n",
    "legend(tags)\n",
    "xlim(0, 26)\n",
    "ylim(0, .05);"
   ]
  },
  {
   "cell_type": "markdown",
   "metadata": {},
   "source": [
    "* the resulting forward rate is still very close to piecewise flat\n",
    "* The maximum entropy principle implies large tension parameter $\\lambda$\n",
    "* Smoothness in forward rate is likely a false belief"
   ]
  },
  {
   "cell_type": "markdown",
   "metadata": {
    "slideshow": {
     "slide_type": "subslide"
    }
   },
   "source": [
    "## Arbitrage removal\n",
    "\n",
    "The market mid prices could be inconsistent and arbitrageable, \n",
    "\n",
    "* directly bootstrapping would lead to negative forward discount rate\n",
    "\n",
    "How can we adjust the market prices to remove aribitrage?\n",
    "* it is not easy as there are (infinitely) many ways to do so \n",
    "\n",
    "ME method can remove arbitrages with minimal distortion to the market:\n",
    "* with a non-zero $W^{-1}$, ME method guarantees to find an arbitrage free solution \n",
    "* the reliability of the market prices can be incorporated into $W^{-1}$"
   ]
  },
  {
   "cell_type": "markdown",
   "metadata": {
    "slideshow": {
     "slide_type": "subslide"
    }
   },
   "source": [
    "## An arbitrageable market"
   ]
  },
  {
   "cell_type": "code",
   "execution_count": 14,
   "metadata": {
    "collapsed": false,
    "slideshow": {
     "slide_type": "-"
    }
   },
   "outputs": [
    {
     "data": {
      "text/html": [
       "<center><font size=2><table border=\"1\" class=\"dataframe\">\n",
       "  <thead>\n",
       "    <tr style=\"text-align: right;\">\n",
       "      <th></th>\n",
       "      <th>1</th>\n",
       "      <th>2</th>\n",
       "      <th>3</th>\n",
       "      <th>5</th>\n",
       "      <th>7</th>\n",
       "      <th>10</th>\n",
       "      <th>12</th>\n",
       "      <th>15</th>\n",
       "      <th>20</th>\n",
       "      <th>25</th>\n",
       "      <th>100</th>\n",
       "    </tr>\n",
       "  </thead>\n",
       "  <tbody>\n",
       "    <tr>\n",
       "      <th>Par Spread (%)</th>\n",
       "      <td>    4.2</td>\n",
       "      <td>    4.3</td>\n",
       "      <td>    4.7</td>\n",
       "      <td>   5.4</td>\n",
       "      <td>    3</td>\n",
       "      <td>       6</td>\n",
       "      <td>     6.1</td>\n",
       "      <td>     5.9</td>\n",
       "      <td>    5.6</td>\n",
       "      <td>    5.55</td>\n",
       "      <td>  5.55</td>\n",
       "    </tr>\n",
       "    <tr>\n",
       "      <th>Bid/Ask Spread (%)</th>\n",
       "      <td>   0.02</td>\n",
       "      <td>   0.02</td>\n",
       "      <td>   0.03</td>\n",
       "      <td>  0.04</td>\n",
       "      <td>  0.1</td>\n",
       "      <td>    0.06</td>\n",
       "      <td>    0.07</td>\n",
       "      <td>     0.1</td>\n",
       "      <td>   0.15</td>\n",
       "      <td>     0.2</td>\n",
       "      <td>     1</td>\n",
       "    </tr>\n",
       "    <tr>\n",
       "      <th>Fit Error % ($W^{-1} = 0.2E$)</th>\n",
       "      <td>0.00351</td>\n",
       "      <td>0.00435</td>\n",
       "      <td>0.00771</td>\n",
       "      <td>-0.303</td>\n",
       "      <td>0.759</td>\n",
       "      <td>-0.00769</td>\n",
       "      <td>-0.00564</td>\n",
       "      <td>-0.00268</td>\n",
       "      <td>0.00653</td>\n",
       "      <td>-0.00438</td>\n",
       "      <td>-0.155</td>\n",
       "    </tr>\n",
       "    <tr>\n",
       "      <th>Fit Error % ($W^{-1} = 4.0E$)</th>\n",
       "      <td>0.00899</td>\n",
       "      <td> 0.0226</td>\n",
       "      <td> 0.0165</td>\n",
       "      <td>-0.282</td>\n",
       "      <td> 1.02</td>\n",
       "      <td>  -0.123</td>\n",
       "      <td>  -0.102</td>\n",
       "      <td> -0.0708</td>\n",
       "      <td>-0.0816</td>\n",
       "      <td>  -0.292</td>\n",
       "      <td> -1.08</td>\n",
       "    </tr>\n",
       "    <tr>\n",
       "      <th>Fit Error % ($W^{-1} = 40.0E$)</th>\n",
       "      <td> 0.0787</td>\n",
       "      <td>  0.147</td>\n",
       "      <td> 0.0644</td>\n",
       "      <td>-0.344</td>\n",
       "      <td> 1.85</td>\n",
       "      <td>  -0.761</td>\n",
       "      <td>  -0.963</td>\n",
       "      <td>   -1.08</td>\n",
       "      <td>  -1.25</td>\n",
       "      <td>   -1.57</td>\n",
       "      <td> -2.19</td>\n",
       "    </tr>\n",
       "  </tbody>\n",
       "</table></font></center>"
      ],
      "text/plain": [
       "<IPython.core.display.HTML at 0xd771240>"
      ]
     },
     "metadata": {},
     "output_type": "display_data"
    }
   ],
   "source": [
    "par[4] = .03\n",
    "ba[4] = .001\n",
    "a, b, t = swapCons(par, mats, freq)\n",
    "ef = [0.1, 2., 20.]\n",
    "\n",
    "df_swap_arb = pd.DataFrame(np.array([par, ba]).T*100, columns=[\"Par Spread (%)\", \"Bid/Ask Spread (%)\"], \n",
    "                       index=mats)\n",
    "\n",
    "op, fit, d, fwd = fitSwap(a, b, ba, ef)\n",
    "\n",
    "for e, f in zip(ef, fit) : \n",
    "    df_swap_arb[\"Fit Error %% ($W^{-1} = %.1fE$)\" % (e*2)] = (f-par)*100\n",
    "\n",
    "fmt.displayDF(df_swap_arb.T, \"3g\")"
   ]
  },
  {
   "cell_type": "markdown",
   "metadata": {},
   "source": [
    "* 7Y swap is clearly out of line with the rest.\n",
    "* The ME method automatically adjusts the 7Y prices with minimal distortion to other tenors."
   ]
  },
  {
   "cell_type": "markdown",
   "metadata": {
    "slideshow": {
     "slide_type": "subslide"
    }
   },
   "source": [
    "## Identify bad prices"
   ]
  },
  {
   "cell_type": "code",
   "execution_count": 15,
   "metadata": {
    "collapsed": false
   },
   "outputs": [
    {
     "data": {
      "image/png": "[encoded data removed]",
      "text/plain": [
       "<matplotlib.figure.Figure at 0xd8f81d0>"
      ]
     },
     "metadata": {},
     "output_type": "display_data"
    }
   ],
   "source": [
    "figure(figsize=[12, 4])\n",
    "subplot(1, 2, 1)\n",
    "\n",
    "tags = map(lambda d : '$W^{-1}=%.1fE$' % d, np.array(ef)*2)\n",
    "\n",
    "plot(t, np.array(op).T, '.-');\n",
    "xlabel('time(Y)')\n",
    "title('Loss Time Distribution')\n",
    "xlim(0, 25)\n",
    "legend(tags)\n",
    "\n",
    "subplot(1, 2, 2)\n",
    "plot(t[:-1], np.array(fwd).T, '.-')\n",
    "xlabel('time(Y)')\n",
    "title('Forward Rate');\n",
    "legend(tags)\n",
    "xlim(0, 25)\n",
    "ylim(0, .08);"
   ]
  },
  {
   "cell_type": "markdown",
   "metadata": {},
   "source": [
    "* The resulting ME distribution also identifies the bad 7Y price\n",
    "* We can adjust the $W^{-1}$ to reduce the impact of bad prices"
   ]
  },
  {
   "cell_type": "markdown",
   "metadata": {
    "slideshow": {
     "slide_type": "subslide"
    }
   },
   "source": [
    "## Summary of maximum entropy\n",
    "\n",
    "The maximum entropy method is elegant and powerful \n",
    "* effective in dealing with partial information and incomplete market\n",
    "* bring many types of problems into a consistent framework\n",
    "\n",
    "Main limitations:\n",
    "* all possible outcomes has to be enumerated, not good for high dimensionality\n",
    "* it is static, and does not give useful insight on the dynamics\n",
    "\n",
    "\n",
    "The ME problem and solution are measure dependent\n",
    "* e.g., results are different between spot measure and forward measure"
   ]
  },
  {
   "cell_type": "markdown",
   "metadata": {
    "slideshow": {
     "slide_type": "slide"
    }
   },
   "source": [
    "# Risk Capital Allocation\n",
    "\n",
    "Brit Hume: Fairness is not an attitude. It's a professional skill that must be developed and exercised."
   ]
  },
  {
   "cell_type": "markdown",
   "metadata": {
    "slideshow": {
     "slide_type": "subslide"
    }
   },
   "source": [
    "## Bank's trading book\n",
    "\n",
    "<center>\n",
    "<img src=\"img/banktree.png\" width=600 height=400>\n",
    "</center>\n",
    "\n",
    "* The trading book hierarchy is well defined and stable over time\n",
    "* Leaf nodes are the lowest level books, only containing individual trades, but not books"
   ]
  },
  {
   "cell_type": "markdown",
   "metadata": {
    "slideshow": {
     "slide_type": "subslide"
    }
   },
   "source": [
    "## Diversification benefits\n",
    "\n",
    "$\\bs w = \\sum_i \\bs w_i$ is the company's whole portfolio ($\\bs w$ has all the assets in the universe)\n",
    "* $\\bs w_i$ is the notional vector of the i-th business unit\n",
    "* $\\bs w_i$ could represent a single trade in the ultimate granularity\n",
    "\n",
    "$c(\\cdot)$ is a cost function of a portfolio:\n",
    "* $c(\\bs w) = c\\left(\\sum_i \\bs w_i\\right)$ is the cost of the whole company\n",
    "* $c(\\bs w_i)$ is the standalone cost of the i-th business unit of the company\n",
    "* risk capital is the most important cost functions, such as VaR, IRC\n",
    "\n",
    "For most risk capital metrics: $c\\left(\\sum_i \\bs w_i\\right) < \\sum_i c(\\bs w_i)$\n",
    "* because of the diversification/hedging benefits\n",
    "* total diversification benefits is therefore $\\sum_i c(\\bs w_i) - c\\left(\\sum_i \\bs w_i\\right)$"
   ]
  },
  {
   "cell_type": "markdown",
   "metadata": {
    "slideshow": {
     "slide_type": "subslide"
    }
   },
   "source": [
    "## Allocation problem\n",
    "\n",
    "How to divide the firm's total $c(\\bs w)$ to individual business in an additive manner?\n",
    "* allocated cost $\\xi_i$: $c(\\sum_i \\bs w_i) = \\sum_i \\xi_i$ by definition.\n",
    "* The core of the allocation problem is the fair distribution of diversification benefits\n",
    "  * $c(\\bs w_i) - \\xi_i$ is the diversification benefit allocated to the i-th business unit\n",
    "* In practice, allocation runs all the way down to individual trades"
   ]
  },
  {
   "cell_type": "markdown",
   "metadata": {
    "slideshow": {
     "slide_type": "subslide"
    }
   },
   "source": [
    "## Importance of allocation\n",
    "\n",
    "Business performance is measured by return on capital (ROC)\n",
    "* ROC is computed using allocated capital $\\xi_i$, not the standalone capital $c(\\bs w_i)$\n",
    "* certain business is only viable as part of a bank as $\\xi_i < c(\\bs w_i)$\n",
    "\n",
    "Business incentive is a critical consideration.\n",
    "* allocated capital is actively managed by business heads\n",
    "* allocation method directly affects trading desks' behaviour\n",
    "* allocation method should incentivize risk reduction\n",
    "  * a business unit's action to reduce the firm's overall risk should also reduce its own allocation"
   ]
  },
  {
   "cell_type": "markdown",
   "metadata": {
    "slideshow": {
     "slide_type": "subslide"
    }
   },
   "source": [
    "## Replacement cost\n",
    "\n",
    "We use **replacement cost** as an example to illustrate allocation methods:\n",
    "\n",
    "$$ \\rc(\\bs w) = \\max(\\bs w^T \\bs v, 0)$$\n",
    "\n",
    "* $\\bs v$ is the PV vector of all tradable instruments (per unit notional)\n",
    "* $\\bs w^T \\bs v$ is the portfolio's total PV\n",
    "\n",
    "Replacement cost is the aggregated PV of the portfolio against a particular counterparty, floored at 0 (if you owe money to your counterparty, no cost for this portfolio) \n",
    "* part of the Basel 3 leveraged balance sheet capital \n",
    "* it is a measure of marked-to-market loss if the counterparty defaults"
   ]
  },
  {
   "cell_type": "markdown",
   "metadata": {
    "slideshow": {
     "slide_type": "subslide"
    }
   },
   "source": [
    "## A simple example\n",
    "\n",
    "A bank has only three trade against a counterparty, their PVs are: $ a = 12, b = 24, c = -24$\n",
    "* The bank's total replacement cost is therefore: \n",
    "$$\\rc(a + b + c) = \\max(12 + 24 - 24, 0) = 12$$\n",
    "* Diversification benefits: \n",
    "$$\n",
    "\\rc(a) + \\rc(b) + \\rc(c) - \\rc(a+b+c)\n",
    "= 12 + 24 + 0 - 12 = 24$$"
   ]
  },
  {
   "cell_type": "markdown",
   "metadata": {
    "slideshow": {
     "slide_type": "subslide"
    }
   },
   "source": [
    "## Standalone allocation\n",
    "\n",
    "The simplest allocation strategy, allocation proportional to the standalone cost:\n",
    "\n",
    "$$ \\xi_i = \\frac{c(\\bs w_i)}{\\sum_i c(\\bs w_i)} c(\\sum_i \\bs w_i) $$\n",
    "\n",
    "Standalone allocation results:\n",
    "\n",
    "|  | A | B | C | Total |\n",
    "| :--: | :--: | :--: | :--: |\n",
    "| PV | 12 | 24 | -24 | 12 |\n",
    "| Standalone RC | 12 | 24 | 0 | 36 |\n",
    "| Standalone allocation | 4 | 8 | 0 | 12 |\n",
    "\n",
    "* commonly used in practice\n",
    "* not intrinsically additive, need the ad hoc scaling factor\n",
    "* gives wrong business incentives (more on this later)"
   ]
  },
  {
   "cell_type": "markdown",
   "metadata": {
    "slideshow": {
     "slide_type": "subslide"
    }
   },
   "source": [
    "## A model for fairness\n",
    "\n",
    "In cooperative game theory, fairness is modeled by the following axioms:\n",
    "\n",
    "* efficiency: allocations sum up to total\n",
    "* symmetry: if two units' contribution are identical to any arbitrary subsets of units, their allocations are the same\n",
    "* linearity: allocation of sums equals to the sum of allocations\n",
    "* null: if a unit has no contribution to any subsets, it has 0 allocation\n",
    "\n",
    "Shapley allocation is the **only** fair allocation method:\n",
    "\n",
    "* A unit's allocation equals to the average of its marginal contributions over all possible permutations\n",
    "\n",
    "Developed in 1960s, Sir L. Shapley received the 2012 Nobel prize."
   ]
  },
  {
   "cell_type": "markdown",
   "metadata": {
    "slideshow": {
     "slide_type": "subslide"
    }
   },
   "source": [
    "## Shapley allocation example\n",
    "\n",
    "| Permutations | Cumulative RC | A | B | C |\n",
    "| :---: | :---: | :---: | :---: | :---: |\n",
    "| A=12, B=24, C=-24 | 12, 36, 12  | 12 | 24 | -24  \n",
    "| A=12, C=-24, B=24 | 12, 0, 12 | 12 |\t12 | -12 | \n",
    "| B=24, C=-24, A=12 |\t24, 0, 12 \t| 12 |\t24 |\t-24 | \n",
    "| C=-24, B=24, A=12 |\t0, 0, 12 \t| 12 |\t0 |\t0 | \n",
    "| B=24, A=12, C=-24 |\t24, 36, 12 |\t12 \t|24 \t|-24 | \n",
    "| C=-24, A=12, B=24 |\t0, 0, 12 \t| 0 |\t12 |\t0 |\n",
    "|| Averages |\t10 |\t16 |\t-14 | \n",
    "\n",
    "Shapley allocation allocates the incremental cost to the trade that makes it happen.\n",
    "\n",
    "Shapley allocation is additive by construction\n",
    "* no need for any ad hoc scaling factors \n",
    "\n",
    "Shapley allocation is computationally expensive\n",
    "* requires Monte Carlo simulation for any non-trivial allocaiton problems\n",
    "* e.g. the total number of permutation for 10 units is $10! = 3,628,800$"
   ]
  },
  {
   "cell_type": "markdown",
   "metadata": {
    "slideshow": {
     "slide_type": "subslide"
    }
   },
   "source": [
    "## Associativity\n",
    "\n",
    "Associativity means a top-down application of the allocation yields identical results as a bottom-up application:\n",
    "\n",
    "<center>\n",
    "<img src=\"img/assoc.png\" width=400 height=400>\n",
    "</center>"
   ]
  },
  {
   "cell_type": "markdown",
   "metadata": {
    "slideshow": {
     "slide_type": "subslide"
    }
   },
   "source": [
    "Neither standalone nor Shapley allocation is associative:\n",
    "\n",
    "| | allocation to [A] | allocation to [BC] |\n",
    "| :---:| :---:| :---:\n",
    "| Top-down | 12 | 0 |\n",
    "| Standalone bottom-up | 4 | 8 |\n",
    "| Shapley bottom-up | 10 | 2 |\n",
    "\n",
    "Shapley bottom-up [BC] = 16-14 = 2\n",
    "\n",
    "Associativity is critical in practice:\n",
    "* Without it, the allocation algorithm is vulnerable to manipulations via trade rebooking.\n",
    "\n",
    "The direction of attack:\n",
    "* Tweak the Shapley allocation to make it associative"
   ]
  },
  {
   "cell_type": "markdown",
   "metadata": {
    "slideshow": {
     "slide_type": "subslide"
    }
   },
   "source": [
    "## Aumann-Shapley allocation\n",
    "\n",
    "A continuous limit of the Shapley allocation with allocation units being trades with infinitesimal notionals. \n",
    "\n",
    "$$\\bs u^T = \\int_0^1 \\frac{\\partial c(q\\bs w)}{\\partial (q \\bs w)} dq \n",
    "\\iff u_k = \\int_0^1 \\frac{\\partial c(q\\bs w)}{\\partial (q w_k)} dq \n",
    "$$\n",
    "\n",
    "* $q$ is between 0 and 1\n",
    "* $\\bs u$ is the allocation per unit notional of instruments\n",
    "* the allocation to individual trades in the i-th unit are $\\bs u \\odot \\bs w_i$\n",
    "* the allocation to a portfolio is therefore $\\xi_i = \\bs u^T \\bs w_i$.\n",
    "* Associative by construction: inherited from vector summation\n",
    "\n",
    "A-S allocation is much more efficient to compute than Shapley allocation."
   ]
  },
  {
   "cell_type": "markdown",
   "metadata": {
    "slideshow": {
     "slide_type": "subslide"
    }
   },
   "source": [
    "## The big blender\n",
    "\n",
    "Conceptually the A-S allocation, \n",
    "$\\bs u^T = \\int_0^1 \\frac{\\partial c(q\\bs w)}{\\partial (q \\bs w)} dq $, \n",
    " is a big blender:\n",
    "\n",
    "\n",
    "<img src=\"img/bigblender.png\" width=200 height=200>\n",
    "\n",
    "\n",
    "* all organizational information are lost\n",
    "* the allocation is computed from a homogenous soup of trades"
   ]
  },
  {
   "cell_type": "markdown",
   "metadata": {
    "slideshow": {
     "slide_type": "subslide"
    }
   },
   "source": [
    "## Additivity of Aumann-Shapley\n",
    "\n",
    "The A-S allocation is additive by construction:\n",
    "\n",
    "$$\\begin{array}\n",
    "\\\\ \\sum_i \\xi_i &= \\sum_i \\bs u^T \\bs w_i = \\bs u^T \\bs w \\\\\n",
    "&= \\int_0^1 \\frac{\\partial c(q\\bs w)}{\\partial (q \\bs w)} \\bs w \\; dq = \\int_0^1 \\frac{\\partial c(q\\bs w)}{\\partial (q \\bs w)} \\frac{\\partial (q \\bs w)}{\\partial q} \\; dq \\\\\n",
    "&= \\int_0^1 d c(q\\bs w) = c(\\bs w) - c(\\bs 0)\n",
    "\\end{array}$$\n",
    "\n",
    "* it is customary to define $c(\\bs 0) = 0$, ie, empty portfolio should have zero risk or capital cost."
   ]
  },
  {
   "cell_type": "markdown",
   "metadata": {
    "slideshow": {
     "slide_type": "subslide"
    }
   },
   "source": [
    "## Euler allocation\n",
    "\n",
    "If the cost function is homogeneous, ie, $c(q \\bs w) = q c(\\bs w)$, the A-S allocation reduces to the Euler allocation:\n",
    "\n",
    "$$ \\bs u^T = \\int_0^1 \\frac{\\partial c(q\\bs w)}{\\partial (q \\bs w)} dq = \\int_0^1 \\frac{\\partial c(\\bs w)} { \\partial \\bs w} dq  = \\frac{ \\partial c(\\bs w)} {\\partial \\bs w} $$\n",
    "\n",
    "* In practice, most risk capital metrics are homogeneous\n",
    "* Euler allocation is by trades' marginal contribution\n",
    "* A-S/Euler allocation are computationtally efficient\n",
    "  * no need for Monte Carlo"
   ]
  },
  {
   "cell_type": "markdown",
   "metadata": {
    "slideshow": {
     "slide_type": "subslide"
    }
   },
   "source": [
    "## Euler allocation of replacement cost\n",
    "\n",
    "$$ \\bs u^T = \\frac{\\partial \\rc(\\bs w)}{\\partial \\bs w} \n",
    "= \\frac{\\partial \\max(\\bs w^T \\bs v, 0)}{\\partial \\bs w}\n",
    "= \\ind(\\bs w^T \\bs v > 0) \\bs v^T\n",
    "$$\n",
    "\n",
    "* $\\frac{d}{dx} \\max(x, 0) = \\ind(x > 0)$, where $\\ind(\\cdot)$ is the indicator function\n",
    "* the allocation is trade's MtM if the total PV is positive, otherwise 0\n",
    "* it is indeed associative, the sum of allocation to B and C is 0\n",
    "\n",
    "|  | A | B | C | Total |\n",
    "| :--: | :--: | :--: | :--: |:--: |\n",
    "| A-S/Euler Allocation | 12 | 24 | -24 | 12 |"
   ]
  },
  {
   "cell_type": "markdown",
   "metadata": {
    "slideshow": {
     "slide_type": "subslide"
    }
   },
   "source": [
    "## Perverse incentives\n",
    "\n",
    "* A-S allocation could produce perverse incentives in practice\n",
    "* A consequence of using infitesimal sized allocation unit\n",
    "* Fairness depends on organization\n",
    "\n",
    "Consider replacement cost of a bank with two trading desks X and Y:\n",
    "\n",
    "| Day | X PV | Y PV | Banks RC | A-S/Euler Allocation |\n",
    "| :---: | :---: | :---: | :---: | :---: |\n",
    "| 1 | 12 | -10 | 2 | X=12, Y=-10 |\n",
    "| 2 | 12 | -14 | 0 | X=0, Y=0 |\n",
    "\n",
    "  * Y gets penalized for reducing the bank’s overall RC to 0\n",
    "  * X gets a big reduction in capital allocation without doing anything"
   ]
  },
  {
   "cell_type": "markdown",
   "metadata": {
    "slideshow": {
     "slide_type": "subslide"
    }
   },
   "source": [
    "## What's wrong with Shapley?\n",
    "\n",
    "* The associativity is broken by two permutations that violates the bank’s organizational constraint.\n",
    "* If we remove the two offending permutations from averaging, the Shapley allocation becomes associative.\n",
    "\n",
    "| Permutations | Cumulative RC | A | B | C |\n",
    "| :---: | :---: | :---: | :---: | :---: |\n",
    "| A=12, B=24, C=-24 | 12, 36, 12  | 12 | 24 | -24  \n",
    "| A=12, C=-24, B=24 | 12, 0, 12 | 12 |\t12 | -12 | \n",
    "| B=24, C=-24, A=12 |\t24, 0, 12 \t| 12 |\t24 |\t-24 | \n",
    "| C=-24, B=24, A=12 |\t0, 0, 12 \t| 12 |\t0 |\t0 | \n",
    "| B=24, <font color=red> A=12</font>, C=-24 |\t24, 36, 12 |\t12 \t|24 \t|-24 | \n",
    "| C=-24, <font color=red> A=12</font>, B=24 |\t0, 0, 12 \t| 0 |\t12 |\t0 |\n",
    "| **Averages** | **of all**|\t10 |\t16 |\t-14 | \n",
    "| **Averages** | **of admissibles** | 12 | 15 | -15 |\n",
    "\n"
   ]
  },
  {
   "cell_type": "markdown",
   "metadata": {
    "slideshow": {
     "slide_type": "subslide"
    }
   },
   "source": [
    "## Constrained Shapley\n",
    "\n",
    "A unit’s allocation equals its average incremental contribution, where the average is taken over all the permutations that are admissible under the organizational constraints. \n",
    "\n",
    "<center>\n",
    "<img src=\"img/banktree.png\" width=600 height=400>\n",
    "</center>\n",
    "\n",
    "Admissible permutations:\n",
    "\n",
    "* All permutations are admissible for nodes with the same parent \n",
    "* A branch (i.e. a node and all of its descendents) has to be permuted as a whole."
   ]
  },
  {
   "cell_type": "markdown",
   "metadata": {
    "slideshow": {
     "slide_type": "subslide"
    }
   },
   "source": [
    "\n",
    "\n",
    "|Admissible Permutations|Inadmissible Permutations|\n",
    "|:---:|:----:|\n",
    "| <img src=\"img/alloc-adm1.png\" width=400> </br> <img src=\"img/alloc-adm2.png\" width=400>|  <img src=\"img/alloc-inadm1.png\" width=400> </br> <img src=\"img/alloc-inadm2.png\" width=400>|\n",
    "\n",
    "* mixing trades from different leaf nodes also lead to inadmissible permutations"
   ]
  },
  {
   "cell_type": "markdown",
   "metadata": {
    "slideshow": {
     "slide_type": "subslide"
    }
   },
   "source": [
    "## Correct incentives\n",
    "\n",
    "The constrained Shapley is additive and associtive by construction, it gives the right incentives:\n",
    "\n",
    "| Day | X PV | Y PV | Banks RC | C-Shapley Allocation |\n",
    "| :---: | :---: | :---: | :---: | :---: |\n",
    "| 1 | 12 | -10 | 2 | X=7, Y=-5 |\n",
    "| 2 | 12 | -14 | 0 | X=6, Y=-6 |\n",
    "\n",
    "* C-Shapley allocation gives the correct incentive for Y to reduce the overall bank’s RC."
   ]
  },
  {
   "cell_type": "markdown",
   "metadata": {
    "slideshow": {
     "slide_type": "subslide"
    }
   },
   "source": [
    "## C-Shapley features\n",
    "\n",
    "Advantages of C-Shapley:\n",
    "\n",
    "* additive and associative by construction\n",
    "* gives the right business incentive\n",
    "\n",
    "However, it is still computationally expensive:\n",
    "\n",
    "* Impossible to exhaust all admissible permutations\n",
    "* Monte Carlo permutation of large number of trades is challenging\n",
    "\n",
    "Constrained Aumman-Shapley (CAS) is a continuous extension to C-Shapley:\n",
    "* computationally efficient\n",
    "* equivalent to C-Shapley on all nodes, different only in the allocation to individual trades"
   ]
  },
  {
   "cell_type": "markdown",
   "metadata": {
    "slideshow": {
     "slide_type": "subslide"
    }
   },
   "source": [
    "## Business incentives\n",
    "\n",
    "We take the following simple bank as an example:\n",
    "\n",
    "<img src=\"img/alloc-abc.png\" width=300> \n",
    "\n",
    "The covariance matrix between the returns of three businesses are:\n",
    "\n",
    "|  | A | B | C |\n",
    "| :--: | :--: | :--: | :--: |\n",
    "| A | 1 | 0.65 | -0.9 |\n",
    "| B | 0.65 | 1 | -0.9 |\n",
    "| C | -0.9 | -0.9 | 1 | \n",
    "\n",
    "We then scale the size of business C and see what happens to the firm's total VaR and its VaR allocations."
   ]
  },
  {
   "cell_type": "markdown",
   "metadata": {
    "slideshow": {
     "slide_type": "subslide"
    }
   },
   "source": [
    "## Allocation comparison\n",
    "\n",
    "<table style=\"border-style:hidden\">\n",
    "<tr style=\"border-style:hidden\">\n",
    "\n",
    "<td style=\"border-style:hidden\"><img src=\"img/alloc-standalone.png\" width=300></td><td style=\"border-style:hidden\"><img src=\"img/alloc-euler.png\" width=300></td><td style=\"border-style:hidden\"><img src=\"img/alloc-cas.png\" width=300></td>\n",
    "\n",
    "</tr>\n",
    "</table>\n",
    "\n",
    "* Yellow region: increasing C reduces firm's overall VaR\n",
    "* Standalone allocation failed to recognize and reward hedges\n",
    "* Euler allocation failed to distribute diversification benefits\n",
    "* Euler allocation is unstable\n",
    "* Only C-S/CAS recognizes the main driver of the risk"
   ]
  },
  {
   "cell_type": "markdown",
   "metadata": {
    "slideshow": {
     "slide_type": "subslide"
    }
   },
   "source": [
    "## Allocation summary\n",
    "\n",
    "| Criteria | C-S/CAS | A-S/Euler | Shapley | Standalone |\n",
    "| :---: | :---: | :---: | :---: | :---: |\n",
    "| Associativity | yes | yes | <font color=red> no </font> | <font color=red> no </font> |\n",
    "| Negative allocations for hedges | yes | yes | yes | <font color=red> no </font> |\n",
    "| Stability | good | <font color=red> poor </font> | good | best |\n",
    "| Predict marginal changes | good | best | good | <font color=red> poor </font> |\n",
    "| Distribute diversification benefits | yes | <font color=red> no </font> | yes | yes |\n",
    "| Recognize main risk driver | best | good | best | <font color=red> poor </font> |\n",
    "| Computational speed | good | good | <font color=red> poor </font> | best |\n",
    "\n",
    "\n",
    "C-Shapley/CAS allocation:\n",
    "* stands out with the best set of features\n",
    "* a candidate for universal risk capital allocation method\n",
    "  * applicable to a wide variety of risk capital metrics in banks\n",
    "  * applicable to the risk allocations of multiple trading strategies"
   ]
  },
  {
   "cell_type": "markdown",
   "metadata": {
    "slideshow": {
     "slide_type": "subslide"
    }
   },
   "source": [
    "## Achieve the impossible\n",
    "\n",
    "Change allocation methodology is almost mission impossible:\n",
    "* zero-sum: a desk's gain is another desk's loss\n",
    "* it affects the interests and livelihood of every business unit\n",
    "* diffcult to build consensus amongst business units with conflicting interests\n",
    "\n",
    "The only way to implement the change is to:\n",
    "* establish a theoreticaly sound methodology that is impossible to argue against (C-Shapley/CAS)\n",
    "* explain the methodology to every business unit, and ask business heads to document their objections\n",
    "  * \"I don't like my allocation\" is not a good objection\n",
    "* the process takes time and effort"
   ]
  },
  {
   "cell_type": "markdown",
   "metadata": {
    "slideshow": {
     "slide_type": "slide"
    }
   },
   "source": [
    "optional \n",
    "\n",
    "# Constrained Aumman-Shapley"
   ]
  },
  {
   "cell_type": "markdown",
   "metadata": {
    "slideshow": {
     "slide_type": "subslide"
    }
   },
   "source": [
    "## Constrained Aumman-Shapley\n",
    "\n",
    "<img src=\"img/cas.png\" height=500 width=500>\n",
    "\n",
    "* Constrained Aumman-Shapley (CAS) is a continuous generaization of the C-Shapley allocation\n",
    "* Conceptually it is a small blender, that works within the organizational boundary"
   ]
  },
  {
   "cell_type": "markdown",
   "metadata": {
    "slideshow": {
     "slide_type": "subslide"
    }
   },
   "source": [
    "## CAS allocation\n",
    "\n",
    "The allocation per unit notional for trades in the portfolio B, conditioned on an admissible permutation is:\n",
    "\n",
    "$$ \\bs u^T(\\bs w_B |\\bs w_A) = \\int_0^1 \\frac{\\partial c(\\bs w_A + q\\bs w_B)}{\\partial (q \\bs w_B)} dq $$\n",
    "\n",
    "The unconditional CAS allocation per unit notional for leaf node B is:\n",
    "\n",
    "$$\\bs u^T(\\bs w_B) = \\mathbb{E}\\left[\\bs u^T(\\bs w_B | \\bs w_A)\\right]$$, \n",
    "\n",
    "* the expectation is taken over all admissible permutations (i.e., all $\\bs w_A$)\n",
    "* the allocation for each trade in B is therefore $\\bs u(\\bs w_B) \\odot \\bs w_B$\n",
    "* the allocation for the portfolio B is $\\bs u^T(\\bs w_B) \\bs w_B$"
   ]
  },
  {
   "cell_type": "markdown",
   "metadata": {
    "slideshow": {
     "slide_type": "subslide"
    }
   },
   "source": [
    "## CAS features\n",
    "\n",
    "* Identical to C-Shapley for all nodes, only differ in individual trades\n",
    "* Additive, for each admissible permutation:\n",
    "\n",
    "$$\\begin{array}{l}\n",
    "\\bs u^T(\\bs w_B | \\bs w_A) \\bs w_B &= \\int_0^1 \\frac{\\partial c(\\bs w_A + q\\bs w_B)}{\\partial (q \\bs w_B)} \\bs w_B dq =  \\int_0^1 \\frac{\\partial c(\\bs w_A + q\\bs w_B)}{\\partial (q \\bs w_B)} \\frac{\\partial (q \\bs w_B)}{\\partial q} dq \\\\\n",
    "&= \\int_0^1 d c(\\bs w_A + q \\bs w_B) = c(\\bs w_A + \\bs w_B) - c (\\bs w_A)\n",
    "\\end{array}$$\n",
    "\n",
    "* Associative, follows that of the C-Shapley\n",
    "\n",
    "We will show later that CAS is:\n",
    "* Computationally efficient \n",
    "* Gives the right business incentives"
   ]
  },
  {
   "cell_type": "markdown",
   "metadata": {
    "slideshow": {
     "slide_type": "subslide"
    }
   },
   "source": [
    "## Separability\n",
    "\n",
    "The cost function is separable if\n",
    "\n",
    "$$ \\frac{\\partial c(\\bs w_A + q\\bs w_B)}{\\partial (q \\bs w_B)} = \\bs a^T(\\bs w_A + q\\bs w_B) S $$\n",
    "\n",
    "* $\\bs a$ is a vector of the portfolio level parameters only\n",
    "* $S$ is a matrix that only depends on individual trade's characteristics\n",
    "\n",
    "Vast majority of risk capital metrics are separable:\n",
    "* VaR and VaR variants like IRC, CRM\n",
    "* Expected shortfall\n",
    "* Replacement cost"
   ]
  },
  {
   "cell_type": "markdown",
   "metadata": {
    "slideshow": {
     "slide_type": "subslide"
    }
   },
   "source": [
    "## Separate replacement cost\n",
    "\n",
    "$$\\begin{array}{l}\n",
    "\\frac{\\partial }{\\partial (q \\bs w_B)} \\rc(\\bs w_A + q \\bs w_B) &= \\frac{\\partial }{\\partial (q \\bs w_B)} \\max\\left((\\bs w_A + q \\bs w_B)^T \\bs v, 0 \\right) \\\\\n",
    "&= \\ind ((\\bs w_A + q \\bs w_B)^T \\bs v > 0) \\bs  v^T  \n",
    "\\end{array}$$\n",
    "\n",
    "* $\\ind \\left((\\bs w_A + q \\bs w_B)^T \\bs v > 0\\right)$ is only a function of the portfolio PV\n",
    "* $\\bs v$ is a vector of individual instrument's PV (per unit notional)"
   ]
  },
  {
   "cell_type": "markdown",
   "metadata": {
    "slideshow": {
     "slide_type": "subslide"
    }
   },
   "source": [
    "## Efficiency and separability\n",
    "\n",
    "For separable metrics, CAS allocation reduces to:\n",
    "\n",
    "$$\\mathbb{E}\\left[\\bs u^T(\\bs w_B | \\bs w_A)\\right] = \\mathbb{E}\\left[\\int_0^1 \\frac{\\partial c(\\bs w_A + q\\bs w_B)}{\\partial (q \\bs w_B )} dq \\right] = \\mathbb{E}\\left[\\int_0^1 \\bs a^T(\\bs w_A + q\\bs w_B) dq \\right] S $$\n",
    "\n",
    "* Being independent of $\\bs w_A$ or $q$, $S$ can be pulled out of the expectation."
   ]
  },
  {
   "cell_type": "markdown",
   "metadata": {
    "slideshow": {
     "slide_type": "subslide"
    }
   },
   "source": [
    "With separability, CAS allocation is extremely efficient:\n",
    "1. Simulate $\\bs a(\\bs w_B) = \\mathbb{E}\\left[\\int_0^1 \\bs a(\\bs w_A + q\\bs w_B) dq\\right]$\n",
    "  * only sample leaf nodes' permutations\n",
    "  * no need to permute and track individual trades \n",
    "  * many orders of magnitude faster, millions of trades vs. thousands of leaf nodes\n",
    "2. The product $\\bs a^T(\\bs w_B) S$ can be done cheaply as a second step"
   ]
  },
  {
   "cell_type": "markdown",
   "metadata": {
    "slideshow": {
     "slide_type": "subslide"
    }
   },
   "source": [
    "## Value at Risk\n",
    "\n",
    "Value at risk (VaR) is a quantile measure of the portfolio's risk. \n",
    "\n",
    "* If a portfolio's 10-day 99% VaR is \\$10M, then the probabilty for the portfolio to lose more than \\$10M in 10 days is 1%.\n",
    "* It is the most important and widely quoted risk management metric\n",
    "\n",
    "\n",
    "Mathematically VaR is a quantile measure:\n",
    "$$\\renewcommand{rv}{\\tilde{\\bs v}}$$\n",
    "\n",
    "$$ \\mathbb{P}[\\bs w^T \\rv > \\text{VaR}_\\alpha] = \\alpha $$\n",
    "\n",
    "* VaR is communicate as a positive number despite being a loss\n",
    "* We write $\\text{VaR} < 0$ and use $|\\text{VaR}|$ explicitly when needed\n",
    "* $\\alpha$ is the quantile, like 99%\n",
    "* $\\bs w$ is the portfolio's notional vector of instruments, \n",
    "* $\\rv$ is the PV **change** of a unit notional instrument over the 10-day period, it is a random vector\n",
    "* The above equation explicitly defined a $\\text{VaR}_\\alpha(\\bs w)$ function"
   ]
  },
  {
   "cell_type": "markdown",
   "metadata": {
    "slideshow": {
     "slide_type": "subslide"
    }
   },
   "source": [
    "## Computing VaR:\n",
    "\n",
    "* Historical simulation: replay historical 10-day returns of all risk factors on today's portfolio\n",
    "* Model simulation: build risk factor models using historical data and simulate many scenarios from the model"
   ]
  },
  {
   "cell_type": "markdown",
   "metadata": {
    "slideshow": {
     "slide_type": "subslide"
    }
   },
   "source": [
    "## Marginal contribution to VaR:\n",
    "\n",
    "A useful relationship:\n",
    "$$\n",
    "\\frac{\\partial \\v}{\\partial \\bs w} = \\mathbb{E}[\\rv^T | \\bs w^T \\rv = \\v]\n",
    "$$\n",
    "\n",
    "which can be derived as:\n",
    "\n",
    "$$\\small \\begin{array}\n",
    "\\\\ 0 &= \\frac{\\partial}{\\partial \\bs w} \\mathbb{P}\\left[\\bs w^T \\rv > \\v \\right] = \n",
    "\\frac{\\partial}{\\partial \\bs w} \\mathbb{E}\\left[\\ind(\\bs w^T \\rv - \\v > 0)\\right] \\\\\n",
    "&= \\mathbb{E}\\left[\\frac{\\partial}{\\partial \\bs w} \\ind (\\bs w^T \\rv - \\v > 0)\\right] \n",
    "= \\mathbb{E}\\left[ \\delta (\\bs w^T \\rv - \\v) (\\rv^T  - \\frac{\\partial \\v}{\\partial \\bs w})\\right] \\\\\n",
    "&= \\mathbb{E}\\left[\\rv^T - \\frac{\\partial \\v}{\\partial \\bs w} \\vert \\bs w^T \\rv = \\v\\right]\n",
    "= \\mathbb{E}\\left[\\rv^T \\vert \\bs w^T \\rv = \\v\\right]  - \\frac{\\partial \\v}{\\partial \\bs w}\n",
    "\\end{array}$$\n",
    "\n",
    "* $\\ind(x)$ is the indicator function, $\\frac{d}{dx}\\ind(x>0) = \\delta(x)$\n",
    "* $\\delta(x)$ is the Dirac's delta function, with $\\intr f(x) \\delta(c) dx = f(c)$"
   ]
  },
  {
   "cell_type": "markdown",
   "metadata": {
    "slideshow": {
     "slide_type": "subslide"
    }
   },
   "source": [
    "## Separability of VaR\n",
    "\n",
    "The VaR can be written in a separable form using its marginal contribution:\n",
    "\n",
    "$$\\begin{array}{l}\n",
    "\\frac{\\partial \\v (\\bs w_A + q \\bs w_B)}{\\partial (q \\bs w_B)} &= \\mathbb{E}[\\rv^T | (\\bs w_A + q\\bs w_B)^T \\rv = \\v] \\\\\n",
    "&= \\bs k^T(\\bs w_A + q\\bs w_B) V\n",
    "\\end{array}$$\n",
    "\n",
    "The first equality can be proved similarly using the steps in the previous slide.\n",
    "* $\\bs k^T$ is a <a href=http://faculty.washington.edu/ezivot/econ589/risk_technical_0806_epperlein.pdf>Gaussian Kernel</a>\n",
    "* $V$ is a matrix of the historical 10-day PnL for all the individual trades"
   ]
  },
  {
   "cell_type": "markdown",
   "metadata": {
    "slideshow": {
     "slide_type": "slide"
    }
   },
   "source": [
    "# Assignments\n",
    "\n",
    "Homework\n",
    "\n",
    "* Complete [homework set 10](http://yadongli.github.io/nyumath2048/)"
   ]
  }
 ],
 "metadata": {
  "celltoolbar": "Slideshow",
  "kernelspec": {
   "display_name": "Python 2",
   "language": "python",
   "name": "python2"
  },
  "language_info": {
   "codemirror_mode": {
    "name": "ipython",
    "version": 2
   },
   "file_extension": ".py",
   "mimetype": "text/x-python",
   "name": "python",
   "nbconvert_exporter": "python",
   "pygments_lexer": "ipython2",
   "version": "2.7.10"
  }
 },
 "nbformat": 4,
 "nbformat_minor": 0
}
